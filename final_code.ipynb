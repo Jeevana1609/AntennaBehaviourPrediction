{
 "cells": [
  {
   "cell_type": "code",
   "execution_count": 69,
   "id": "64952352",
   "metadata": {},
   "outputs": [],
   "source": [
    "import pandas as pd\n",
    "import numpy as np\n",
    "import matplotlib.pyplot as plt"
   ]
  },
  {
   "cell_type": "code",
   "execution_count": 70,
   "id": "b7888a33",
   "metadata": {},
   "outputs": [
    {
     "data": {
      "text/html": [
       "<div>\n",
       "<style scoped>\n",
       "    .dataframe tbody tr th:only-of-type {\n",
       "        vertical-align: middle;\n",
       "    }\n",
       "\n",
       "    .dataframe tbody tr th {\n",
       "        vertical-align: top;\n",
       "    }\n",
       "\n",
       "    .dataframe thead th {\n",
       "        text-align: right;\n",
       "    }\n",
       "</style>\n",
       "<table border=\"1\" class=\"dataframe\">\n",
       "  <thead>\n",
       "    <tr style=\"text-align: right;\">\n",
       "      <th></th>\n",
       "      <th>Frequency(GHz) (f)</th>\n",
       "      <th>Dipole_length (L)</th>\n",
       "      <th>Impedance (z)</th>\n",
       "      <th>Wire Radius(mm) (rho)</th>\n",
       "      <th>Radius of curvature (m) (a)</th>\n",
       "      <th>Curved surface height(m) (h)</th>\n",
       "      <th>Angle(theta)</th>\n",
       "      <th>Distance(m) (d)</th>\n",
       "      <th>Relative_Permittivity</th>\n",
       "      <th>Max_gain</th>\n",
       "      <th>Direction_max_gain</th>\n",
       "      <th>Reflection_Pattern</th>\n",
       "    </tr>\n",
       "  </thead>\n",
       "  <tbody>\n",
       "    <tr>\n",
       "      <th>0</th>\n",
       "      <td>1</td>\n",
       "      <td>0.0749</td>\n",
       "      <td>50</td>\n",
       "      <td>1</td>\n",
       "      <td>0.2997</td>\n",
       "      <td>0.1498</td>\n",
       "      <td>15</td>\n",
       "      <td>0.31208</td>\n",
       "      <td>infinite</td>\n",
       "      <td>6.399</td>\n",
       "      <td>360</td>\n",
       "      <td>Uni-Directional</td>\n",
       "    </tr>\n",
       "    <tr>\n",
       "      <th>1</th>\n",
       "      <td>1</td>\n",
       "      <td>0.0749</td>\n",
       "      <td>50</td>\n",
       "      <td>1</td>\n",
       "      <td>0.2997</td>\n",
       "      <td>0.1498</td>\n",
       "      <td>15</td>\n",
       "      <td>0.46810</td>\n",
       "      <td>infinite</td>\n",
       "      <td>4.399</td>\n",
       "      <td>359</td>\n",
       "      <td>Multi-Directional</td>\n",
       "    </tr>\n",
       "    <tr>\n",
       "      <th>2</th>\n",
       "      <td>1</td>\n",
       "      <td>0.0749</td>\n",
       "      <td>50</td>\n",
       "      <td>1</td>\n",
       "      <td>0.2997</td>\n",
       "      <td>0.1498</td>\n",
       "      <td>15</td>\n",
       "      <td>0.62410</td>\n",
       "      <td>infinite</td>\n",
       "      <td>2.811</td>\n",
       "      <td>302</td>\n",
       "      <td>Multi-Directional</td>\n",
       "    </tr>\n",
       "    <tr>\n",
       "      <th>3</th>\n",
       "      <td>1</td>\n",
       "      <td>0.0749</td>\n",
       "      <td>50</td>\n",
       "      <td>1</td>\n",
       "      <td>0.2997</td>\n",
       "      <td>0.1498</td>\n",
       "      <td>15</td>\n",
       "      <td>0.78020</td>\n",
       "      <td>infinite</td>\n",
       "      <td>2.476</td>\n",
       "      <td>312</td>\n",
       "      <td>Multi-Directional</td>\n",
       "    </tr>\n",
       "    <tr>\n",
       "      <th>4</th>\n",
       "      <td>1</td>\n",
       "      <td>0.0749</td>\n",
       "      <td>50</td>\n",
       "      <td>1</td>\n",
       "      <td>0.2997</td>\n",
       "      <td>0.1498</td>\n",
       "      <td>15</td>\n",
       "      <td>0.93625</td>\n",
       "      <td>infinite</td>\n",
       "      <td>2.299</td>\n",
       "      <td>317</td>\n",
       "      <td>Multi-Directional</td>\n",
       "    </tr>\n",
       "  </tbody>\n",
       "</table>\n",
       "</div>"
      ],
      "text/plain": [
       "   Frequency(GHz) (f)  Dipole_length (L)  Impedance (z)   \n",
       "0                   1             0.0749             50  \\\n",
       "1                   1             0.0749             50   \n",
       "2                   1             0.0749             50   \n",
       "3                   1             0.0749             50   \n",
       "4                   1             0.0749             50   \n",
       "\n",
       "   Wire Radius(mm) (rho)  Radius of curvature (m) (a)   \n",
       "0                      1                       0.2997  \\\n",
       "1                      1                       0.2997   \n",
       "2                      1                       0.2997   \n",
       "3                      1                       0.2997   \n",
       "4                      1                       0.2997   \n",
       "\n",
       "   Curved surface height(m) (h)  Angle(theta)  Distance(m) (d)   \n",
       "0                        0.1498            15          0.31208  \\\n",
       "1                        0.1498            15          0.46810   \n",
       "2                        0.1498            15          0.62410   \n",
       "3                        0.1498            15          0.78020   \n",
       "4                        0.1498            15          0.93625   \n",
       "\n",
       "  Relative_Permittivity  Max_gain  Direction_max_gain Reflection_Pattern  \n",
       "0              infinite     6.399                 360    Uni-Directional  \n",
       "1              infinite     4.399                 359  Multi-Directional  \n",
       "2              infinite     2.811                 302  Multi-Directional  \n",
       "3              infinite     2.476                 312  Multi-Directional  \n",
       "4              infinite     2.299                 317  Multi-Directional  "
      ]
     },
     "execution_count": 70,
     "metadata": {},
     "output_type": "execute_result"
    }
   ],
   "source": [
    "df = pd.read_excel('800data.xlsx')\n",
    "df.head()"
   ]
  },
  {
   "cell_type": "code",
   "execution_count": 71,
   "id": "7332f192",
   "metadata": {},
   "outputs": [
    {
     "data": {
      "text/plain": [
       "Frequency(GHz) (f)                int64\n",
       "Dipole_length (L)               float64\n",
       "Impedance (z)                     int64\n",
       "Wire Radius(mm) (rho)             int64\n",
       "Radius of curvature (m) (a)     float64\n",
       "Curved surface height(m) (h)    float64\n",
       "Angle(theta)                      int64\n",
       "Distance(m) (d)                 float64\n",
       "Relative_Permittivity            object\n",
       "Max_gain                        float64\n",
       "Direction_max_gain                int64\n",
       "Reflection_Pattern               object\n",
       "dtype: object"
      ]
     },
     "execution_count": 71,
     "metadata": {},
     "output_type": "execute_result"
    }
   ],
   "source": [
    "df.dtypes"
   ]
  },
  {
   "cell_type": "code",
   "execution_count": 72,
   "id": "ef56f64a",
   "metadata": {},
   "outputs": [
    {
     "data": {
      "text/html": [
       "<div>\n",
       "<style scoped>\n",
       "    .dataframe tbody tr th:only-of-type {\n",
       "        vertical-align: middle;\n",
       "    }\n",
       "\n",
       "    .dataframe tbody tr th {\n",
       "        vertical-align: top;\n",
       "    }\n",
       "\n",
       "    .dataframe thead th {\n",
       "        text-align: right;\n",
       "    }\n",
       "</style>\n",
       "<table border=\"1\" class=\"dataframe\">\n",
       "  <thead>\n",
       "    <tr style=\"text-align: right;\">\n",
       "      <th></th>\n",
       "      <th>Frequency(GHz) (f)</th>\n",
       "      <th>Dipole_length (L)</th>\n",
       "      <th>Impedance (z)</th>\n",
       "      <th>Wire Radius(mm) (rho)</th>\n",
       "      <th>Radius of curvature (m) (a)</th>\n",
       "      <th>Curved surface height(m) (h)</th>\n",
       "      <th>Angle(theta)</th>\n",
       "      <th>Distance(m) (d)</th>\n",
       "      <th>Relative_Permittivity</th>\n",
       "    </tr>\n",
       "  </thead>\n",
       "  <tbody>\n",
       "    <tr>\n",
       "      <th>0</th>\n",
       "      <td>1</td>\n",
       "      <td>0.0749</td>\n",
       "      <td>50</td>\n",
       "      <td>1</td>\n",
       "      <td>0.2997</td>\n",
       "      <td>0.1498</td>\n",
       "      <td>15</td>\n",
       "      <td>0.31208</td>\n",
       "      <td>infinite</td>\n",
       "    </tr>\n",
       "    <tr>\n",
       "      <th>1</th>\n",
       "      <td>1</td>\n",
       "      <td>0.0749</td>\n",
       "      <td>50</td>\n",
       "      <td>1</td>\n",
       "      <td>0.2997</td>\n",
       "      <td>0.1498</td>\n",
       "      <td>15</td>\n",
       "      <td>0.46810</td>\n",
       "      <td>infinite</td>\n",
       "    </tr>\n",
       "    <tr>\n",
       "      <th>2</th>\n",
       "      <td>1</td>\n",
       "      <td>0.0749</td>\n",
       "      <td>50</td>\n",
       "      <td>1</td>\n",
       "      <td>0.2997</td>\n",
       "      <td>0.1498</td>\n",
       "      <td>15</td>\n",
       "      <td>0.62410</td>\n",
       "      <td>infinite</td>\n",
       "    </tr>\n",
       "    <tr>\n",
       "      <th>3</th>\n",
       "      <td>1</td>\n",
       "      <td>0.0749</td>\n",
       "      <td>50</td>\n",
       "      <td>1</td>\n",
       "      <td>0.2997</td>\n",
       "      <td>0.1498</td>\n",
       "      <td>15</td>\n",
       "      <td>0.78020</td>\n",
       "      <td>infinite</td>\n",
       "    </tr>\n",
       "    <tr>\n",
       "      <th>4</th>\n",
       "      <td>1</td>\n",
       "      <td>0.0749</td>\n",
       "      <td>50</td>\n",
       "      <td>1</td>\n",
       "      <td>0.2997</td>\n",
       "      <td>0.1498</td>\n",
       "      <td>15</td>\n",
       "      <td>0.93625</td>\n",
       "      <td>infinite</td>\n",
       "    </tr>\n",
       "  </tbody>\n",
       "</table>\n",
       "</div>"
      ],
      "text/plain": [
       "   Frequency(GHz) (f)  Dipole_length (L)  Impedance (z)   \n",
       "0                   1             0.0749             50  \\\n",
       "1                   1             0.0749             50   \n",
       "2                   1             0.0749             50   \n",
       "3                   1             0.0749             50   \n",
       "4                   1             0.0749             50   \n",
       "\n",
       "   Wire Radius(mm) (rho)  Radius of curvature (m) (a)   \n",
       "0                      1                       0.2997  \\\n",
       "1                      1                       0.2997   \n",
       "2                      1                       0.2997   \n",
       "3                      1                       0.2997   \n",
       "4                      1                       0.2997   \n",
       "\n",
       "   Curved surface height(m) (h)  Angle(theta)  Distance(m) (d)   \n",
       "0                        0.1498            15          0.31208  \\\n",
       "1                        0.1498            15          0.46810   \n",
       "2                        0.1498            15          0.62410   \n",
       "3                        0.1498            15          0.78020   \n",
       "4                        0.1498            15          0.93625   \n",
       "\n",
       "  Relative_Permittivity  \n",
       "0              infinite  \n",
       "1              infinite  \n",
       "2              infinite  \n",
       "3              infinite  \n",
       "4              infinite  "
      ]
     },
     "execution_count": 72,
     "metadata": {},
     "output_type": "execute_result"
    }
   ],
   "source": [
    "X=df.drop(['Max_gain', 'Direction_max_gain','Reflection_Pattern'],axis=1).copy()\n",
    "X.head()"
   ]
  },
  {
   "cell_type": "code",
   "execution_count": 73,
   "id": "309520d4",
   "metadata": {},
   "outputs": [
    {
     "data": {
      "text/plain": [
       "0    6.399\n",
       "1    4.399\n",
       "2    2.811\n",
       "3    2.476\n",
       "4    2.299\n",
       "Name: Max_gain, dtype: float64"
      ]
     },
     "execution_count": 73,
     "metadata": {},
     "output_type": "execute_result"
    }
   ],
   "source": [
    "y_1=df['Max_gain'].copy()\n",
    "y_1.head()"
   ]
  },
  {
   "cell_type": "code",
   "execution_count": 74,
   "id": "b2c0044b",
   "metadata": {},
   "outputs": [
    {
     "data": {
      "text/plain": [
       "0    360\n",
       "1    359\n",
       "2    302\n",
       "3    312\n",
       "4    317\n",
       "Name: Direction_max_gain, dtype: int64"
      ]
     },
     "execution_count": 74,
     "metadata": {},
     "output_type": "execute_result"
    }
   ],
   "source": [
    "y_2=df['Direction_max_gain'].copy()\n",
    "y_2.head()"
   ]
  },
  {
   "cell_type": "code",
   "execution_count": 75,
   "id": "f2aeffcc",
   "metadata": {},
   "outputs": [
    {
     "data": {
      "text/plain": [
       "0      Uni-Directional\n",
       "1    Multi-Directional\n",
       "2    Multi-Directional\n",
       "3    Multi-Directional\n",
       "4    Multi-Directional\n",
       "Name: Reflection_Pattern, dtype: object"
      ]
     },
     "execution_count": 75,
     "metadata": {},
     "output_type": "execute_result"
    }
   ],
   "source": [
    "y_3=df['Reflection_Pattern'].copy()\n",
    "y_3.head()"
   ]
  },
  {
   "cell_type": "code",
   "execution_count": 76,
   "id": "c28805fa",
   "metadata": {},
   "outputs": [
    {
     "data": {
      "text/plain": [
       "0    infinite\n",
       "1    infinite\n",
       "2    infinite\n",
       "3    infinite\n",
       "4    infinite\n",
       "Name: Relative_Permittivity, dtype: object"
      ]
     },
     "execution_count": 76,
     "metadata": {},
     "output_type": "execute_result"
    }
   ],
   "source": [
    "X['Relative_Permittivity'].head()"
   ]
  },
  {
   "cell_type": "code",
   "execution_count": 77,
   "id": "00556bfe",
   "metadata": {},
   "outputs": [
    {
     "data": {
      "text/plain": [
       "0    1\n",
       "1    1\n",
       "2    1\n",
       "3    1\n",
       "4    1\n",
       "Name: Relative_Permittivity, dtype: int64"
      ]
     },
     "execution_count": 77,
     "metadata": {},
     "output_type": "execute_result"
    }
   ],
   "source": [
    "def reciprocal(x):\n",
    "    if x == 'infinite':\n",
    "        return 1\n",
    "    else:\n",
    "        return 0\n",
    "\n",
    "X['Relative_Permittivity'] = X['Relative_Permittivity'].apply(reciprocal)\n",
    "X['Relative_Permittivity'].head()"
   ]
  },
  {
   "cell_type": "code",
   "execution_count": 78,
   "id": "6b65a9dc",
   "metadata": {},
   "outputs": [
    {
     "data": {
      "text/html": [
       "<div>\n",
       "<style scoped>\n",
       "    .dataframe tbody tr th:only-of-type {\n",
       "        vertical-align: middle;\n",
       "    }\n",
       "\n",
       "    .dataframe tbody tr th {\n",
       "        vertical-align: top;\n",
       "    }\n",
       "\n",
       "    .dataframe thead th {\n",
       "        text-align: right;\n",
       "    }\n",
       "</style>\n",
       "<table border=\"1\" class=\"dataframe\">\n",
       "  <thead>\n",
       "    <tr style=\"text-align: right;\">\n",
       "      <th></th>\n",
       "      <th>Frequency(GHz) (f)</th>\n",
       "      <th>Dipole_length (L)</th>\n",
       "      <th>Impedance (z)</th>\n",
       "      <th>Wire Radius(mm) (rho)</th>\n",
       "      <th>Radius of curvature (m) (a)</th>\n",
       "      <th>Curved surface height(m) (h)</th>\n",
       "      <th>Angle(theta)</th>\n",
       "      <th>Distance(m) (d)</th>\n",
       "      <th>Relative_Permittivity</th>\n",
       "    </tr>\n",
       "  </thead>\n",
       "  <tbody>\n",
       "    <tr>\n",
       "      <th>0</th>\n",
       "      <td>1</td>\n",
       "      <td>0.0749</td>\n",
       "      <td>50</td>\n",
       "      <td>1</td>\n",
       "      <td>0.2997</td>\n",
       "      <td>0.1498</td>\n",
       "      <td>15</td>\n",
       "      <td>0.31208</td>\n",
       "      <td>1</td>\n",
       "    </tr>\n",
       "    <tr>\n",
       "      <th>1</th>\n",
       "      <td>1</td>\n",
       "      <td>0.0749</td>\n",
       "      <td>50</td>\n",
       "      <td>1</td>\n",
       "      <td>0.2997</td>\n",
       "      <td>0.1498</td>\n",
       "      <td>15</td>\n",
       "      <td>0.46810</td>\n",
       "      <td>1</td>\n",
       "    </tr>\n",
       "    <tr>\n",
       "      <th>2</th>\n",
       "      <td>1</td>\n",
       "      <td>0.0749</td>\n",
       "      <td>50</td>\n",
       "      <td>1</td>\n",
       "      <td>0.2997</td>\n",
       "      <td>0.1498</td>\n",
       "      <td>15</td>\n",
       "      <td>0.62410</td>\n",
       "      <td>1</td>\n",
       "    </tr>\n",
       "    <tr>\n",
       "      <th>3</th>\n",
       "      <td>1</td>\n",
       "      <td>0.0749</td>\n",
       "      <td>50</td>\n",
       "      <td>1</td>\n",
       "      <td>0.2997</td>\n",
       "      <td>0.1498</td>\n",
       "      <td>15</td>\n",
       "      <td>0.78020</td>\n",
       "      <td>1</td>\n",
       "    </tr>\n",
       "    <tr>\n",
       "      <th>4</th>\n",
       "      <td>1</td>\n",
       "      <td>0.0749</td>\n",
       "      <td>50</td>\n",
       "      <td>1</td>\n",
       "      <td>0.2997</td>\n",
       "      <td>0.1498</td>\n",
       "      <td>15</td>\n",
       "      <td>0.93625</td>\n",
       "      <td>1</td>\n",
       "    </tr>\n",
       "  </tbody>\n",
       "</table>\n",
       "</div>"
      ],
      "text/plain": [
       "   Frequency(GHz) (f)  Dipole_length (L)  Impedance (z)   \n",
       "0                   1             0.0749             50  \\\n",
       "1                   1             0.0749             50   \n",
       "2                   1             0.0749             50   \n",
       "3                   1             0.0749             50   \n",
       "4                   1             0.0749             50   \n",
       "\n",
       "   Wire Radius(mm) (rho)  Radius of curvature (m) (a)   \n",
       "0                      1                       0.2997  \\\n",
       "1                      1                       0.2997   \n",
       "2                      1                       0.2997   \n",
       "3                      1                       0.2997   \n",
       "4                      1                       0.2997   \n",
       "\n",
       "   Curved surface height(m) (h)  Angle(theta)  Distance(m) (d)   \n",
       "0                        0.1498            15          0.31208  \\\n",
       "1                        0.1498            15          0.46810   \n",
       "2                        0.1498            15          0.62410   \n",
       "3                        0.1498            15          0.78020   \n",
       "4                        0.1498            15          0.93625   \n",
       "\n",
       "   Relative_Permittivity  \n",
       "0                      1  \n",
       "1                      1  \n",
       "2                      1  \n",
       "3                      1  \n",
       "4                      1  "
      ]
     },
     "execution_count": 78,
     "metadata": {},
     "output_type": "execute_result"
    }
   ],
   "source": [
    "X.head()"
   ]
  },
  {
   "cell_type": "code",
   "execution_count": 79,
   "id": "5441f21a",
   "metadata": {},
   "outputs": [],
   "source": [
    "from sklearn.preprocessing import scale"
   ]
  },
  {
   "cell_type": "code",
   "execution_count": 80,
   "id": "90ddc21b",
   "metadata": {},
   "outputs": [
    {
     "data": {
      "text/html": [
       "<div>\n",
       "<style scoped>\n",
       "    .dataframe tbody tr th:only-of-type {\n",
       "        vertical-align: middle;\n",
       "    }\n",
       "\n",
       "    .dataframe tbody tr th {\n",
       "        vertical-align: top;\n",
       "    }\n",
       "\n",
       "    .dataframe thead th {\n",
       "        text-align: right;\n",
       "    }\n",
       "</style>\n",
       "<table border=\"1\" class=\"dataframe\">\n",
       "  <thead>\n",
       "    <tr style=\"text-align: right;\">\n",
       "      <th></th>\n",
       "      <th>0</th>\n",
       "      <th>1</th>\n",
       "      <th>2</th>\n",
       "      <th>3</th>\n",
       "      <th>4</th>\n",
       "      <th>5</th>\n",
       "      <th>6</th>\n",
       "      <th>7</th>\n",
       "      <th>8</th>\n",
       "    </tr>\n",
       "  </thead>\n",
       "  <tbody>\n",
       "    <tr>\n",
       "      <th>0</th>\n",
       "      <td>0.0</td>\n",
       "      <td>1.387779e-17</td>\n",
       "      <td>0.0</td>\n",
       "      <td>0.0</td>\n",
       "      <td>-1.0</td>\n",
       "      <td>-0.859064</td>\n",
       "      <td>-1.091089</td>\n",
       "      <td>-1.395693</td>\n",
       "      <td>0.0</td>\n",
       "    </tr>\n",
       "    <tr>\n",
       "      <th>1</th>\n",
       "      <td>0.0</td>\n",
       "      <td>1.387779e-17</td>\n",
       "      <td>0.0</td>\n",
       "      <td>0.0</td>\n",
       "      <td>-1.0</td>\n",
       "      <td>-0.859064</td>\n",
       "      <td>-1.091089</td>\n",
       "      <td>-1.315193</td>\n",
       "      <td>0.0</td>\n",
       "    </tr>\n",
       "    <tr>\n",
       "      <th>2</th>\n",
       "      <td>0.0</td>\n",
       "      <td>1.387779e-17</td>\n",
       "      <td>0.0</td>\n",
       "      <td>0.0</td>\n",
       "      <td>-1.0</td>\n",
       "      <td>-0.859064</td>\n",
       "      <td>-1.091089</td>\n",
       "      <td>-1.234704</td>\n",
       "      <td>0.0</td>\n",
       "    </tr>\n",
       "    <tr>\n",
       "      <th>3</th>\n",
       "      <td>0.0</td>\n",
       "      <td>1.387779e-17</td>\n",
       "      <td>0.0</td>\n",
       "      <td>0.0</td>\n",
       "      <td>-1.0</td>\n",
       "      <td>-0.859064</td>\n",
       "      <td>-1.091089</td>\n",
       "      <td>-1.154164</td>\n",
       "      <td>0.0</td>\n",
       "    </tr>\n",
       "    <tr>\n",
       "      <th>4</th>\n",
       "      <td>0.0</td>\n",
       "      <td>1.387779e-17</td>\n",
       "      <td>0.0</td>\n",
       "      <td>0.0</td>\n",
       "      <td>-1.0</td>\n",
       "      <td>-0.859064</td>\n",
       "      <td>-1.091089</td>\n",
       "      <td>-1.073649</td>\n",
       "      <td>0.0</td>\n",
       "    </tr>\n",
       "  </tbody>\n",
       "</table>\n",
       "</div>"
      ],
      "text/plain": [
       "     0             1    2    3    4         5         6         7    8\n",
       "0  0.0  1.387779e-17  0.0  0.0 -1.0 -0.859064 -1.091089 -1.395693  0.0\n",
       "1  0.0  1.387779e-17  0.0  0.0 -1.0 -0.859064 -1.091089 -1.315193  0.0\n",
       "2  0.0  1.387779e-17  0.0  0.0 -1.0 -0.859064 -1.091089 -1.234704  0.0\n",
       "3  0.0  1.387779e-17  0.0  0.0 -1.0 -0.859064 -1.091089 -1.154164  0.0\n",
       "4  0.0  1.387779e-17  0.0  0.0 -1.0 -0.859064 -1.091089 -1.073649  0.0"
      ]
     },
     "execution_count": 80,
     "metadata": {},
     "output_type": "execute_result"
    }
   ],
   "source": [
    "X_scaled = scale(X)\n",
    "X_encoded_df=pd.DataFrame(X_scaled)\n",
    "X_encoded_df.head()"
   ]
  },
  {
   "cell_type": "code",
   "execution_count": 81,
   "id": "5ba98bea",
   "metadata": {},
   "outputs": [
    {
     "data": {
      "text/html": [
       "<div>\n",
       "<style scoped>\n",
       "    .dataframe tbody tr th:only-of-type {\n",
       "        vertical-align: middle;\n",
       "    }\n",
       "\n",
       "    .dataframe tbody tr th {\n",
       "        vertical-align: top;\n",
       "    }\n",
       "\n",
       "    .dataframe thead th {\n",
       "        text-align: right;\n",
       "    }\n",
       "</style>\n",
       "<table border=\"1\" class=\"dataframe\">\n",
       "  <thead>\n",
       "    <tr style=\"text-align: right;\">\n",
       "      <th></th>\n",
       "      <th>0</th>\n",
       "    </tr>\n",
       "  </thead>\n",
       "  <tbody>\n",
       "    <tr>\n",
       "      <th>0</th>\n",
       "      <td>2.900989</td>\n",
       "    </tr>\n",
       "    <tr>\n",
       "      <th>1</th>\n",
       "      <td>1.541916</td>\n",
       "    </tr>\n",
       "    <tr>\n",
       "      <th>2</th>\n",
       "      <td>0.462812</td>\n",
       "    </tr>\n",
       "    <tr>\n",
       "      <th>3</th>\n",
       "      <td>0.235167</td>\n",
       "    </tr>\n",
       "    <tr>\n",
       "      <th>4</th>\n",
       "      <td>0.114889</td>\n",
       "    </tr>\n",
       "  </tbody>\n",
       "</table>\n",
       "</div>"
      ],
      "text/plain": [
       "          0\n",
       "0  2.900989\n",
       "1  1.541916\n",
       "2  0.462812\n",
       "3  0.235167\n",
       "4  0.114889"
      ]
     },
     "execution_count": 81,
     "metadata": {},
     "output_type": "execute_result"
    }
   ],
   "source": [
    "y_1_scaled = scale(y_1)\n",
    "y_1_df=pd.DataFrame(y_1_scaled)\n",
    "y_1_df.head()"
   ]
  },
  {
   "cell_type": "code",
   "execution_count": 82,
   "id": "478f5806",
   "metadata": {},
   "outputs": [
    {
     "data": {
      "text/html": [
       "<div>\n",
       "<style scoped>\n",
       "    .dataframe tbody tr th:only-of-type {\n",
       "        vertical-align: middle;\n",
       "    }\n",
       "\n",
       "    .dataframe tbody tr th {\n",
       "        vertical-align: top;\n",
       "    }\n",
       "\n",
       "    .dataframe thead th {\n",
       "        text-align: right;\n",
       "    }\n",
       "</style>\n",
       "<table border=\"1\" class=\"dataframe\">\n",
       "  <thead>\n",
       "    <tr style=\"text-align: right;\">\n",
       "      <th></th>\n",
       "      <th>0</th>\n",
       "    </tr>\n",
       "  </thead>\n",
       "  <tbody>\n",
       "    <tr>\n",
       "      <th>0</th>\n",
       "      <td>0.708867</td>\n",
       "    </tr>\n",
       "    <tr>\n",
       "      <th>1</th>\n",
       "      <td>0.692182</td>\n",
       "    </tr>\n",
       "    <tr>\n",
       "      <th>2</th>\n",
       "      <td>-0.258898</td>\n",
       "    </tr>\n",
       "    <tr>\n",
       "      <th>3</th>\n",
       "      <td>-0.092042</td>\n",
       "    </tr>\n",
       "    <tr>\n",
       "      <th>4</th>\n",
       "      <td>-0.008614</td>\n",
       "    </tr>\n",
       "  </tbody>\n",
       "</table>\n",
       "</div>"
      ],
      "text/plain": [
       "          0\n",
       "0  0.708867\n",
       "1  0.692182\n",
       "2 -0.258898\n",
       "3 -0.092042\n",
       "4 -0.008614"
      ]
     },
     "execution_count": 82,
     "metadata": {},
     "output_type": "execute_result"
    }
   ],
   "source": [
    "y_2_scaled = scale(y_2)\n",
    "y_2_df=pd.DataFrame(y_2_scaled)\n",
    "y_2_df.head()"
   ]
  },
  {
   "cell_type": "code",
   "execution_count": 83,
   "id": "48f07c59",
   "metadata": {},
   "outputs": [
    {
     "data": {
      "text/html": [
       "<div>\n",
       "<style scoped>\n",
       "    .dataframe tbody tr th:only-of-type {\n",
       "        vertical-align: middle;\n",
       "    }\n",
       "\n",
       "    .dataframe tbody tr th {\n",
       "        vertical-align: top;\n",
       "    }\n",
       "\n",
       "    .dataframe thead th {\n",
       "        text-align: right;\n",
       "    }\n",
       "</style>\n",
       "<table border=\"1\" class=\"dataframe\">\n",
       "  <thead>\n",
       "    <tr style=\"text-align: right;\">\n",
       "      <th></th>\n",
       "      <th>Frequency(GHz) (f)</th>\n",
       "      <th>Dipole_length (L)</th>\n",
       "      <th>Impedance (z)</th>\n",
       "      <th>Wire Radius(mm) (rho)</th>\n",
       "      <th>Radius of curvature (m) (a)</th>\n",
       "      <th>Curved surface height(m) (h)</th>\n",
       "      <th>Angle(theta)</th>\n",
       "      <th>Distance(m) (d)</th>\n",
       "      <th>Max_gain</th>\n",
       "      <th>Direction_max_gain</th>\n",
       "    </tr>\n",
       "  </thead>\n",
       "  <tbody>\n",
       "    <tr>\n",
       "      <th>count</th>\n",
       "      <td>800.0</td>\n",
       "      <td>8.000000e+02</td>\n",
       "      <td>800.0</td>\n",
       "      <td>800.0</td>\n",
       "      <td>800.000000</td>\n",
       "      <td>800.000000</td>\n",
       "      <td>800.000000</td>\n",
       "      <td>800.000000</td>\n",
       "      <td>800.000000</td>\n",
       "      <td>800.000000</td>\n",
       "    </tr>\n",
       "    <tr>\n",
       "      <th>mean</th>\n",
       "      <td>1.0</td>\n",
       "      <td>7.490000e-02</td>\n",
       "      <td>50.0</td>\n",
       "      <td>1.0</td>\n",
       "      <td>0.449600</td>\n",
       "      <td>0.314700</td>\n",
       "      <td>27.500000</td>\n",
       "      <td>3.017145</td>\n",
       "      <td>2.129930</td>\n",
       "      <td>317.516250</td>\n",
       "    </tr>\n",
       "    <tr>\n",
       "      <th>std</th>\n",
       "      <td>0.0</td>\n",
       "      <td>3.888211e-16</td>\n",
       "      <td>0.0</td>\n",
       "      <td>0.0</td>\n",
       "      <td>0.149994</td>\n",
       "      <td>0.192073</td>\n",
       "      <td>11.463606</td>\n",
       "      <td>1.939365</td>\n",
       "      <td>1.472512</td>\n",
       "      <td>59.969368</td>\n",
       "    </tr>\n",
       "    <tr>\n",
       "      <th>min</th>\n",
       "      <td>1.0</td>\n",
       "      <td>7.490000e-02</td>\n",
       "      <td>50.0</td>\n",
       "      <td>1.0</td>\n",
       "      <td>0.299700</td>\n",
       "      <td>0.074900</td>\n",
       "      <td>15.000000</td>\n",
       "      <td>0.312080</td>\n",
       "      <td>0.005100</td>\n",
       "      <td>180.000000</td>\n",
       "    </tr>\n",
       "    <tr>\n",
       "      <th>25%</th>\n",
       "      <td>1.0</td>\n",
       "      <td>7.490000e-02</td>\n",
       "      <td>50.0</td>\n",
       "      <td>1.0</td>\n",
       "      <td>0.299700</td>\n",
       "      <td>0.149800</td>\n",
       "      <td>18.750000</td>\n",
       "      <td>1.534000</td>\n",
       "      <td>1.790500</td>\n",
       "      <td>321.000000</td>\n",
       "    </tr>\n",
       "    <tr>\n",
       "      <th>50%</th>\n",
       "      <td>1.0</td>\n",
       "      <td>7.490000e-02</td>\n",
       "      <td>50.0</td>\n",
       "      <td>1.0</td>\n",
       "      <td>0.449600</td>\n",
       "      <td>0.299700</td>\n",
       "      <td>25.000000</td>\n",
       "      <td>2.623355</td>\n",
       "      <td>2.150000</td>\n",
       "      <td>344.000000</td>\n",
       "    </tr>\n",
       "    <tr>\n",
       "      <th>75%</th>\n",
       "      <td>1.0</td>\n",
       "      <td>7.490000e-02</td>\n",
       "      <td>50.0</td>\n",
       "      <td>1.0</td>\n",
       "      <td>0.599500</td>\n",
       "      <td>0.449600</td>\n",
       "      <td>33.750000</td>\n",
       "      <td>4.146250</td>\n",
       "      <td>2.832250</td>\n",
       "      <td>353.000000</td>\n",
       "    </tr>\n",
       "    <tr>\n",
       "      <th>max</th>\n",
       "      <td>1.0</td>\n",
       "      <td>7.490000e-02</td>\n",
       "      <td>50.0</td>\n",
       "      <td>1.0</td>\n",
       "      <td>0.599500</td>\n",
       "      <td>0.599500</td>\n",
       "      <td>45.000000</td>\n",
       "      <td>8.901000</td>\n",
       "      <td>7.698000</td>\n",
       "      <td>645.000000</td>\n",
       "    </tr>\n",
       "  </tbody>\n",
       "</table>\n",
       "</div>"
      ],
      "text/plain": [
       "       Frequency(GHz) (f)  Dipole_length (L)  Impedance (z)   \n",
       "count               800.0       8.000000e+02          800.0  \\\n",
       "mean                  1.0       7.490000e-02           50.0   \n",
       "std                   0.0       3.888211e-16            0.0   \n",
       "min                   1.0       7.490000e-02           50.0   \n",
       "25%                   1.0       7.490000e-02           50.0   \n",
       "50%                   1.0       7.490000e-02           50.0   \n",
       "75%                   1.0       7.490000e-02           50.0   \n",
       "max                   1.0       7.490000e-02           50.0   \n",
       "\n",
       "       Wire Radius(mm) (rho)  Radius of curvature (m) (a)   \n",
       "count                  800.0                   800.000000  \\\n",
       "mean                     1.0                     0.449600   \n",
       "std                      0.0                     0.149994   \n",
       "min                      1.0                     0.299700   \n",
       "25%                      1.0                     0.299700   \n",
       "50%                      1.0                     0.449600   \n",
       "75%                      1.0                     0.599500   \n",
       "max                      1.0                     0.599500   \n",
       "\n",
       "       Curved surface height(m) (h)  Angle(theta)  Distance(m) (d)   \n",
       "count                    800.000000    800.000000       800.000000  \\\n",
       "mean                       0.314700     27.500000         3.017145   \n",
       "std                        0.192073     11.463606         1.939365   \n",
       "min                        0.074900     15.000000         0.312080   \n",
       "25%                        0.149800     18.750000         1.534000   \n",
       "50%                        0.299700     25.000000         2.623355   \n",
       "75%                        0.449600     33.750000         4.146250   \n",
       "max                        0.599500     45.000000         8.901000   \n",
       "\n",
       "         Max_gain  Direction_max_gain  \n",
       "count  800.000000          800.000000  \n",
       "mean     2.129930          317.516250  \n",
       "std      1.472512           59.969368  \n",
       "min      0.005100          180.000000  \n",
       "25%      1.790500          321.000000  \n",
       "50%      2.150000          344.000000  \n",
       "75%      2.832250          353.000000  \n",
       "max      7.698000          645.000000  "
      ]
     },
     "execution_count": 83,
     "metadata": {},
     "output_type": "execute_result"
    }
   ],
   "source": [
    "df.describe()"
   ]
  },
  {
   "cell_type": "code",
   "execution_count": 84,
   "id": "c60ea2ea",
   "metadata": {},
   "outputs": [
    {
     "data": {
      "text/plain": [
       "count    800.000000\n",
       "mean       2.129930\n",
       "std        1.472512\n",
       "min        0.005100\n",
       "25%        1.790500\n",
       "50%        2.150000\n",
       "75%        2.832250\n",
       "max        7.698000\n",
       "Name: Max_gain, dtype: float64"
      ]
     },
     "execution_count": 84,
     "metadata": {},
     "output_type": "execute_result"
    }
   ],
   "source": [
    "y_1.describe()"
   ]
  },
  {
   "cell_type": "code",
   "execution_count": 85,
   "id": "480970b7",
   "metadata": {},
   "outputs": [
    {
     "data": {
      "text/plain": [
       "count    800.000000\n",
       "mean     317.516250\n",
       "std       59.969368\n",
       "min      180.000000\n",
       "25%      321.000000\n",
       "50%      344.000000\n",
       "75%      353.000000\n",
       "max      645.000000\n",
       "Name: Direction_max_gain, dtype: float64"
      ]
     },
     "execution_count": 85,
     "metadata": {},
     "output_type": "execute_result"
    }
   ],
   "source": [
    "y_2.describe()"
   ]
  },
  {
   "cell_type": "code",
   "execution_count": 86,
   "id": "dc2212e9",
   "metadata": {},
   "outputs": [],
   "source": [
    "from sklearn.model_selection import train_test_split"
   ]
  },
  {
   "cell_type": "code",
   "execution_count": 87,
   "id": "2b685868",
   "metadata": {},
   "outputs": [],
   "source": [
    "X_train_1, X_test_1, y_train_1 , y_test_1 =train_test_split(X_scaled, y_1_scaled,test_size=0.20,random_state=42)"
   ]
  },
  {
   "cell_type": "code",
   "execution_count": 88,
   "id": "c9acf599",
   "metadata": {},
   "outputs": [],
   "source": [
    "X_train_2, X_test_2, y_train_2 , y_test_2 =train_test_split(X_scaled, y_2_scaled,test_size=0.20,random_state=42)"
   ]
  },
  {
   "cell_type": "code",
   "execution_count": 89,
   "id": "5b029fd3",
   "metadata": {},
   "outputs": [],
   "source": [
    "X_train_3, X_test_3, y_train_3 , y_test_3 =train_test_split(X, y_3,test_size=0.20)"
   ]
  },
  {
   "cell_type": "markdown",
   "id": "2cf6b504",
   "metadata": {},
   "source": [
    "# SVM"
   ]
  },
  {
   "cell_type": "code",
   "execution_count": 90,
   "id": "e6606ebc",
   "metadata": {},
   "outputs": [],
   "source": [
    "from sklearn.svm import SVR"
   ]
  },
  {
   "cell_type": "code",
   "execution_count": 91,
   "id": "07301bba",
   "metadata": {},
   "outputs": [],
   "source": [
    "from sklearn.metrics import mean_squared_error\n",
    "from sklearn.metrics import mean_absolute_error\n",
    "from sklearn.metrics import r2_score\n",
    "from sklearn.metrics import roc_auc_score"
   ]
  },
  {
   "cell_type": "code",
   "execution_count": 92,
   "id": "dcab7a09",
   "metadata": {},
   "outputs": [
    {
     "name": "stdout",
     "output_type": "stream",
     "text": [
      "MSE for predicting the MAXIMUM GAIN using linear SVR is 0.62391\n",
      "MAE for predicting the MAXIMUM GAIN using linear SVR is 0.53396\n",
      "rmse for predicting the MAXIMUM GAIN using linear SVR is 0.78988\n",
      "r2_score for predicting the MAXIMUM GAIN using linear SVR is 0.37917\n"
     ]
    }
   ],
   "source": [
    "svr_linear= SVR(kernel='linear')\n",
    "svr_linear.fit(X_train_1, y_train_1)\n",
    "\n",
    "y1_pred = svr_linear.predict(X_test_1)\n",
    "mse_1=mean_squared_error(y_test_1, y1_pred)\n",
    "print('MSE for predicting the MAXIMUM GAIN using linear SVR is ' ,end='')\n",
    "print('%.5f'%(mse_1))\n",
    "mae_1= mean_absolute_error(y_test_1, y1_pred)\n",
    "print('MAE for predicting the MAXIMUM GAIN using linear SVR is ',end='')\n",
    "print('%.5f'%(mae_1))\n",
    "rmse = np.sqrt(mse_1)\n",
    "print('rmse for predicting the MAXIMUM GAIN using linear SVR is ',end='')\n",
    "print('%.5f'%(rmse))\n",
    "r2 = r2_score(y_test_1, y1_pred)\n",
    "print('r2_score for predicting the MAXIMUM GAIN using linear SVR is ',end='')\n",
    "print('%.5f'%(r2))"
   ]
  },
  {
   "cell_type": "code",
   "execution_count": 93,
   "id": "8aed8106",
   "metadata": {},
   "outputs": [
    {
     "name": "stdout",
     "output_type": "stream",
     "text": [
      "MSE for predicting the DIRECTION OF MAXIMUM GAIN using linear SVR is 1.13510\n",
      "MAE for predicting the DIRECTION OF MAXIMUM GAIN using linear SVR is 0.61475\n",
      "rmse for predicting the DIRECTION OF MAXIMUM GAIN using linear SVR is 1.06541\n",
      "r2_score for predicting the DIRECTION OF MAXIMUM GAIN using linear SVR is -0.16749\n"
     ]
    }
   ],
   "source": [
    "svr_linear= SVR(kernel='linear')\n",
    "svr_linear.fit(X_train_2, y_train_2)\n",
    "\n",
    "y2_pred = svr_linear.predict(X_test_2)\n",
    "mse_2=mean_squared_error(y_test_2, y2_pred)\n",
    "print('MSE for predicting the DIRECTION OF MAXIMUM GAIN using linear SVR is ',end='' )\n",
    "print('%.5f'%(mse_2))\n",
    "mae_2= mean_absolute_error(y_test_2, y2_pred)\n",
    "print('MAE for predicting the DIRECTION OF MAXIMUM GAIN using linear SVR is ',end='')\n",
    "print('%.5f'%(mae_2))\n",
    "rmse = np.sqrt(mse_2)\n",
    "print('rmse for predicting the DIRECTION OF MAXIMUM GAIN using linear SVR is ',end='')\n",
    "print('%.5f'%(rmse))\n",
    "r2 = r2_score(y_test_2, y2_pred)\n",
    "print('r2_score for predicting the DIRECTION OF MAXIMUM GAIN using linear SVR is ',end='')\n",
    "print('%.5f'%(r2))"
   ]
  },
  {
   "cell_type": "code",
   "execution_count": 95,
   "id": "36cb469b",
   "metadata": {},
   "outputs": [
    {
     "name": "stdout",
     "output_type": "stream",
     "text": [
      "MSE for predicting the MAXIMUM GAIN using SVR with rbf kernel and default parameters is 0.48973\n",
      "MAE for predicting the MAXIMUM GAIN using SVR with rbf kernel and default parameters is 0.42540\n",
      "rmse for predicting the MAXIMUM GAIN using SVR with rbf kernel and default parameters is 0.69981\n",
      "r2_score for predicting the MAXIMUM GAIN using SVR with rbf kernel and default parameters is 0.51269\n"
     ]
    }
   ],
   "source": [
    "svr_rbf = SVR(kernel='rbf')\n",
    "svr_rbf.fit(X_train_1, y_train_1)\n",
    "\n",
    "\n",
    "y1_pred = svr_rbf.predict(X_test_1)\n",
    "mse_1=mean_squared_error(y_test_1, y1_pred)\n",
    "print('MSE for predicting the MAXIMUM GAIN using SVR with rbf kernel and default parameters is ',end='')\n",
    "print('%.5f'%(mse_1))\n",
    "mae_1= mean_absolute_error(y_test_1, y1_pred)\n",
    "print('MAE for predicting the MAXIMUM GAIN using SVR with rbf kernel and default parameters is ',end='')\n",
    "print('%.5f'%(mae_1))\n",
    "rmse = np.sqrt(mse_1)\n",
    "print('rmse for predicting the MAXIMUM GAIN using SVR with rbf kernel and default parameters is ',end='')\n",
    "print('%.5f'%(rmse))\n",
    "r2 = r2_score(y_test_1, y1_pred)\n",
    "print('r2_score for predicting the MAXIMUM GAIN using SVR with rbf kernel and default parameters is ',end='')\n",
    "print('%.5f'%(r2))"
   ]
  },
  {
   "cell_type": "code",
   "execution_count": 96,
   "id": "5f25e0df",
   "metadata": {},
   "outputs": [
    {
     "name": "stdout",
     "output_type": "stream",
     "text": [
      "MSE for predicting the DIRECTION OF MAXIMUM GAIN using SVR with rbf kernel and default parameters is 0.97015\n",
      "MAE for predicting the DIRECTION OF MAXIMUM GAIN using SVR with rbf kernel and default parameters is 0.58448\n",
      "rmse for predicting the DIRECTION OF MAXIMUM GAIN using SVR with rbf kernel and default parameters is 0.98496\n",
      "r2_score for predicting the DIRECTION OF MAXIMUM GAIN using SVR with rbf kernel and default parameters is 0.00217\n"
     ]
    }
   ],
   "source": [
    "svr_rbf = SVR(kernel='rbf')\n",
    "svr_rbf.fit(X_train_2, y_train_2)\n",
    "\n",
    "\n",
    "y2_pred = svr_rbf.predict(X_test_2)\n",
    "mse_2=mean_squared_error(y_test_2, y2_pred)\n",
    "print('MSE for predicting the DIRECTION OF MAXIMUM GAIN using SVR with rbf kernel and default parameters is ',end='')\n",
    "print('%.5f'%(mse_2))\n",
    "\n",
    "mae_2= mean_absolute_error(y_test_2, y2_pred)\n",
    "print('MAE for predicting the DIRECTION OF MAXIMUM GAIN using SVR with rbf kernel and default parameters is ',end='')\n",
    "print('%.5f'%(mae_2))\n",
    "rmse = np.sqrt(mse_2)\n",
    "print('rmse for predicting the DIRECTION OF MAXIMUM GAIN using SVR with rbf kernel and default parameters is ',end='')\n",
    "print('%.5f'%(rmse))\n",
    "r2 = r2_score(y_test_2, y2_pred)\n",
    "print('r2_score for predicting the DIRECTION OF MAXIMUM GAIN using SVR with rbf kernel and default parameters is ',end='')\n",
    "print('%.5f'%(r2))"
   ]
  },
  {
   "cell_type": "code",
   "execution_count": 97,
   "id": "9afd5970",
   "metadata": {},
   "outputs": [],
   "source": [
    "param_grid=[\n",
    "    {'C' : [1,10,100,1000],\n",
    "     'gamma':['scale', 1, 0.1, 0.01],\n",
    "     'kernel':['rbf'] },\n",
    "]"
   ]
  },
  {
   "cell_type": "code",
   "execution_count": 98,
   "id": "1810da4a",
   "metadata": {},
   "outputs": [],
   "source": [
    "from sklearn.model_selection import GridSearchCV\n",
    "from sklearn.model_selection import GridSearchCV"
   ]
  },
  {
   "cell_type": "code",
   "execution_count": 99,
   "id": "a7c21310",
   "metadata": {},
   "outputs": [],
   "source": [
    "optimal_params= GridSearchCV(\n",
    "    SVR(),\n",
    "    param_grid,\n",
    "    cv=5,\n",
    "    \n",
    "\n",
    ")"
   ]
  },
  {
   "cell_type": "code",
   "execution_count": 100,
   "id": "0067e3dc",
   "metadata": {},
   "outputs": [
    {
     "name": "stdout",
     "output_type": "stream",
     "text": [
      "{'C': 10, 'gamma': 1, 'kernel': 'rbf'}\n"
     ]
    }
   ],
   "source": [
    "optimal_params.fit(X_train_1, y_train_1)\n",
    "print(optimal_params.best_params_)"
   ]
  },
  {
   "cell_type": "code",
   "execution_count": 101,
   "id": "dfd724d1",
   "metadata": {},
   "outputs": [
    {
     "name": "stdout",
     "output_type": "stream",
     "text": [
      "{'C': 100, 'gamma': 0.1, 'kernel': 'rbf'}\n"
     ]
    }
   ],
   "source": [
    "optimal_params.fit(X_train_2, y_train_2)\n",
    "print(optimal_params.best_params_)"
   ]
  },
  {
   "cell_type": "code",
   "execution_count": 102,
   "id": "3865ac0e",
   "metadata": {},
   "outputs": [
    {
     "name": "stdout",
     "output_type": "stream",
     "text": [
      "MSE for predicting the MAXIMUM GAIN using SVR with rbf kernel and optimal parameters is 0.33859\n",
      "MAE for predicting the MAXIMUM GAIN using SVR with rbf kernel and optimal parameters is 0.33902\n",
      "rmse for predicting the MAXIMUM GAIN using SVR with rbf kernel and optimal parameters is 0.58188\n",
      "r2_score for predicting the MAXIMUM GAIN using SVR with rbf kernel and optimal parameters is 0.66309\n"
     ]
    }
   ],
   "source": [
    "reg_svm= SVR( C=10, gamma=0.25)\n",
    "reg_svm.fit(X_train_1, y_train_1)\n",
    "#metrics\n",
    "\n",
    "y_pred_1_opt = reg_svm.predict(X_test_1)\n",
    "mse_1_opt=mean_squared_error(y_test_1, y_pred_1_opt,squared=True)\n",
    "print('MSE for predicting the MAXIMUM GAIN using SVR with rbf kernel and optimal parameters is ', end='')\n",
    "print('%.5f'%(mse_1_opt))\n",
    "\n",
    "\n",
    "mae_1_opt= mean_absolute_error(y_test_1, y_pred_1_opt)\n",
    "print('MAE for predicting the MAXIMUM GAIN using SVR with rbf kernel and optimal parameters is ',end='')\n",
    "print('%.5f'%(mae_1_opt))\n",
    "rmse = np.sqrt(mse_1_opt)\n",
    "print('rmse for predicting the MAXIMUM GAIN using SVR with rbf kernel and optimal parameters is ',end='')\n",
    "print('%.5f'%(rmse))\n",
    "r2 = r2_score(y_test_1, y_pred_1_opt)\n",
    "print('r2_score for predicting the MAXIMUM GAIN using SVR with rbf kernel and optimal parameters is ',end='')\n",
    "print('%.5f'%(r2))"
   ]
  },
  {
   "cell_type": "code",
   "execution_count": 103,
   "id": "4c3f91a5",
   "metadata": {},
   "outputs": [
    {
     "name": "stdout",
     "output_type": "stream",
     "text": [
      "MSE for predicting the DIRECTION_MAX_GAIN using SVR with rbf kernel and optimal parameters is 0.77158\n",
      "MAE for predicting the DIRECTION_MAX_GAIN using SVR with rbf kernel and optimal parameters is 0.52923\n",
      "rmse for predicting the DIRECTION OF MAXIMUM GAIN using SVR with rbf kernel and optimal parameters is 0.87840\n",
      "r2_score for predicting the DIRECTION OF MAXIMUM GAIN using SVR with rbf kernel and optimal parameters is 0.20640\n"
     ]
    }
   ],
   "source": [
    "reg_svm= SVR( C=100, gamma=0.25)\n",
    "reg_svm.fit(X_train_2, y_train_2)\n",
    "\n",
    "#metrics\n",
    "\n",
    "y_pred_2_opt = reg_svm.predict(X_test_2)\n",
    "mse_2_opt=mean_squared_error(y_test_2, y_pred_2_opt,  squared=True)\n",
    "print('MSE for predicting the DIRECTION_MAX_GAIN using SVR with rbf kernel and optimal parameters is ',end='')\n",
    "print('%.5f'%(mse_2_opt))\n",
    "\n",
    "\n",
    "mae_2_opt= mean_absolute_error(y_test_2, y_pred_2_opt)\n",
    "print('MAE for predicting the DIRECTION_MAX_GAIN using SVR with rbf kernel and optimal parameters is ',end='')\n",
    "print('%.5f'%(mae_2_opt))\n",
    "rmse = np.sqrt(mse_2_opt)\n",
    "print('rmse for predicting the DIRECTION OF MAXIMUM GAIN using SVR with rbf kernel and optimal parameters is ',end='')\n",
    "print('%.5f'%(rmse))\n",
    "r2 = r2_score(y_test_2, y_pred_2_opt)\n",
    "print('r2_score for predicting the DIRECTION OF MAXIMUM GAIN using SVR with rbf kernel and optimal parameters is ',end='')\n",
    "print('%.5f'%(r2))"
   ]
  },
  {
   "cell_type": "markdown",
   "id": "b39c2762",
   "metadata": {},
   "source": [
    "# K-Nearest Neighbor Model"
   ]
  },
  {
   "cell_type": "code",
   "execution_count": 104,
   "id": "e83a35f5",
   "metadata": {},
   "outputs": [],
   "source": [
    "from sklearn.neighbors import KNeighborsRegressor"
   ]
  },
  {
   "cell_type": "code",
   "execution_count": 105,
   "id": "91dadb29",
   "metadata": {},
   "outputs": [
    {
     "name": "stdout",
     "output_type": "stream",
     "text": [
      "MSE for predicting the MAXIMUM GAIN using knn when k= 3 is 0.12321\n",
      "MAE for predicting the MAXIMUM GAIN using knn when k= 3 is 0.13771\n",
      "rmse for predicting the MAXIMUM GAIN using knn is 0.35102\n",
      "r2_score for predicting the MAXIMUM GAIN using knn is 0.83321\n"
     ]
    }
   ],
   "source": [
    "best_k=0\n",
    "mse_1_knn=10\n",
    "mae_1_knn=10\n",
    "for k in range(1,7):\n",
    "    knn = KNeighborsRegressor(n_neighbors=k)\n",
    "    knn.fit(X_train_1, y_train_1)\n",
    "    y_pred1_knn = knn.predict(X_test_1)\n",
    "    if (mse_1_knn>mean_squared_error(y_test_1, y_pred1_knn, multioutput='uniform_average', squared=True)):\n",
    "        best_k =k\n",
    "        mae_1_knn= mean_absolute_error(y_test_1, y_pred1_knn)\n",
    "    mse_1_knn=min(mse_1_knn,mean_squared_error(y_test_1, y_pred1_knn, multioutput='uniform_average', squared=True))\n",
    "    \n",
    "print('MSE for predicting the MAXIMUM GAIN using knn when k=' ,best_k, 'is ',end='')\n",
    "print('%.5f'%(mse_1_knn))\n",
    "\n",
    "print('MAE for predicting the MAXIMUM GAIN using knn when k=',best_k, 'is ',end='')\n",
    "print('%.5f'%(mae_1_knn))\n",
    "rmse = np.sqrt(mse_1_knn)\n",
    "print('rmse for predicting the MAXIMUM GAIN using knn is ',end='')\n",
    "print('%.5f'%(rmse))\n",
    "r2 = r2_score(y_test_1, y_pred1_knn)\n",
    "print('r2_score for predicting the MAXIMUM GAIN using knn is ',end='')\n",
    "print('%.5f'%(r2))"
   ]
  },
  {
   "cell_type": "code",
   "execution_count": 106,
   "id": "60f57132",
   "metadata": {},
   "outputs": [
    {
     "name": "stdout",
     "output_type": "stream",
     "text": [
      "MSE for predicting the DIRECTION OF MAXIMUM GAIN using knn when k= 5 is 0.59891\n",
      "MAE for predicting the DIRECTION OF MAXIMUM GAIN using knn when k= 5 is 0.54785\n",
      "rmse for predicting the DIRECTION OF MAXIMUM GAIN using knn is 0.77389\n",
      "r2_score for predicting the DIRECTION OF MAXIMUM GAIN using knn is 0.33562\n"
     ]
    }
   ],
   "source": [
    "best_k=0\n",
    "mse_2_knn=10\n",
    "mae_2_knn=10\n",
    "for k in range(1,6):\n",
    "    knn = KNeighborsRegressor(n_neighbors=k)\n",
    "    knn.fit(X_train_2, y_train_2)\n",
    "    y_pred2_knn = knn.predict(X_test_2)\n",
    "    if(mse_2_knn >mse_2_knn,mean_squared_error(y_test_2, y_pred2_knn, multioutput='uniform_average', squared=True)):\n",
    "        best_k=k\n",
    "        mae_2_knn= mean_absolute_error(y_test_2, y_pred2_knn)\n",
    "        \n",
    "\n",
    "    mse_2_knn=min(mse_2_knn,mean_squared_error(y_test_2, y_pred2_knn, multioutput='uniform_average', squared=True))\n",
    "print('MSE for predicting the DIRECTION OF MAXIMUM GAIN using knn when k=' ,best_k, 'is ',end='')\n",
    "print('%.5f'%(mse_2_knn))\n",
    "\n",
    "\n",
    "print('MAE for predicting the DIRECTION OF MAXIMUM GAIN using knn when k=' ,best_k, 'is ',end='')\n",
    "print('%.5f'%(mae_2_knn))\n",
    "rmse = np.sqrt(mse_2_knn)\n",
    "print('rmse for predicting the DIRECTION OF MAXIMUM GAIN using knn is ',end='')\n",
    "print('%.5f'%(rmse))\n",
    "r2 = r2_score(y_test_2, y_pred2_knn)\n",
    "print('r2_score for predicting the DIRECTION OF MAXIMUM GAIN using knn is ',end='')\n",
    "print('%.5f'%(r2))"
   ]
  },
  {
   "cell_type": "markdown",
   "id": "d01d3d4d",
   "metadata": {},
   "source": [
    "# Random Forest"
   ]
  },
  {
   "cell_type": "code",
   "execution_count": 107,
   "id": "f6a780ae",
   "metadata": {},
   "outputs": [],
   "source": [
    "from sklearn.ensemble import RandomForestRegressor"
   ]
  },
  {
   "cell_type": "code",
   "execution_count": 108,
   "id": "fc8cd60b",
   "metadata": {},
   "outputs": [
    {
     "name": "stdout",
     "output_type": "stream",
     "text": [
      "MSE for predicting the MAXIMUM GAIN using Random Forest is 0.04510\n",
      "MAE for predicting the MAXIMUM GAIN using Random Forest is 0.10206\n",
      "rmse for predicting the MAXIMUM GAIN using Random Forest is 0.21237\n",
      "r2_score for predicting the MAXIMUM GAIN using Random Forest is 0.95512\n"
     ]
    }
   ],
   "source": [
    "mse_1_regressor=10\n",
    "mae_1_regressor=10\n",
    "regressor = RandomForestRegressor(n_estimators = 100, random_state = 0)\n",
    "regressor.fit(X_train_1, y_train_1)\n",
    "y_pred1_regressor = regressor.predict(X_test_1)\n",
    "if (mse_1_regressor>mean_squared_error(y_test_1, y_pred1_regressor, multioutput='uniform_average', squared=True)):\n",
    "    best_k =k\n",
    "    mae_1_regressor= mean_absolute_error(y_test_1, y_pred1_regressor)\n",
    "mse_1_regressor=min(mse_1_regressor,mean_squared_error(y_test_1, y_pred1_regressor, multioutput='uniform_average', squared=True))\n",
    "\n",
    "print('MSE for predicting the MAXIMUM GAIN using Random Forest' , 'is ',end='')\n",
    "print('%.5f'%(mse_1_regressor))\n",
    "\n",
    "print('MAE for predicting the MAXIMUM GAIN using Random Forest' , 'is ',end='')\n",
    "print('%.5f'%(mae_1_regressor))\n",
    "rmse = np.sqrt(mse_1_regressor)\n",
    "print('rmse for predicting the MAXIMUM GAIN using Random Forest is ',end='')\n",
    "print('%.5f'%(rmse))\n",
    "r2 = r2_score(y_test_1, y_pred1_regressor)\n",
    "print('r2_score for predicting the MAXIMUM GAIN using Random Forest is ',end='')\n",
    "print('%.5f'%(r2))"
   ]
  },
  {
   "cell_type": "code",
   "execution_count": 109,
   "id": "9397ba4f",
   "metadata": {},
   "outputs": [
    {
     "name": "stdout",
     "output_type": "stream",
     "text": [
      "MSE for predicting the DIRECTION OF MAXIMUM GAIN using Random Forest is 0.48699\n",
      "MAE for predicting the DIRECTION OF MAXIMUM GAIN using Random Forest is 0.40386\n",
      "rmse for predicting the DIRECTION OF MAXIMUM GAIN using Random Forest is 0.69785\n",
      "r2_score for predicting the DIRECTION OF MAXIMUM GAIN using Random Forest is 0.49911\n"
     ]
    }
   ],
   "source": [
    "mse_2_regressor=10\n",
    "mae_2_regressor=10\n",
    "regressor = RandomForestRegressor(n_estimators = 100, random_state = 0)\n",
    "regressor.fit(X_train_2, y_train_2)\n",
    "y_pred2_regressor = regressor.predict(X_test_2)\n",
    "if (mse_2_regressor>mean_squared_error(y_test_2, y_pred2_regressor, multioutput='uniform_average', squared=True)):\n",
    "    best_k =k\n",
    "    mae_2_regressor= mean_absolute_error(y_test_2, y_pred2_regressor)\n",
    "mse_2_regressor=min(mse_2_regressor,mean_squared_error(y_test_2, y_pred2_regressor, multioutput='uniform_average', squared=True))\n",
    "\n",
    "print('MSE for predicting the DIRECTION OF MAXIMUM GAIN using Random Forest' , 'is ',end='')\n",
    "print('%.5f'%(mse_2_regressor))\n",
    "\n",
    "print('MAE for predicting the DIRECTION OF MAXIMUM GAIN using Random Forest' , 'is ',end='')\n",
    "print('%.5f'%(mae_2_regressor))\n",
    "rmse = np.sqrt(mse_2_regressor)\n",
    "print('rmse for predicting the DIRECTION OF MAXIMUM GAIN using Random Forest is ',end='')\n",
    "print('%.5f'%(rmse))\n",
    "r2 = r2_score(y_test_2, y_pred2_regressor)\n",
    "print('r2_score for predicting the DIRECTION OF MAXIMUM GAIN using Random Forest is ',end='')\n",
    "print('%.5f'%(r2))"
   ]
  },
  {
   "cell_type": "markdown",
   "id": "59d6c010",
   "metadata": {},
   "source": [
    "# classification Logistic Regression"
   ]
  },
  {
   "cell_type": "code",
   "execution_count": 132,
   "id": "3903d9de",
   "metadata": {},
   "outputs": [],
   "source": [
    "from sklearn.linear_model import LogisticRegression"
   ]
  },
  {
   "cell_type": "code",
   "execution_count": 133,
   "id": "308f1005",
   "metadata": {},
   "outputs": [],
   "source": [
    "from sklearn.metrics import confusion_matrix, ConfusionMatrixDisplay"
   ]
  },
  {
   "cell_type": "code",
   "execution_count": 134,
   "id": "bf6201a2",
   "metadata": {},
   "outputs": [],
   "source": [
    "from sklearn.metrics import accuracy_score"
   ]
  },
  {
   "cell_type": "code",
   "execution_count": 135,
   "id": "685e85fb",
   "metadata": {},
   "outputs": [
    {
     "data": {
      "image/png": "[encoded data removed]",
      "text/plain": [
       "<Figure size 640x480 with 2 Axes>"
      ]
     },
     "metadata": {},
     "output_type": "display_data"
    },
    {
     "name": "stdout",
     "output_type": "stream",
     "text": [
      "Accuracy of Logistic Regression model in predicting the REFLECTION PATTERN: 0.97500\n"
     ]
    }
   ],
   "source": [
    "logisticRegr = LogisticRegression()\n",
    "logisticRegr.fit(X_train_3, y_train_3)\n",
    "y_pred_logistic = logisticRegr.predict(X_test_3)\n",
    "cm = confusion_matrix(y_test_3, y_pred_logistic, labels=logisticRegr.classes_)\n",
    "disp = ConfusionMatrixDisplay(confusion_matrix=cm,\n",
    "                              display_labels=logisticRegr.classes_)\n",
    "disp.plot()\n",
    "plt.show()\n",
    "\n",
    "a_logistic=accuracy_score(y_test_3, y_pred_logistic,normalize=True)\n",
    "print('Accuracy of Logistic Regression model in predicting the REFLECTION PATTERN:','%.5f'%(a_logistic))"
   ]
  },
  {
   "cell_type": "markdown",
   "id": "291c4afb",
   "metadata": {},
   "source": [
    "# support vector classification"
   ]
  },
  {
   "cell_type": "code",
   "execution_count": 136,
   "id": "42d29446",
   "metadata": {},
   "outputs": [],
   "source": [
    "from sklearn.svm import SVC"
   ]
  },
  {
   "cell_type": "code",
   "execution_count": 137,
   "id": "8dd225be",
   "metadata": {},
   "outputs": [
    {
     "data": {
      "image/png": "[encoded data removed]",
      "text/plain": [
       "<Figure size 640x480 with 2 Axes>"
      ]
     },
     "metadata": {},
     "output_type": "display_data"
    },
    {
     "name": "stdout",
     "output_type": "stream",
     "text": [
      "Accuracy of SVC model with linear kernel in predicting the REFLECTION PATTERN: 0.97500\n"
     ]
    }
   ],
   "source": [
    "svm = SVC(kernel='linear')\n",
    "svm.fit(X_train_3, y_train_3)\n",
    "y_pred = svm.predict(X_test_3)\n",
    "cm = confusion_matrix(y_test_3, y_pred, labels=svm.classes_)\n",
    "disp = ConfusionMatrixDisplay(confusion_matrix=cm,\n",
    "                              display_labels=svm.classes_)\n",
    "disp.plot()\n",
    "plt.show()\n",
    "a_SVM_linear=accuracy_score(y_test_3, y_pred,normalize=True)\n",
    "print('Accuracy of SVC model with linear kernel in predicting the REFLECTION PATTERN:','%.5f'%(a_SVM_linear))\n"
   ]
  },
  {
   "cell_type": "code",
   "execution_count": 138,
   "id": "93e07a61",
   "metadata": {},
   "outputs": [
    {
     "data": {
      "image/png": "[encoded data removed]",
      "text/plain": [
       "<Figure size 640x480 with 2 Axes>"
      ]
     },
     "metadata": {},
     "output_type": "display_data"
    },
    {
     "name": "stdout",
     "output_type": "stream",
     "text": [
      "Accuracy of SVC model with rbf kernel and default parameters in predicting the REFLECTION PATTERN: 0.97500\n"
     ]
    }
   ],
   "source": [
    "svm = SVC()\n",
    "svm.fit(X_train_3, y_train_3)\n",
    "y_pred= svm.predict(X_test_3)\n",
    "cm = confusion_matrix(y_test_3, y_pred, labels=svm.classes_)\n",
    "disp = ConfusionMatrixDisplay(confusion_matrix=cm,\n",
    "                              display_labels=svm.classes_)\n",
    "disp.plot()\n",
    "plt.show()\n",
    "a_SVM=accuracy_score(y_test_3, y_pred,normalize=True)\n",
    "print('Accuracy of SVC model with rbf kernel and default parameters in predicting the REFLECTION PATTERN:','%.5f'%(a_SVM))"
   ]
  },
  {
   "cell_type": "markdown",
   "id": "fd957c8a",
   "metadata": {},
   "source": [
    "# KNeighborsClassification"
   ]
  },
  {
   "cell_type": "code",
   "execution_count": 139,
   "id": "9805af16",
   "metadata": {},
   "outputs": [],
   "source": [
    "from sklearn.neighbors import KNeighborsClassifier\n",
    "from sklearn.metrics import accuracy_score"
   ]
  },
  {
   "cell_type": "code",
   "execution_count": 140,
   "id": "b89de275",
   "metadata": {},
   "outputs": [
    {
     "data": {
      "image/png": "[encoded data removed]",
      "text/plain": [
       "<Figure size 640x480 with 2 Axes>"
      ]
     },
     "metadata": {},
     "output_type": "display_data"
    },
    {
     "name": "stdout",
     "output_type": "stream",
     "text": [
      "Accuracy of Knn model in predicting the REFLECTION PATTERN for k= 2 is: 0.98125\n"
     ]
    }
   ],
   "source": [
    "best_k=0\n",
    "best_acc=0\n",
    "for k in range(2,6):\n",
    "    knn = KNeighborsClassifier(n_neighbors=k)\n",
    "    knn.fit(X_train_3, y_train_3)\n",
    "    y_pred_3 = knn.predict(X_test_3)\n",
    "    if accuracy_score(y_test_3, y_pred_3,normalize=True ) > best_acc:\n",
    "        best_k=k\n",
    "    best_acc=max(best_acc,accuracy_score(y_test_3, y_pred_3,normalize=True ))\n",
    "knn = KNeighborsClassifier(n_neighbors=best_k)\n",
    "knn.fit(X_train_3, y_train_3)\n",
    "y_pred= svm.predict(X_test_3)\n",
    "cm = confusion_matrix(y_test_3, y_pred_3, labels=knn.classes_)\n",
    "disp = ConfusionMatrixDisplay(confusion_matrix=cm,\n",
    "                              display_labels=knn.classes_)\n",
    "disp.plot()\n",
    "plt.show()\n",
    "print('Accuracy of Knn model in predicting the REFLECTION PATTERN for k=',best_k,'is: ''%.5f'%(best_acc))\n"
   ]
  },
  {
   "cell_type": "markdown",
   "id": "964d11e3",
   "metadata": {},
   "source": [
    "# RandomForestClassification"
   ]
  },
  {
   "cell_type": "code",
   "execution_count": 141,
   "id": "9593a1aa",
   "metadata": {},
   "outputs": [],
   "source": [
    "from sklearn.ensemble import RandomForestClassifier"
   ]
  },
  {
   "cell_type": "code",
   "execution_count": 142,
   "id": "c63db53c",
   "metadata": {
    "scrolled": true
   },
   "outputs": [
    {
     "data": {
      "image/png": "[encoded data removed]",
      "text/plain": [
       "<Figure size 640x480 with 2 Axes>"
      ]
     },
     "metadata": {},
     "output_type": "display_data"
    },
    {
     "name": "stdout",
     "output_type": "stream",
     "text": [
      "Accuracy of Randomforest model in predicting the REFLECTION PATTERN is: 0.98750\n"
     ]
    }
   ],
   "source": [
    "best_k=0\n",
    "best_acc=0\n",
    "for k in range(2,6):\n",
    "    clf = RandomForestClassifier(n_estimators = 100)\n",
    "    clf.fit(X_train_3, y_train_3)\n",
    "    y_pred_3 = clf.predict(X_test_3)\n",
    "    if accuracy_score(y_test_3, y_pred_3,normalize=True ) > best_acc:\n",
    "        best_k=k\n",
    "    best_acc=max(best_acc,accuracy_score(y_test_3, y_pred_3,normalize=True ))\n",
    "random= RandomForestClassifier(n_estimators = 100)\n",
    "random.fit(X_train_3, y_train_3)\n",
    "cm = confusion_matrix(y_test_3, y_pred_3, labels=random.classes_)\n",
    "disp = ConfusionMatrixDisplay(confusion_matrix=cm,\n",
    "                              display_labels=random.classes_)\n",
    "disp.plot()\n",
    "plt.show()\n",
    "print('Accuracy of Randomforest model in predicting the REFLECTION PATTERN is: ''%.5f'%(best_acc))\n"
   ]
  },
  {
   "cell_type": "code",
   "execution_count": 143,
   "id": "093d96f0",
   "metadata": {},
   "outputs": [
    {
     "name": "stdout",
     "output_type": "stream",
     "text": [
      "Requirement already satisfied: xgboost in c:\\users\\hp\\anaconda3\\lib\\site-packages (1.7.6)\n",
      "Requirement already satisfied: scipy in c:\\users\\hp\\anaconda3\\lib\\site-packages (from xgboost) (1.10.0)\n",
      "Requirement already satisfied: numpy in c:\\users\\hp\\anaconda3\\lib\\site-packages (from xgboost) (1.23.5)\n"
     ]
    }
   ],
   "source": [
    "!pip install xgboost"
   ]
  },
  {
   "cell_type": "code",
   "execution_count": 144,
   "id": "3266124a",
   "metadata": {},
   "outputs": [],
   "source": [
    "import xgboost as xgb"
   ]
  },
  {
   "cell_type": "code",
   "execution_count": 145,
   "id": "2172457d",
   "metadata": {},
   "outputs": [],
   "source": [
    "from sklearn.tree import DecisionTreeClassifier"
   ]
  },
  {
   "cell_type": "code",
   "execution_count": 146,
   "id": "fa2efdc5",
   "metadata": {},
   "outputs": [
    {
     "data": {
      "text/html": [
       "<style>#sk-container-id-1 {color: black;background-color: white;}#sk-container-id-1 pre{padding: 0;}#sk-container-id-1 div.sk-toggleable {background-color: white;}#sk-container-id-1 label.sk-toggleable__label {cursor: pointer;display: block;width: 100%;margin-bottom: 0;padding: 0.3em;box-sizing: border-box;text-align: center;}#sk-container-id-1 label.sk-toggleable__label-arrow:before {content: \"▸\";float: left;margin-right: 0.25em;color: #696969;}#sk-container-id-1 label.sk-toggleable__label-arrow:hover:before {color: black;}#sk-container-id-1 div.sk-estimator:hover label.sk-toggleable__label-arrow:before {color: black;}#sk-container-id-1 div.sk-toggleable__content {max-height: 0;max-width: 0;overflow: hidden;text-align: left;background-color: #f0f8ff;}#sk-container-id-1 div.sk-toggleable__content pre {margin: 0.2em;color: black;border-radius: 0.25em;background-color: #f0f8ff;}#sk-container-id-1 input.sk-toggleable__control:checked~div.sk-toggleable__content {max-height: 200px;max-width: 100%;overflow: auto;}#sk-container-id-1 input.sk-toggleable__control:checked~label.sk-toggleable__label-arrow:before {content: \"▾\";}#sk-container-id-1 div.sk-estimator input.sk-toggleable__control:checked~label.sk-toggleable__label {background-color: #d4ebff;}#sk-container-id-1 div.sk-label input.sk-toggleable__control:checked~label.sk-toggleable__label {background-color: #d4ebff;}#sk-container-id-1 input.sk-hidden--visually {border: 0;clip: rect(1px 1px 1px 1px);clip: rect(1px, 1px, 1px, 1px);height: 1px;margin: -1px;overflow: hidden;padding: 0;position: absolute;width: 1px;}#sk-container-id-1 div.sk-estimator {font-family: monospace;background-color: #f0f8ff;border: 1px dotted black;border-radius: 0.25em;box-sizing: border-box;margin-bottom: 0.5em;}#sk-container-id-1 div.sk-estimator:hover {background-color: #d4ebff;}#sk-container-id-1 div.sk-parallel-item::after {content: \"\";width: 100%;border-bottom: 1px solid gray;flex-grow: 1;}#sk-container-id-1 div.sk-label:hover label.sk-toggleable__label {background-color: #d4ebff;}#sk-container-id-1 div.sk-serial::before {content: \"\";position: absolute;border-left: 1px solid gray;box-sizing: border-box;top: 0;bottom: 0;left: 50%;z-index: 0;}#sk-container-id-1 div.sk-serial {display: flex;flex-direction: column;align-items: center;background-color: white;padding-right: 0.2em;padding-left: 0.2em;position: relative;}#sk-container-id-1 div.sk-item {position: relative;z-index: 1;}#sk-container-id-1 div.sk-parallel {display: flex;align-items: stretch;justify-content: center;background-color: white;position: relative;}#sk-container-id-1 div.sk-item::before, #sk-container-id-1 div.sk-parallel-item::before {content: \"\";position: absolute;border-left: 1px solid gray;box-sizing: border-box;top: 0;bottom: 0;left: 50%;z-index: -1;}#sk-container-id-1 div.sk-parallel-item {display: flex;flex-direction: column;z-index: 1;position: relative;background-color: white;}#sk-container-id-1 div.sk-parallel-item:first-child::after {align-self: flex-end;width: 50%;}#sk-container-id-1 div.sk-parallel-item:last-child::after {align-self: flex-start;width: 50%;}#sk-container-id-1 div.sk-parallel-item:only-child::after {width: 0;}#sk-container-id-1 div.sk-dashed-wrapped {border: 1px dashed gray;margin: 0 0.4em 0.5em 0.4em;box-sizing: border-box;padding-bottom: 0.4em;background-color: white;}#sk-container-id-1 div.sk-label label {font-family: monospace;font-weight: bold;display: inline-block;line-height: 1.2em;}#sk-container-id-1 div.sk-label-container {text-align: center;}#sk-container-id-1 div.sk-container {/* jupyter's `normalize.less` sets `[hidden] { display: none; }` but bootstrap.min.css set `[hidden] { display: none !important; }` so we also need the `!important` here to be able to override the default hidden behavior on the sphinx rendered scikit-learn.org. See: https://github.com/scikit-learn/scikit-learn/issues/21755 */display: inline-block !important;position: relative;}#sk-container-id-1 div.sk-text-repr-fallback {display: none;}</style><div id=\"sk-container-id-1\" class=\"sk-top-container\"><div class=\"sk-text-repr-fallback\"><pre>DecisionTreeClassifier()</pre><b>In a Jupyter environment, please rerun this cell to show the HTML representation or trust the notebook. <br />On GitHub, the HTML representation is unable to render, please try loading this page with nbviewer.org.</b></div><div class=\"sk-container\" hidden><div class=\"sk-item\"><div class=\"sk-estimator sk-toggleable\"><input class=\"sk-toggleable__control sk-hidden--visually\" id=\"sk-estimator-id-1\" type=\"checkbox\" checked><label for=\"sk-estimator-id-1\" class=\"sk-toggleable__label sk-toggleable__label-arrow\">DecisionTreeClassifier</label><div class=\"sk-toggleable__content\"><pre>DecisionTreeClassifier()</pre></div></div></div></div></div>"
      ],
      "text/plain": [
       "DecisionTreeClassifier()"
      ]
     },
     "execution_count": 146,
     "metadata": {},
     "output_type": "execute_result"
    }
   ],
   "source": [
    "dt = DecisionTreeClassifier()\n",
    "dt.fit(X_train_3, y_train_3)"
   ]
  },
  {
   "cell_type": "code",
   "execution_count": 147,
   "id": "7218a42f",
   "metadata": {},
   "outputs": [],
   "source": [
    "y_pred= dt.predict(X_test_3)"
   ]
  },
  {
   "cell_type": "code",
   "execution_count": 148,
   "id": "6aeee775",
   "metadata": {},
   "outputs": [
    {
     "data": {
      "image/png": "[encoded data removed]",
      "text/plain": [
       "<Figure size 640x480 with 2 Axes>"
      ]
     },
     "metadata": {},
     "output_type": "display_data"
    },
    {
     "data": {
      "text/plain": [
       "0.99375"
      ]
     },
     "execution_count": 148,
     "metadata": {},
     "output_type": "execute_result"
    }
   ],
   "source": [
    "cm = confusion_matrix(y_test_3, y_pred, labels=dt.classes_)\n",
    "disp = ConfusionMatrixDisplay(confusion_matrix=cm,\n",
    "                              display_labels=dt.classes_)\n",
    "disp.plot()\n",
    "plt.show()\n",
    "from sklearn.metrics import accuracy_score\n",
    "accuracy_score(y_test_3, y_pred,normalize=True)\n"
   ]
  },
  {
   "cell_type": "code",
   "execution_count": null,
   "id": "8c807088",
   "metadata": {},
   "outputs": [],
   "source": []
  }
 ],
 "metadata": {
  "kernelspec": {
   "display_name": "Python 3 (ipykernel)",
   "language": "python",
   "name": "python3"
  },
  "language_info": {
   "codemirror_mode": {
    "name": "ipython",
    "version": 3
   },
   "file_extension": ".py",
   "mimetype": "text/x-python",
   "name": "python",
   "nbconvert_exporter": "python",
   "pygments_lexer": "ipython3",
   "version": "3.10.9"
  }
 },
 "nbformat": 4,
 "nbformat_minor": 5
}
