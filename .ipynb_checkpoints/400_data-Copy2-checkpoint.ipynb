{
 "cells": [
  {
   "cell_type": "code",
   "execution_count": 105,
   "id": "64952352",
   "metadata": {},
   "outputs": [],
   "source": [
    "import pandas as pd\n",
    "import numpy as np\n",
    "import matplotlib.pyplot as plt"
   ]
  },
  {
   "cell_type": "code",
   "execution_count": 106,
   "id": "b7888a33",
   "metadata": {},
   "outputs": [
    {
     "data": {
      "text/html": [
       "<div>\n",
       "<style scoped>\n",
       "    .dataframe tbody tr th:only-of-type {\n",
       "        vertical-align: middle;\n",
       "    }\n",
       "\n",
       "    .dataframe tbody tr th {\n",
       "        vertical-align: top;\n",
       "    }\n",
       "\n",
       "    .dataframe thead th {\n",
       "        text-align: right;\n",
       "    }\n",
       "</style>\n",
       "<table border=\"1\" class=\"dataframe\">\n",
       "  <thead>\n",
       "    <tr style=\"text-align: right;\">\n",
       "      <th></th>\n",
       "      <th>Frequency(GHz) (f)</th>\n",
       "      <th>Dipole_length (L)</th>\n",
       "      <th>Impedance (z)</th>\n",
       "      <th>Wire Radius(mm) (rho)</th>\n",
       "      <th>Radius of curvature (m) (a)</th>\n",
       "      <th>Curved surface height(m) (h)</th>\n",
       "      <th>Angle(theta)</th>\n",
       "      <th>Distance(m) (d)</th>\n",
       "      <th>Relative_Permittivity</th>\n",
       "      <th>Max_gain</th>\n",
       "      <th>Direction_max_gain</th>\n",
       "      <th>Reflection_Pattern</th>\n",
       "    </tr>\n",
       "  </thead>\n",
       "  <tbody>\n",
       "    <tr>\n",
       "      <th>0</th>\n",
       "      <td>1</td>\n",
       "      <td>0.0749</td>\n",
       "      <td>50</td>\n",
       "      <td>1</td>\n",
       "      <td>0.2997</td>\n",
       "      <td>0.1498</td>\n",
       "      <td>15</td>\n",
       "      <td>0.31208</td>\n",
       "      <td>infinite</td>\n",
       "      <td>6.399</td>\n",
       "      <td>360</td>\n",
       "      <td>Uni-Directional</td>\n",
       "    </tr>\n",
       "    <tr>\n",
       "      <th>1</th>\n",
       "      <td>1</td>\n",
       "      <td>0.0749</td>\n",
       "      <td>50</td>\n",
       "      <td>1</td>\n",
       "      <td>0.2997</td>\n",
       "      <td>0.1498</td>\n",
       "      <td>15</td>\n",
       "      <td>0.46810</td>\n",
       "      <td>infinite</td>\n",
       "      <td>4.399</td>\n",
       "      <td>359</td>\n",
       "      <td>Multi-Directional</td>\n",
       "    </tr>\n",
       "    <tr>\n",
       "      <th>2</th>\n",
       "      <td>1</td>\n",
       "      <td>0.0749</td>\n",
       "      <td>50</td>\n",
       "      <td>1</td>\n",
       "      <td>0.2997</td>\n",
       "      <td>0.1498</td>\n",
       "      <td>15</td>\n",
       "      <td>0.62410</td>\n",
       "      <td>infinite</td>\n",
       "      <td>2.811</td>\n",
       "      <td>302</td>\n",
       "      <td>Multi-Directional</td>\n",
       "    </tr>\n",
       "    <tr>\n",
       "      <th>3</th>\n",
       "      <td>1</td>\n",
       "      <td>0.0749</td>\n",
       "      <td>50</td>\n",
       "      <td>1</td>\n",
       "      <td>0.2997</td>\n",
       "      <td>0.1498</td>\n",
       "      <td>15</td>\n",
       "      <td>0.78020</td>\n",
       "      <td>infinite</td>\n",
       "      <td>2.476</td>\n",
       "      <td>312</td>\n",
       "      <td>Multi-Directional</td>\n",
       "    </tr>\n",
       "    <tr>\n",
       "      <th>4</th>\n",
       "      <td>1</td>\n",
       "      <td>0.0749</td>\n",
       "      <td>50</td>\n",
       "      <td>1</td>\n",
       "      <td>0.2997</td>\n",
       "      <td>0.1498</td>\n",
       "      <td>15</td>\n",
       "      <td>0.93625</td>\n",
       "      <td>infinite</td>\n",
       "      <td>2.299</td>\n",
       "      <td>317</td>\n",
       "      <td>Multi-Directional</td>\n",
       "    </tr>\n",
       "  </tbody>\n",
       "</table>\n",
       "</div>"
      ],
      "text/plain": [
       "   Frequency(GHz) (f)  Dipole_length (L)  Impedance (z)   \n",
       "0                   1             0.0749             50  \\\n",
       "1                   1             0.0749             50   \n",
       "2                   1             0.0749             50   \n",
       "3                   1             0.0749             50   \n",
       "4                   1             0.0749             50   \n",
       "\n",
       "   Wire Radius(mm) (rho)  Radius of curvature (m) (a)   \n",
       "0                      1                       0.2997  \\\n",
       "1                      1                       0.2997   \n",
       "2                      1                       0.2997   \n",
       "3                      1                       0.2997   \n",
       "4                      1                       0.2997   \n",
       "\n",
       "   Curved surface height(m) (h)  Angle(theta)  Distance(m) (d)   \n",
       "0                        0.1498            15          0.31208  \\\n",
       "1                        0.1498            15          0.46810   \n",
       "2                        0.1498            15          0.62410   \n",
       "3                        0.1498            15          0.78020   \n",
       "4                        0.1498            15          0.93625   \n",
       "\n",
       "  Relative_Permittivity  Max_gain  Direction_max_gain Reflection_Pattern  \n",
       "0              infinite     6.399                 360    Uni-Directional  \n",
       "1              infinite     4.399                 359  Multi-Directional  \n",
       "2              infinite     2.811                 302  Multi-Directional  \n",
       "3              infinite     2.476                 312  Multi-Directional  \n",
       "4              infinite     2.299                 317  Multi-Directional  "
      ]
     },
     "execution_count": 106,
     "metadata": {},
     "output_type": "execute_result"
    }
   ],
   "source": [
    "df = pd.read_excel('data.xlsx')\n",
    "df.head()"
   ]
  },
  {
   "cell_type": "code",
   "execution_count": 107,
   "id": "7332f192",
   "metadata": {},
   "outputs": [
    {
     "data": {
      "text/plain": [
       "Frequency(GHz) (f)                int64\n",
       "Dipole_length (L)               float64\n",
       "Impedance (z)                     int64\n",
       "Wire Radius(mm) (rho)             int64\n",
       "Radius of curvature (m) (a)     float64\n",
       "Curved surface height(m) (h)    float64\n",
       "Angle(theta)                      int64\n",
       "Distance(m) (d)                 float64\n",
       "Relative_Permittivity            object\n",
       "Max_gain                        float64\n",
       "Direction_max_gain                int64\n",
       "Reflection_Pattern               object\n",
       "dtype: object"
      ]
     },
     "execution_count": 107,
     "metadata": {},
     "output_type": "execute_result"
    }
   ],
   "source": [
    "df.dtypes"
   ]
  },
  {
   "cell_type": "code",
   "execution_count": 108,
   "id": "ef56f64a",
   "metadata": {},
   "outputs": [
    {
     "data": {
      "text/html": [
       "<div>\n",
       "<style scoped>\n",
       "    .dataframe tbody tr th:only-of-type {\n",
       "        vertical-align: middle;\n",
       "    }\n",
       "\n",
       "    .dataframe tbody tr th {\n",
       "        vertical-align: top;\n",
       "    }\n",
       "\n",
       "    .dataframe thead th {\n",
       "        text-align: right;\n",
       "    }\n",
       "</style>\n",
       "<table border=\"1\" class=\"dataframe\">\n",
       "  <thead>\n",
       "    <tr style=\"text-align: right;\">\n",
       "      <th></th>\n",
       "      <th>Frequency(GHz) (f)</th>\n",
       "      <th>Dipole_length (L)</th>\n",
       "      <th>Impedance (z)</th>\n",
       "      <th>Wire Radius(mm) (rho)</th>\n",
       "      <th>Radius of curvature (m) (a)</th>\n",
       "      <th>Curved surface height(m) (h)</th>\n",
       "      <th>Angle(theta)</th>\n",
       "      <th>Distance(m) (d)</th>\n",
       "      <th>Relative_Permittivity</th>\n",
       "    </tr>\n",
       "  </thead>\n",
       "  <tbody>\n",
       "    <tr>\n",
       "      <th>0</th>\n",
       "      <td>1</td>\n",
       "      <td>0.0749</td>\n",
       "      <td>50</td>\n",
       "      <td>1</td>\n",
       "      <td>0.2997</td>\n",
       "      <td>0.1498</td>\n",
       "      <td>15</td>\n",
       "      <td>0.31208</td>\n",
       "      <td>infinite</td>\n",
       "    </tr>\n",
       "    <tr>\n",
       "      <th>1</th>\n",
       "      <td>1</td>\n",
       "      <td>0.0749</td>\n",
       "      <td>50</td>\n",
       "      <td>1</td>\n",
       "      <td>0.2997</td>\n",
       "      <td>0.1498</td>\n",
       "      <td>15</td>\n",
       "      <td>0.46810</td>\n",
       "      <td>infinite</td>\n",
       "    </tr>\n",
       "    <tr>\n",
       "      <th>2</th>\n",
       "      <td>1</td>\n",
       "      <td>0.0749</td>\n",
       "      <td>50</td>\n",
       "      <td>1</td>\n",
       "      <td>0.2997</td>\n",
       "      <td>0.1498</td>\n",
       "      <td>15</td>\n",
       "      <td>0.62410</td>\n",
       "      <td>infinite</td>\n",
       "    </tr>\n",
       "    <tr>\n",
       "      <th>3</th>\n",
       "      <td>1</td>\n",
       "      <td>0.0749</td>\n",
       "      <td>50</td>\n",
       "      <td>1</td>\n",
       "      <td>0.2997</td>\n",
       "      <td>0.1498</td>\n",
       "      <td>15</td>\n",
       "      <td>0.78020</td>\n",
       "      <td>infinite</td>\n",
       "    </tr>\n",
       "    <tr>\n",
       "      <th>4</th>\n",
       "      <td>1</td>\n",
       "      <td>0.0749</td>\n",
       "      <td>50</td>\n",
       "      <td>1</td>\n",
       "      <td>0.2997</td>\n",
       "      <td>0.1498</td>\n",
       "      <td>15</td>\n",
       "      <td>0.93625</td>\n",
       "      <td>infinite</td>\n",
       "    </tr>\n",
       "  </tbody>\n",
       "</table>\n",
       "</div>"
      ],
      "text/plain": [
       "   Frequency(GHz) (f)  Dipole_length (L)  Impedance (z)   \n",
       "0                   1             0.0749             50  \\\n",
       "1                   1             0.0749             50   \n",
       "2                   1             0.0749             50   \n",
       "3                   1             0.0749             50   \n",
       "4                   1             0.0749             50   \n",
       "\n",
       "   Wire Radius(mm) (rho)  Radius of curvature (m) (a)   \n",
       "0                      1                       0.2997  \\\n",
       "1                      1                       0.2997   \n",
       "2                      1                       0.2997   \n",
       "3                      1                       0.2997   \n",
       "4                      1                       0.2997   \n",
       "\n",
       "   Curved surface height(m) (h)  Angle(theta)  Distance(m) (d)   \n",
       "0                        0.1498            15          0.31208  \\\n",
       "1                        0.1498            15          0.46810   \n",
       "2                        0.1498            15          0.62410   \n",
       "3                        0.1498            15          0.78020   \n",
       "4                        0.1498            15          0.93625   \n",
       "\n",
       "  Relative_Permittivity  \n",
       "0              infinite  \n",
       "1              infinite  \n",
       "2              infinite  \n",
       "3              infinite  \n",
       "4              infinite  "
      ]
     },
     "execution_count": 108,
     "metadata": {},
     "output_type": "execute_result"
    }
   ],
   "source": [
    "X=df.drop(['Max_gain', 'Direction_max_gain','Reflection_Pattern'],axis=1).copy()\n",
    "X.head()"
   ]
  },
  {
   "cell_type": "code",
   "execution_count": 109,
   "id": "309520d4",
   "metadata": {},
   "outputs": [
    {
     "data": {
      "text/plain": [
       "0    6.399\n",
       "1    4.399\n",
       "2    2.811\n",
       "3    2.476\n",
       "4    2.299\n",
       "Name: Max_gain, dtype: float64"
      ]
     },
     "execution_count": 109,
     "metadata": {},
     "output_type": "execute_result"
    }
   ],
   "source": [
    "y_1=df['Max_gain'].copy()\n",
    "y_1.head()"
   ]
  },
  {
   "cell_type": "code",
   "execution_count": 110,
   "id": "b2c0044b",
   "metadata": {},
   "outputs": [
    {
     "data": {
      "text/plain": [
       "0    360\n",
       "1    359\n",
       "2    302\n",
       "3    312\n",
       "4    317\n",
       "Name: Direction_max_gain, dtype: int64"
      ]
     },
     "execution_count": 110,
     "metadata": {},
     "output_type": "execute_result"
    }
   ],
   "source": [
    "y_2=df['Direction_max_gain'].copy()\n",
    "y_2.head()"
   ]
  },
  {
   "cell_type": "code",
   "execution_count": 111,
   "id": "f2aeffcc",
   "metadata": {},
   "outputs": [
    {
     "data": {
      "text/plain": [
       "0      Uni-Directional\n",
       "1    Multi-Directional\n",
       "2    Multi-Directional\n",
       "3    Multi-Directional\n",
       "4    Multi-Directional\n",
       "Name: Reflection_Pattern, dtype: object"
      ]
     },
     "execution_count": 111,
     "metadata": {},
     "output_type": "execute_result"
    }
   ],
   "source": [
    "y_3=df['Reflection_Pattern'].copy()\n",
    "y_3.head()"
   ]
  },
  {
   "cell_type": "code",
   "execution_count": 112,
   "id": "c28805fa",
   "metadata": {},
   "outputs": [
    {
     "data": {
      "text/plain": [
       "0    infinite\n",
       "1    infinite\n",
       "2    infinite\n",
       "3    infinite\n",
       "4    infinite\n",
       "Name: Relative_Permittivity, dtype: object"
      ]
     },
     "execution_count": 112,
     "metadata": {},
     "output_type": "execute_result"
    }
   ],
   "source": [
    "X['Relative_Permittivity'].head()"
   ]
  },
  {
   "cell_type": "code",
   "execution_count": 113,
   "id": "00556bfe",
   "metadata": {},
   "outputs": [
    {
     "data": {
      "text/plain": [
       "0    0\n",
       "1    0\n",
       "2    0\n",
       "3    0\n",
       "4    0\n",
       "Name: Relative_Permittivity, dtype: int64"
      ]
     },
     "execution_count": 113,
     "metadata": {},
     "output_type": "execute_result"
    }
   ],
   "source": [
    "def reciprocal(x):\n",
    "    if x == 'infinite':\n",
    "        return 0\n",
    "    else:\n",
    "        return 1/x\n",
    "\n",
    "X['Relative_Permittivity'] = X['Relative_Permittivity'].apply(reciprocal)\n",
    "X['Relative_Permittivity'].head()"
   ]
  },
  {
   "cell_type": "code",
   "execution_count": 114,
   "id": "6b65a9dc",
   "metadata": {},
   "outputs": [
    {
     "data": {
      "text/html": [
       "<div>\n",
       "<style scoped>\n",
       "    .dataframe tbody tr th:only-of-type {\n",
       "        vertical-align: middle;\n",
       "    }\n",
       "\n",
       "    .dataframe tbody tr th {\n",
       "        vertical-align: top;\n",
       "    }\n",
       "\n",
       "    .dataframe thead th {\n",
       "        text-align: right;\n",
       "    }\n",
       "</style>\n",
       "<table border=\"1\" class=\"dataframe\">\n",
       "  <thead>\n",
       "    <tr style=\"text-align: right;\">\n",
       "      <th></th>\n",
       "      <th>Frequency(GHz) (f)</th>\n",
       "      <th>Dipole_length (L)</th>\n",
       "      <th>Impedance (z)</th>\n",
       "      <th>Wire Radius(mm) (rho)</th>\n",
       "      <th>Radius of curvature (m) (a)</th>\n",
       "      <th>Curved surface height(m) (h)</th>\n",
       "      <th>Angle(theta)</th>\n",
       "      <th>Distance(m) (d)</th>\n",
       "      <th>Relative_Permittivity</th>\n",
       "    </tr>\n",
       "  </thead>\n",
       "  <tbody>\n",
       "    <tr>\n",
       "      <th>0</th>\n",
       "      <td>1</td>\n",
       "      <td>0.0749</td>\n",
       "      <td>50</td>\n",
       "      <td>1</td>\n",
       "      <td>0.2997</td>\n",
       "      <td>0.1498</td>\n",
       "      <td>15</td>\n",
       "      <td>0.31208</td>\n",
       "      <td>0</td>\n",
       "    </tr>\n",
       "    <tr>\n",
       "      <th>1</th>\n",
       "      <td>1</td>\n",
       "      <td>0.0749</td>\n",
       "      <td>50</td>\n",
       "      <td>1</td>\n",
       "      <td>0.2997</td>\n",
       "      <td>0.1498</td>\n",
       "      <td>15</td>\n",
       "      <td>0.46810</td>\n",
       "      <td>0</td>\n",
       "    </tr>\n",
       "    <tr>\n",
       "      <th>2</th>\n",
       "      <td>1</td>\n",
       "      <td>0.0749</td>\n",
       "      <td>50</td>\n",
       "      <td>1</td>\n",
       "      <td>0.2997</td>\n",
       "      <td>0.1498</td>\n",
       "      <td>15</td>\n",
       "      <td>0.62410</td>\n",
       "      <td>0</td>\n",
       "    </tr>\n",
       "    <tr>\n",
       "      <th>3</th>\n",
       "      <td>1</td>\n",
       "      <td>0.0749</td>\n",
       "      <td>50</td>\n",
       "      <td>1</td>\n",
       "      <td>0.2997</td>\n",
       "      <td>0.1498</td>\n",
       "      <td>15</td>\n",
       "      <td>0.78020</td>\n",
       "      <td>0</td>\n",
       "    </tr>\n",
       "    <tr>\n",
       "      <th>4</th>\n",
       "      <td>1</td>\n",
       "      <td>0.0749</td>\n",
       "      <td>50</td>\n",
       "      <td>1</td>\n",
       "      <td>0.2997</td>\n",
       "      <td>0.1498</td>\n",
       "      <td>15</td>\n",
       "      <td>0.93625</td>\n",
       "      <td>0</td>\n",
       "    </tr>\n",
       "  </tbody>\n",
       "</table>\n",
       "</div>"
      ],
      "text/plain": [
       "   Frequency(GHz) (f)  Dipole_length (L)  Impedance (z)   \n",
       "0                   1             0.0749             50  \\\n",
       "1                   1             0.0749             50   \n",
       "2                   1             0.0749             50   \n",
       "3                   1             0.0749             50   \n",
       "4                   1             0.0749             50   \n",
       "\n",
       "   Wire Radius(mm) (rho)  Radius of curvature (m) (a)   \n",
       "0                      1                       0.2997  \\\n",
       "1                      1                       0.2997   \n",
       "2                      1                       0.2997   \n",
       "3                      1                       0.2997   \n",
       "4                      1                       0.2997   \n",
       "\n",
       "   Curved surface height(m) (h)  Angle(theta)  Distance(m) (d)   \n",
       "0                        0.1498            15          0.31208  \\\n",
       "1                        0.1498            15          0.46810   \n",
       "2                        0.1498            15          0.62410   \n",
       "3                        0.1498            15          0.78020   \n",
       "4                        0.1498            15          0.93625   \n",
       "\n",
       "   Relative_Permittivity  \n",
       "0                      0  \n",
       "1                      0  \n",
       "2                      0  \n",
       "3                      0  \n",
       "4                      0  "
      ]
     },
     "execution_count": 114,
     "metadata": {},
     "output_type": "execute_result"
    }
   ],
   "source": [
    "X.head()"
   ]
  },
  {
   "cell_type": "code",
   "execution_count": 115,
   "id": "5441f21a",
   "metadata": {},
   "outputs": [],
   "source": [
    "from sklearn.preprocessing import scale"
   ]
  },
  {
   "cell_type": "code",
   "execution_count": 116,
   "id": "90ddc21b",
   "metadata": {},
   "outputs": [
    {
     "data": {
      "text/html": [
       "<div>\n",
       "<style scoped>\n",
       "    .dataframe tbody tr th:only-of-type {\n",
       "        vertical-align: middle;\n",
       "    }\n",
       "\n",
       "    .dataframe tbody tr th {\n",
       "        vertical-align: top;\n",
       "    }\n",
       "\n",
       "    .dataframe thead th {\n",
       "        text-align: right;\n",
       "    }\n",
       "</style>\n",
       "<table border=\"1\" class=\"dataframe\">\n",
       "  <thead>\n",
       "    <tr style=\"text-align: right;\">\n",
       "      <th></th>\n",
       "      <th>0</th>\n",
       "      <th>1</th>\n",
       "      <th>2</th>\n",
       "      <th>3</th>\n",
       "      <th>4</th>\n",
       "      <th>5</th>\n",
       "      <th>6</th>\n",
       "      <th>7</th>\n",
       "      <th>8</th>\n",
       "    </tr>\n",
       "  </thead>\n",
       "  <tbody>\n",
       "    <tr>\n",
       "      <th>0</th>\n",
       "      <td>0.0</td>\n",
       "      <td>1.387779e-17</td>\n",
       "      <td>0.0</td>\n",
       "      <td>0.0</td>\n",
       "      <td>-5.551115e-17</td>\n",
       "      <td>-0.859167</td>\n",
       "      <td>-1.091089</td>\n",
       "      <td>-1.621556</td>\n",
       "      <td>0.0</td>\n",
       "    </tr>\n",
       "    <tr>\n",
       "      <th>1</th>\n",
       "      <td>0.0</td>\n",
       "      <td>1.387779e-17</td>\n",
       "      <td>0.0</td>\n",
       "      <td>0.0</td>\n",
       "      <td>-5.551115e-17</td>\n",
       "      <td>-0.859167</td>\n",
       "      <td>-1.091089</td>\n",
       "      <td>-1.472854</td>\n",
       "      <td>0.0</td>\n",
       "    </tr>\n",
       "    <tr>\n",
       "      <th>2</th>\n",
       "      <td>0.0</td>\n",
       "      <td>1.387779e-17</td>\n",
       "      <td>0.0</td>\n",
       "      <td>0.0</td>\n",
       "      <td>-5.551115e-17</td>\n",
       "      <td>-0.859167</td>\n",
       "      <td>-1.091089</td>\n",
       "      <td>-1.324172</td>\n",
       "      <td>0.0</td>\n",
       "    </tr>\n",
       "    <tr>\n",
       "      <th>3</th>\n",
       "      <td>0.0</td>\n",
       "      <td>1.387779e-17</td>\n",
       "      <td>0.0</td>\n",
       "      <td>0.0</td>\n",
       "      <td>-5.551115e-17</td>\n",
       "      <td>-0.859167</td>\n",
       "      <td>-1.091089</td>\n",
       "      <td>-1.175394</td>\n",
       "      <td>0.0</td>\n",
       "    </tr>\n",
       "    <tr>\n",
       "      <th>4</th>\n",
       "      <td>0.0</td>\n",
       "      <td>1.387779e-17</td>\n",
       "      <td>0.0</td>\n",
       "      <td>0.0</td>\n",
       "      <td>-5.551115e-17</td>\n",
       "      <td>-0.859167</td>\n",
       "      <td>-1.091089</td>\n",
       "      <td>-1.026664</td>\n",
       "      <td>0.0</td>\n",
       "    </tr>\n",
       "  </tbody>\n",
       "</table>\n",
       "</div>"
      ],
      "text/plain": [
       "     0             1    2    3             4         5         6         7   \n",
       "0  0.0  1.387779e-17  0.0  0.0 -5.551115e-17 -0.859167 -1.091089 -1.621556  \\\n",
       "1  0.0  1.387779e-17  0.0  0.0 -5.551115e-17 -0.859167 -1.091089 -1.472854   \n",
       "2  0.0  1.387779e-17  0.0  0.0 -5.551115e-17 -0.859167 -1.091089 -1.324172   \n",
       "3  0.0  1.387779e-17  0.0  0.0 -5.551115e-17 -0.859167 -1.091089 -1.175394   \n",
       "4  0.0  1.387779e-17  0.0  0.0 -5.551115e-17 -0.859167 -1.091089 -1.026664   \n",
       "\n",
       "     8  \n",
       "0  0.0  \n",
       "1  0.0  \n",
       "2  0.0  \n",
       "3  0.0  \n",
       "4  0.0  "
      ]
     },
     "execution_count": 116,
     "metadata": {},
     "output_type": "execute_result"
    }
   ],
   "source": [
    "X_scaled = scale(X)\n",
    "X_encoded_df=pd.DataFrame(X_scaled)\n",
    "X_encoded_df.head()"
   ]
  },
  {
   "cell_type": "code",
   "execution_count": 117,
   "id": "5ba98bea",
   "metadata": {},
   "outputs": [
    {
     "data": {
      "text/html": [
       "<div>\n",
       "<style scoped>\n",
       "    .dataframe tbody tr th:only-of-type {\n",
       "        vertical-align: middle;\n",
       "    }\n",
       "\n",
       "    .dataframe tbody tr th {\n",
       "        vertical-align: top;\n",
       "    }\n",
       "\n",
       "    .dataframe thead th {\n",
       "        text-align: right;\n",
       "    }\n",
       "</style>\n",
       "<table border=\"1\" class=\"dataframe\">\n",
       "  <thead>\n",
       "    <tr style=\"text-align: right;\">\n",
       "      <th></th>\n",
       "      <th>0</th>\n",
       "    </tr>\n",
       "  </thead>\n",
       "  <tbody>\n",
       "    <tr>\n",
       "      <th>0</th>\n",
       "      <td>3.211909</td>\n",
       "    </tr>\n",
       "    <tr>\n",
       "      <th>1</th>\n",
       "      <td>1.896991</td>\n",
       "    </tr>\n",
       "    <tr>\n",
       "      <th>2</th>\n",
       "      <td>0.852946</td>\n",
       "    </tr>\n",
       "    <tr>\n",
       "      <th>3</th>\n",
       "      <td>0.632697</td>\n",
       "    </tr>\n",
       "    <tr>\n",
       "      <th>4</th>\n",
       "      <td>0.516327</td>\n",
       "    </tr>\n",
       "  </tbody>\n",
       "</table>\n",
       "</div>"
      ],
      "text/plain": [
       "          0\n",
       "0  3.211909\n",
       "1  1.896991\n",
       "2  0.852946\n",
       "3  0.632697\n",
       "4  0.516327"
      ]
     },
     "execution_count": 117,
     "metadata": {},
     "output_type": "execute_result"
    }
   ],
   "source": [
    "y_1_scaled = scale(y_1)\n",
    "y_1_df=pd.DataFrame(y_1_scaled)\n",
    "y_1_df.head()"
   ]
  },
  {
   "cell_type": "code",
   "execution_count": 118,
   "id": "478f5806",
   "metadata": {},
   "outputs": [
    {
     "data": {
      "text/html": [
       "<div>\n",
       "<style scoped>\n",
       "    .dataframe tbody tr th:only-of-type {\n",
       "        vertical-align: middle;\n",
       "    }\n",
       "\n",
       "    .dataframe tbody tr th {\n",
       "        vertical-align: top;\n",
       "    }\n",
       "\n",
       "    .dataframe thead th {\n",
       "        text-align: right;\n",
       "    }\n",
       "</style>\n",
       "<table border=\"1\" class=\"dataframe\">\n",
       "  <thead>\n",
       "    <tr style=\"text-align: right;\">\n",
       "      <th></th>\n",
       "      <th>0</th>\n",
       "    </tr>\n",
       "  </thead>\n",
       "  <tbody>\n",
       "    <tr>\n",
       "      <th>0</th>\n",
       "      <td>0.835592</td>\n",
       "    </tr>\n",
       "    <tr>\n",
       "      <th>1</th>\n",
       "      <td>0.820631</td>\n",
       "    </tr>\n",
       "    <tr>\n",
       "      <th>2</th>\n",
       "      <td>-0.032128</td>\n",
       "    </tr>\n",
       "    <tr>\n",
       "      <th>3</th>\n",
       "      <td>0.117479</td>\n",
       "    </tr>\n",
       "    <tr>\n",
       "      <th>4</th>\n",
       "      <td>0.192282</td>\n",
       "    </tr>\n",
       "  </tbody>\n",
       "</table>\n",
       "</div>"
      ],
      "text/plain": [
       "          0\n",
       "0  0.835592\n",
       "1  0.820631\n",
       "2 -0.032128\n",
       "3  0.117479\n",
       "4  0.192282"
      ]
     },
     "execution_count": 118,
     "metadata": {},
     "output_type": "execute_result"
    }
   ],
   "source": [
    "y_2_scaled = scale(y_2)\n",
    "y_2_df=pd.DataFrame(y_2_scaled)\n",
    "y_2_df.head()"
   ]
  },
  {
   "cell_type": "code",
   "execution_count": 119,
   "id": "48f07c59",
   "metadata": {},
   "outputs": [
    {
     "data": {
      "text/html": [
       "<div>\n",
       "<style scoped>\n",
       "    .dataframe tbody tr th:only-of-type {\n",
       "        vertical-align: middle;\n",
       "    }\n",
       "\n",
       "    .dataframe tbody tr th {\n",
       "        vertical-align: top;\n",
       "    }\n",
       "\n",
       "    .dataframe thead th {\n",
       "        text-align: right;\n",
       "    }\n",
       "</style>\n",
       "<table border=\"1\" class=\"dataframe\">\n",
       "  <thead>\n",
       "    <tr style=\"text-align: right;\">\n",
       "      <th></th>\n",
       "      <th>Frequency(GHz) (f)</th>\n",
       "      <th>Dipole_length (L)</th>\n",
       "      <th>Impedance (z)</th>\n",
       "      <th>Wire Radius(mm) (rho)</th>\n",
       "      <th>Radius of curvature (m) (a)</th>\n",
       "      <th>Curved surface height(m) (h)</th>\n",
       "      <th>Angle(theta)</th>\n",
       "      <th>Distance(m) (d)</th>\n",
       "      <th>Max_gain</th>\n",
       "      <th>Direction_max_gain</th>\n",
       "    </tr>\n",
       "  </thead>\n",
       "  <tbody>\n",
       "    <tr>\n",
       "      <th>count</th>\n",
       "      <td>400.0</td>\n",
       "      <td>4.000000e+02</td>\n",
       "      <td>400.0</td>\n",
       "      <td>400.0</td>\n",
       "      <td>4.000000e+02</td>\n",
       "      <td>400.000000</td>\n",
       "      <td>400.000000</td>\n",
       "      <td>400.000000</td>\n",
       "      <td>400.000000</td>\n",
       "      <td>400.000000</td>\n",
       "    </tr>\n",
       "    <tr>\n",
       "      <th>mean</th>\n",
       "      <td>1.0</td>\n",
       "      <td>7.490000e-02</td>\n",
       "      <td>50.0</td>\n",
       "      <td>1.0</td>\n",
       "      <td>2.997000e-01</td>\n",
       "      <td>0.314710</td>\n",
       "      <td>27.500000</td>\n",
       "      <td>2.013441</td>\n",
       "      <td>1.513662</td>\n",
       "      <td>304.147500</td>\n",
       "    </tr>\n",
       "    <tr>\n",
       "      <th>std</th>\n",
       "      <td>0.0</td>\n",
       "      <td>2.917985e-16</td>\n",
       "      <td>0.0</td>\n",
       "      <td>0.0</td>\n",
       "      <td>1.167194e-15</td>\n",
       "      <td>0.192182</td>\n",
       "      <td>11.470787</td>\n",
       "      <td>1.050529</td>\n",
       "      <td>1.522912</td>\n",
       "      <td>66.925581</td>\n",
       "    </tr>\n",
       "    <tr>\n",
       "      <th>min</th>\n",
       "      <td>1.0</td>\n",
       "      <td>7.490000e-02</td>\n",
       "      <td>50.0</td>\n",
       "      <td>1.0</td>\n",
       "      <td>2.997000e-01</td>\n",
       "      <td>0.074948</td>\n",
       "      <td>15.000000</td>\n",
       "      <td>0.312080</td>\n",
       "      <td>0.005100</td>\n",
       "      <td>180.000000</td>\n",
       "    </tr>\n",
       "    <tr>\n",
       "      <th>25%</th>\n",
       "      <td>1.0</td>\n",
       "      <td>7.490000e-02</td>\n",
       "      <td>50.0</td>\n",
       "      <td>1.0</td>\n",
       "      <td>2.997000e-01</td>\n",
       "      <td>0.149800</td>\n",
       "      <td>18.750000</td>\n",
       "      <td>1.110148</td>\n",
       "      <td>0.031525</td>\n",
       "      <td>212.750000</td>\n",
       "    </tr>\n",
       "    <tr>\n",
       "      <th>50%</th>\n",
       "      <td>1.0</td>\n",
       "      <td>7.490000e-02</td>\n",
       "      <td>50.0</td>\n",
       "      <td>1.0</td>\n",
       "      <td>2.997000e-01</td>\n",
       "      <td>0.299700</td>\n",
       "      <td>25.000000</td>\n",
       "      <td>1.970972</td>\n",
       "      <td>1.823500</td>\n",
       "      <td>342.000000</td>\n",
       "    </tr>\n",
       "    <tr>\n",
       "      <th>75%</th>\n",
       "      <td>1.0</td>\n",
       "      <td>7.490000e-02</td>\n",
       "      <td>50.0</td>\n",
       "      <td>1.0</td>\n",
       "      <td>2.997000e-01</td>\n",
       "      <td>0.449600</td>\n",
       "      <td>33.750000</td>\n",
       "      <td>2.824063</td>\n",
       "      <td>2.637750</td>\n",
       "      <td>354.000000</td>\n",
       "    </tr>\n",
       "    <tr>\n",
       "      <th>max</th>\n",
       "      <td>1.0</td>\n",
       "      <td>7.490000e-02</td>\n",
       "      <td>50.0</td>\n",
       "      <td>1.0</td>\n",
       "      <td>2.997000e-01</td>\n",
       "      <td>0.599500</td>\n",
       "      <td>45.000000</td>\n",
       "      <td>4.450000</td>\n",
       "      <td>6.861000</td>\n",
       "      <td>360.000000</td>\n",
       "    </tr>\n",
       "  </tbody>\n",
       "</table>\n",
       "</div>"
      ],
      "text/plain": [
       "       Frequency(GHz) (f)  Dipole_length (L)  Impedance (z)   \n",
       "count               400.0       4.000000e+02          400.0  \\\n",
       "mean                  1.0       7.490000e-02           50.0   \n",
       "std                   0.0       2.917985e-16            0.0   \n",
       "min                   1.0       7.490000e-02           50.0   \n",
       "25%                   1.0       7.490000e-02           50.0   \n",
       "50%                   1.0       7.490000e-02           50.0   \n",
       "75%                   1.0       7.490000e-02           50.0   \n",
       "max                   1.0       7.490000e-02           50.0   \n",
       "\n",
       "       Wire Radius(mm) (rho)  Radius of curvature (m) (a)   \n",
       "count                  400.0                 4.000000e+02  \\\n",
       "mean                     1.0                 2.997000e-01   \n",
       "std                      0.0                 1.167194e-15   \n",
       "min                      1.0                 2.997000e-01   \n",
       "25%                      1.0                 2.997000e-01   \n",
       "50%                      1.0                 2.997000e-01   \n",
       "75%                      1.0                 2.997000e-01   \n",
       "max                      1.0                 2.997000e-01   \n",
       "\n",
       "       Curved surface height(m) (h)  Angle(theta)  Distance(m) (d)   \n",
       "count                    400.000000    400.000000       400.000000  \\\n",
       "mean                       0.314710     27.500000         2.013441   \n",
       "std                        0.192182     11.470787         1.050529   \n",
       "min                        0.074948     15.000000         0.312080   \n",
       "25%                        0.149800     18.750000         1.110148   \n",
       "50%                        0.299700     25.000000         1.970972   \n",
       "75%                        0.449600     33.750000         2.824063   \n",
       "max                        0.599500     45.000000         4.450000   \n",
       "\n",
       "         Max_gain  Direction_max_gain  \n",
       "count  400.000000          400.000000  \n",
       "mean     1.513662          304.147500  \n",
       "std      1.522912           66.925581  \n",
       "min      0.005100          180.000000  \n",
       "25%      0.031525          212.750000  \n",
       "50%      1.823500          342.000000  \n",
       "75%      2.637750          354.000000  \n",
       "max      6.861000          360.000000  "
      ]
     },
     "execution_count": 119,
     "metadata": {},
     "output_type": "execute_result"
    }
   ],
   "source": [
    "df.describe()"
   ]
  },
  {
   "cell_type": "code",
   "execution_count": 120,
   "id": "c60ea2ea",
   "metadata": {},
   "outputs": [
    {
     "data": {
      "text/plain": [
       "count    400.000000\n",
       "mean       1.513662\n",
       "std        1.522912\n",
       "min        0.005100\n",
       "25%        0.031525\n",
       "50%        1.823500\n",
       "75%        2.637750\n",
       "max        6.861000\n",
       "Name: Max_gain, dtype: float64"
      ]
     },
     "execution_count": 120,
     "metadata": {},
     "output_type": "execute_result"
    }
   ],
   "source": [
    "y_1.describe()"
   ]
  },
  {
   "cell_type": "code",
   "execution_count": 121,
   "id": "480970b7",
   "metadata": {},
   "outputs": [
    {
     "data": {
      "text/plain": [
       "count    400.000000\n",
       "mean     304.147500\n",
       "std       66.925581\n",
       "min      180.000000\n",
       "25%      212.750000\n",
       "50%      342.000000\n",
       "75%      354.000000\n",
       "max      360.000000\n",
       "Name: Direction_max_gain, dtype: float64"
      ]
     },
     "execution_count": 121,
     "metadata": {},
     "output_type": "execute_result"
    }
   ],
   "source": [
    "y_2.describe()"
   ]
  },
  {
   "cell_type": "code",
   "execution_count": 122,
   "id": "dc2212e9",
   "metadata": {},
   "outputs": [],
   "source": [
    "from sklearn.model_selection import train_test_split"
   ]
  },
  {
   "cell_type": "code",
   "execution_count": 123,
   "id": "2b685868",
   "metadata": {},
   "outputs": [],
   "source": [
    "X_train_1, X_test_1, y_train_1 , y_test_1 =train_test_split(X_scaled, y_1_scaled,test_size=0.20,random_state=42)"
   ]
  },
  {
   "cell_type": "code",
   "execution_count": 125,
   "id": "c9acf599",
   "metadata": {},
   "outputs": [],
   "source": [
    "X_train_2, X_test_2, y_train_2 , y_test_2 =train_test_split(X_scaled, y_2_scaled,test_size=0.20,random_state=42)"
   ]
  },
  {
   "cell_type": "code",
   "execution_count": 126,
   "id": "5b029fd3",
   "metadata": {},
   "outputs": [],
   "source": [
    "X_train_3, X_test_3, y_train_3 , y_test_3 =train_test_split(X, y_3,test_size=0.20)"
   ]
  },
  {
   "cell_type": "markdown",
   "id": "2cf6b504",
   "metadata": {},
   "source": [
    "# SVM"
   ]
  },
  {
   "cell_type": "code",
   "execution_count": 127,
   "id": "e6606ebc",
   "metadata": {},
   "outputs": [],
   "source": [
    "from sklearn.svm import SVR"
   ]
  },
  {
   "cell_type": "code",
   "execution_count": 128,
   "id": "07301bba",
   "metadata": {},
   "outputs": [],
   "source": [
    "from sklearn.metrics import mean_squared_error\n",
    "from sklearn.metrics import mean_absolute_error"
   ]
  },
  {
   "cell_type": "code",
   "execution_count": 129,
   "id": "dcab7a09",
   "metadata": {},
   "outputs": [
    {
     "name": "stdout",
     "output_type": "stream",
     "text": [
      "MSE for predicting the MAXIMUM GAIN using linear SVR is 0.94453\n",
      "MAE for predicting the MAXIMUM GAIN using linear SVR is 0.80070\n"
     ]
    }
   ],
   "source": [
    "svr_linear= SVR(kernel='linear')\n",
    "svr_linear.fit(X_train_1, y_train_1)\n",
    "\n",
    "y1_pred = svr_linear.predict(X_test_1)\n",
    "mse_1=mean_squared_error(y_test_1, y1_pred)\n",
    "print('MSE for predicting the MAXIMUM GAIN using linear SVR is ' ,end='')\n",
    "print('%.5f'%(mse_1))\n",
    "mae_1= mean_absolute_error(y_test_1, y1_pred)\n",
    "print('MAE for predicting the MAXIMUM GAIN using linear SVR is ',end='')\n",
    "print('%.5f'%(mae_1))"
   ]
  },
  {
   "cell_type": "code",
   "execution_count": 130,
   "id": "8aed8106",
   "metadata": {},
   "outputs": [
    {
     "name": "stdout",
     "output_type": "stream",
     "text": [
      "MSE for predicting the DIRECTION OF MAXIMUM GAIN using linear SVR is 1.18983\n",
      "MAE for predicting the DIRECTION OF MAXIMUM GAIN using linear SVR is 0.68245\n"
     ]
    }
   ],
   "source": [
    "svr_linear= SVR(kernel='linear')\n",
    "svr_linear.fit(X_train_2, y_train_2)\n",
    "\n",
    "y2_pred = svr_linear.predict(X_test_2)\n",
    "mse_2=mean_squared_error(y_test_2, y2_pred)\n",
    "print('MSE for predicting the DIRECTION OF MAXIMUM GAIN using linear SVR is ',end='' )\n",
    "print('%.5f'%(mse_2))\n",
    "mae_2= mean_absolute_error(y_test_2, y2_pred)\n",
    "print('MAE for predicting the DIRECTION OF MAXIMUM GAIN using linear SVR is ',end='')\n",
    "print('%.5f'%(mae_2))"
   ]
  },
  {
   "cell_type": "code",
   "execution_count": 131,
   "id": "36cb469b",
   "metadata": {},
   "outputs": [
    {
     "name": "stdout",
     "output_type": "stream",
     "text": [
      "MSE for predicting the MAXIMUM GAIN using SVR with rbf kernel and default parameters is 0.77065\n",
      "MAE for predicting the MAXIMUM GAIN using SVR with rbf kernel and default parameters is 0.63339\n"
     ]
    }
   ],
   "source": [
    "svr_rbf = SVR(kernel='rbf')\n",
    "svr_rbf.fit(X_train_1, y_train_1)\n",
    "\n",
    "\n",
    "y1_pred = svr_rbf.predict(X_test_1)\n",
    "mse_1=mean_squared_error(y_test_1, y1_pred)\n",
    "print('MSE for predicting the MAXIMUM GAIN using SVR with rbf kernel and default parameters is ',end='')\n",
    "print('%.5f'%(mse_1))\n",
    "mae_1= mean_absolute_error(y_test_1, y1_pred)\n",
    "print('MAE for predicting the MAXIMUM GAIN using SVR with rbf kernel and default parameters is ',end='')\n",
    "print('%.5f'%(mae_1))"
   ]
  },
  {
   "cell_type": "code",
   "execution_count": 132,
   "id": "5f25e0df",
   "metadata": {},
   "outputs": [
    {
     "name": "stdout",
     "output_type": "stream",
     "text": [
      "MSE for predicting the DIRECTION OF MAXIMUM GAIN using SVR with rbf kernel and default parameters is 1.14825\n",
      "MAE for predicting the DIRECTION OF MAXIMUM GAIN using SVR with rbf kernel and default parameters is 0.72554\n"
     ]
    }
   ],
   "source": [
    "svr_rbf = SVR(kernel='rbf')\n",
    "svr_rbf.fit(X_train_2, y_train_2)\n",
    "\n",
    "\n",
    "y2_pred = svr_rbf.predict(X_test_2)\n",
    "mse_2=mean_squared_error(y_test_2, y2_pred)\n",
    "print('MSE for predicting the DIRECTION OF MAXIMUM GAIN using SVR with rbf kernel and default parameters is ',end='')\n",
    "print('%.5f'%(mse_2))\n",
    "\n",
    "mae_2= mean_absolute_error(y_test_2, y2_pred)\n",
    "print('MAE for predicting the DIRECTION OF MAXIMUM GAIN using SVR with rbf kernel and default parameters is ',end='')\n",
    "print('%.5f'%(mae_2))"
   ]
  },
  {
   "cell_type": "code",
   "execution_count": 156,
   "id": "9afd5970",
   "metadata": {},
   "outputs": [],
   "source": [
    "param_grid=[\n",
    "    {'C' : [1,10,100,1000],\n",
    "     'gamma':['scale', 1, 0.1, 0.01],\n",
    "     'kernel':['rbf'] },\n",
    "]"
   ]
  },
  {
   "cell_type": "code",
   "execution_count": 158,
   "id": "1810da4a",
   "metadata": {},
   "outputs": [],
   "source": [
    "from sklearn.model_selection import GridSearchCV\n",
    "from sklearn.model_selection import GridSearchCV"
   ]
  },
  {
   "cell_type": "code",
   "execution_count": 159,
   "id": "a7c21310",
   "metadata": {},
   "outputs": [],
   "source": [
    "optimal_params= GridSearchCV(\n",
    "    SVR(),\n",
    "    param_grid,\n",
    "    cv=5,\n",
    "    \n",
    "\n",
    ")"
   ]
  },
  {
   "cell_type": "code",
   "execution_count": 160,
   "id": "0067e3dc",
   "metadata": {},
   "outputs": [
    {
     "name": "stdout",
     "output_type": "stream",
     "text": [
      "{'C': 1000, 'gamma': 1, 'kernel': 'rbf'}\n"
     ]
    }
   ],
   "source": [
    "optimal_params.fit(X_train_1, y_train_1)\n",
    "print(optimal_params.best_params_)"
   ]
  },
  {
   "cell_type": "code",
   "execution_count": 161,
   "id": "dfd724d1",
   "metadata": {},
   "outputs": [
    {
     "name": "stdout",
     "output_type": "stream",
     "text": [
      "{'C': 10, 'gamma': 1, 'kernel': 'rbf'}\n"
     ]
    }
   ],
   "source": [
    "optimal_params.fit(X_train_2, y_train_2)\n",
    "print(optimal_params.best_params_)"
   ]
  },
  {
   "cell_type": "code",
   "execution_count": 162,
   "id": "3865ac0e",
   "metadata": {},
   "outputs": [
    {
     "name": "stdout",
     "output_type": "stream",
     "text": [
      "MSE for predicting the MAXIMUM GAIN using SVR with rbf kernel and optimal parameters is 0.59573\n",
      "MAE for predicting the MAXIMUM GAIN using SVR with rbf kernel and optimal parameters is 0.55415\n"
     ]
    }
   ],
   "source": [
    "reg_svm= SVR( C=10, gamma=0.25)\n",
    "reg_svm.fit(X_train_1, y_train_1)\n",
    "#metrics\n",
    "\n",
    "y_pred_1_opt = reg_svm.predict(X_test_1)\n",
    "mse_1_opt=mean_squared_error(y_test_1, y_pred_1_opt,squared=True)\n",
    "print('MSE for predicting the MAXIMUM GAIN using SVR with rbf kernel and optimal parameters is ', end='')\n",
    "print('%.5f'%(mse_1_opt))\n",
    "\n",
    "\n",
    "mae_1_opt= mean_absolute_error(y_test_1, y_pred_1_opt)\n",
    "print('MAE for predicting the MAXIMUM GAIN using SVR with rbf kernel and optimal parameters is ',end='')\n",
    "print('%.5f'%(mae_1_opt))"
   ]
  },
  {
   "cell_type": "code",
   "execution_count": 163,
   "id": "4c3f91a5",
   "metadata": {},
   "outputs": [
    {
     "name": "stdout",
     "output_type": "stream",
     "text": [
      "MSE for predicting the DIRECTION_MAX_GAIN using SVR with rbf kernel and optimal parameters is 1.11769\n",
      "MAE for predicting the DIRECTION_MAX_GAIN using SVR with rbf kernel and optimal parameters is 0.74829\n"
     ]
    }
   ],
   "source": [
    "reg_svm= SVR( C=100, gamma=0.25)\n",
    "reg_svm.fit(X_train_2, y_train_2)\n",
    "\n",
    "#metrics\n",
    "\n",
    "y_pred_2_opt = reg_svm.predict(X_test_2)\n",
    "mse_2_opt=mean_squared_error(y_test_2, y_pred_2_opt,  squared=True)\n",
    "print('MSE for predicting the DIRECTION_MAX_GAIN using SVR with rbf kernel and optimal parameters is ',end='')\n",
    "print('%.5f'%(mse_2_opt))\n",
    "\n",
    "\n",
    "mae_2_opt= mean_absolute_error(y_test_2, y_pred_2_opt)\n",
    "print('MAE for predicting the DIRECTION_MAX_GAIN using SVR with rbf kernel and optimal parameters is ',end='')\n",
    "print('%.5f'%(mae_2_opt))"
   ]
  },
  {
   "cell_type": "markdown",
   "id": "b39c2762",
   "metadata": {},
   "source": [
    "# K-Nearest Neighbor Model"
   ]
  },
  {
   "cell_type": "code",
   "execution_count": 133,
   "id": "e83a35f5",
   "metadata": {},
   "outputs": [],
   "source": [
    "from sklearn.neighbors import KNeighborsRegressor"
   ]
  },
  {
   "cell_type": "code",
   "execution_count": 134,
   "id": "91dadb29",
   "metadata": {},
   "outputs": [
    {
     "name": "stdout",
     "output_type": "stream",
     "text": [
      "MSE for predicting the MAXIMUM GAIN using knn when k= 2 is 0.14827\n",
      "MAE for predicting the MAXIMUM GAIN using knn when k= 2 is 0.16588\n"
     ]
    }
   ],
   "source": [
    "best_k=0\n",
    "mse_1_knn=10\n",
    "mae_1_knn=10\n",
    "for k in range(1,7):\n",
    "    knn = KNeighborsRegressor(n_neighbors=k)\n",
    "    knn.fit(X_train_1, y_train_1)\n",
    "    y_pred1_knn = knn.predict(X_test_1)\n",
    "    if (mse_1_knn>mean_squared_error(y_test_1, y_pred1_knn, multioutput='uniform_average', squared=True)):\n",
    "        best_k =k\n",
    "        mae_1_knn= mean_absolute_error(y_test_1, y_pred1_knn)\n",
    "    mse_1_knn=min(mse_1_knn,mean_squared_error(y_test_1, y_pred1_knn, multioutput='uniform_average', squared=True))\n",
    "    \n",
    "print('MSE for predicting the MAXIMUM GAIN using knn when k=' ,best_k, 'is ',end='')\n",
    "print('%.5f'%(mse_1_knn))\n",
    "\n",
    "print('MAE for predicting the MAXIMUM GAIN using knn when k=',best_k, 'is ',end='')\n",
    "print('%.5f'%(mae_1_knn))"
   ]
  },
  {
   "cell_type": "code",
   "execution_count": 135,
   "id": "60f57132",
   "metadata": {},
   "outputs": [
    {
     "name": "stdout",
     "output_type": "stream",
     "text": [
      "MSE for predicting the DIRECTION OF MAXIMUM GAIN using knn when k= 5 is 0.61811\n",
      "MAE for predicting the DIRECTION OF MAXIMUM GAIN using knn when k= 5 is 0.70641\n"
     ]
    }
   ],
   "source": [
    "best_k=0\n",
    "mse_2_knn=10\n",
    "mae_2_knn=10\n",
    "for k in range(1,6):\n",
    "    knn = KNeighborsRegressor(n_neighbors=k)\n",
    "    knn.fit(X_train_2, y_train_2)\n",
    "    y_pred2_knn = knn.predict(X_test_2)\n",
    "    if(mse_2_knn >mse_2_knn,mean_squared_error(y_test_2, y_pred2_knn, multioutput='uniform_average', squared=True)):\n",
    "        best_k=k\n",
    "        mae_2_knn= mean_absolute_error(y_test_2, y_pred2_knn)\n",
    "        \n",
    "\n",
    "    mse_2_knn=min(mse_2_knn,mean_squared_error(y_test_2, y_pred2_knn, multioutput='uniform_average', squared=True))\n",
    "print('MSE for predicting the DIRECTION OF MAXIMUM GAIN using knn when k=' ,best_k, 'is ',end='')\n",
    "print('%.5f'%(mse_2_knn))\n",
    "\n",
    "\n",
    "print('MAE for predicting the DIRECTION OF MAXIMUM GAIN using knn when k=' ,best_k, 'is ',end='')\n",
    "print('%.5f'%(mae_2_knn))"
   ]
  },
  {
   "cell_type": "markdown",
   "id": "d01d3d4d",
   "metadata": {},
   "source": [
    "# Random Forest"
   ]
  },
  {
   "cell_type": "code",
   "execution_count": 136,
   "id": "f6a780ae",
   "metadata": {},
   "outputs": [],
   "source": [
    "from sklearn.ensemble import RandomForestRegressor"
   ]
  },
  {
   "cell_type": "code",
   "execution_count": 137,
   "id": "fc8cd60b",
   "metadata": {},
   "outputs": [
    {
     "name": "stdout",
     "output_type": "stream",
     "text": [
      "MSE for predicting the MAXIMUM GAIN using Random Forest is 0.08684\n",
      "MAE for predicting the MAXIMUM GAIN using Random Forest is 0.12201\n"
     ]
    }
   ],
   "source": [
    "mse_1_regressor=10\n",
    "mae_1_regressor=10\n",
    "regressor = RandomForestRegressor(n_estimators = 100, random_state = 0)\n",
    "regressor.fit(X_train_1, y_train_1)\n",
    "y_pred1_regressor = regressor.predict(X_test_1)\n",
    "if (mse_1_regressor>mean_squared_error(y_test_1, y_pred1_regressor, multioutput='uniform_average', squared=True)):\n",
    "    best_k =k\n",
    "    mae_1_regressor= mean_absolute_error(y_test_1, y_pred1_regressor)\n",
    "mse_1_regressor=min(mse_1_regressor,mean_squared_error(y_test_1, y_pred1_regressor, multioutput='uniform_average', squared=True))\n",
    "\n",
    "print('MSE for predicting the MAXIMUM GAIN using Random Forest' , 'is ',end='')\n",
    "print('%.5f'%(mse_1_regressor))\n",
    "\n",
    "print('MAE for predicting the MAXIMUM GAIN using Random Forest' , 'is ',end='')\n",
    "print('%.5f'%(mae_1_regressor))"
   ]
  },
  {
   "cell_type": "code",
   "execution_count": 138,
   "id": "9397ba4f",
   "metadata": {},
   "outputs": [
    {
     "name": "stdout",
     "output_type": "stream",
     "text": [
      "MSE for predicting the DIRECTION OF MAXIMUM GAIN using Random Forest is 0.62235\n",
      "MAE for predicting the DIRECTION OF MAXIMUM GAIN using Random Forest is 0.56599\n"
     ]
    }
   ],
   "source": [
    "mse_2_regressor=10\n",
    "mae_2_regressor=10\n",
    "regressor = RandomForestRegressor(n_estimators = 100, random_state = 0)\n",
    "regressor.fit(X_train_2, y_train_2)\n",
    "y_pred2_regressor = regressor.predict(X_test_2)\n",
    "if (mse_2_regressor>mean_squared_error(y_test_2, y_pred2_regressor, multioutput='uniform_average', squared=True)):\n",
    "    best_k =k\n",
    "    mae_2_regressor= mean_absolute_error(y_test_2, y_pred2_regressor)\n",
    "mse_2_regressor=min(mse_2_regressor,mean_squared_error(y_test_2, y_pred2_regressor, multioutput='uniform_average', squared=True))\n",
    "\n",
    "print('MSE for predicting the DIRECTION OF MAXIMUM GAIN using Random Forest' , 'is ',end='')\n",
    "print('%.5f'%(mse_2_regressor))\n",
    "\n",
    "print('MAE for predicting the DIRECTION OF MAXIMUM GAIN using Random Forest' , 'is ',end='')\n",
    "print('%.5f'%(mae_2_regressor))"
   ]
  },
  {
   "cell_type": "markdown",
   "id": "59d6c010",
   "metadata": {},
   "source": [
    "# classification Logistic Regression"
   ]
  },
  {
   "cell_type": "code",
   "execution_count": 139,
   "id": "3903d9de",
   "metadata": {},
   "outputs": [],
   "source": [
    "from sklearn.linear_model import LogisticRegression"
   ]
  },
  {
   "cell_type": "code",
   "execution_count": 140,
   "id": "308f1005",
   "metadata": {},
   "outputs": [],
   "source": [
    "from sklearn.metrics import confusion_matrix, ConfusionMatrixDisplay"
   ]
  },
  {
   "cell_type": "code",
   "execution_count": 141,
   "id": "bf6201a2",
   "metadata": {},
   "outputs": [],
   "source": [
    "from sklearn.metrics import accuracy_score"
   ]
  },
  {
   "cell_type": "code",
   "execution_count": 142,
   "id": "685e85fb",
   "metadata": {},
   "outputs": [
    {
     "data": {
      "image/png": "[encoded data removed]",
      "text/plain": [
       "<Figure size 640x480 with 2 Axes>"
      ]
     },
     "metadata": {},
     "output_type": "display_data"
    },
    {
     "name": "stdout",
     "output_type": "stream",
     "text": [
      "Accuracy of Logistic Regression model in predicting the REFLECTION PATTERN: 0.91250\n"
     ]
    }
   ],
   "source": [
    "logisticRegr = LogisticRegression()\n",
    "logisticRegr.fit(X_train_3, y_train_3)\n",
    "y_pred_logistic = logisticRegr.predict(X_test_3)\n",
    "cm = confusion_matrix(y_test_3, y_pred_logistic, labels=logisticRegr.classes_)\n",
    "disp = ConfusionMatrixDisplay(confusion_matrix=cm,\n",
    "                              display_labels=logisticRegr.classes_)\n",
    "disp.plot()\n",
    "plt.show()\n",
    "\n",
    "a_logistic=accuracy_score(y_test_3, y_pred_logistic,normalize=True)\n",
    "print('Accuracy of Logistic Regression model in predicting the REFLECTION PATTERN:','%.5f'%(a_logistic))"
   ]
  },
  {
   "cell_type": "markdown",
   "id": "291c4afb",
   "metadata": {},
   "source": [
    "# support vector classification"
   ]
  },
  {
   "cell_type": "code",
   "execution_count": 143,
   "id": "42d29446",
   "metadata": {},
   "outputs": [],
   "source": [
    "from sklearn.svm import SVC"
   ]
  },
  {
   "cell_type": "code",
   "execution_count": 144,
   "id": "8dd225be",
   "metadata": {},
   "outputs": [
    {
     "data": {
      "image/png": "[encoded data removed]",
      "text/plain": [
       "<Figure size 640x480 with 2 Axes>"
      ]
     },
     "metadata": {},
     "output_type": "display_data"
    },
    {
     "name": "stdout",
     "output_type": "stream",
     "text": [
      "Accuracy of SVC model with linear kernel in predicting the REFLECTION PATTERN: 0.91250\n"
     ]
    }
   ],
   "source": [
    "svm = SVC(kernel='linear')\n",
    "svm.fit(X_train_3, y_train_3)\n",
    "y_pred = svm.predict(X_test_3)\n",
    "cm = confusion_matrix(y_test_3, y_pred, labels=svm.classes_)\n",
    "disp = ConfusionMatrixDisplay(confusion_matrix=cm,\n",
    "                              display_labels=svm.classes_)\n",
    "disp.plot()\n",
    "plt.show()\n",
    "a_SVM_linear=accuracy_score(y_test_3, y_pred,normalize=True)\n",
    "print('Accuracy of SVC model with linear kernel in predicting the REFLECTION PATTERN:','%.5f'%(a_SVM_linear))\n"
   ]
  },
  {
   "cell_type": "code",
   "execution_count": 145,
   "id": "93e07a61",
   "metadata": {},
   "outputs": [
    {
     "data": {
      "image/png": "[encoded data removed]",
      "text/plain": [
       "<Figure size 640x480 with 2 Axes>"
      ]
     },
     "metadata": {},
     "output_type": "display_data"
    },
    {
     "name": "stdout",
     "output_type": "stream",
     "text": [
      "Accuracy of SVC model with rbf kernel and default parameters in predicting the REFLECTION PATTERN: 0.91250\n"
     ]
    }
   ],
   "source": [
    "svm = SVC()\n",
    "svm.fit(X_train_3, y_train_3)\n",
    "y_pred= svm.predict(X_test_3)\n",
    "cm = confusion_matrix(y_test_3, y_pred, labels=svm.classes_)\n",
    "disp = ConfusionMatrixDisplay(confusion_matrix=cm,\n",
    "                              display_labels=svm.classes_)\n",
    "disp.plot()\n",
    "plt.show()\n",
    "a_SVM=accuracy_score(y_test_3, y_pred,normalize=True)\n",
    "print('Accuracy of SVC model with rbf kernel and default parameters in predicting the REFLECTION PATTERN:','%.5f'%(a_SVM))"
   ]
  },
  {
   "cell_type": "markdown",
   "id": "fd957c8a",
   "metadata": {},
   "source": [
    "# KNeighborsClassification"
   ]
  },
  {
   "cell_type": "code",
   "execution_count": 146,
   "id": "9805af16",
   "metadata": {},
   "outputs": [],
   "source": [
    "from sklearn.neighbors import KNeighborsClassifier\n",
    "from sklearn.metrics import accuracy_score"
   ]
  },
  {
   "cell_type": "code",
   "execution_count": 147,
   "id": "b89de275",
   "metadata": {},
   "outputs": [
    {
     "data": {
      "image/png": "[encoded data removed]",
      "text/plain": [
       "<Figure size 640x480 with 2 Axes>"
      ]
     },
     "metadata": {},
     "output_type": "display_data"
    },
    {
     "name": "stdout",
     "output_type": "stream",
     "text": [
      "Accuracy of Knn model in predicting the REFLECTION PATTERN for k= 3 is: 0.95000\n"
     ]
    }
   ],
   "source": [
    "best_k=0\n",
    "best_acc=0\n",
    "for k in range(2,6):\n",
    "    knn = KNeighborsClassifier(n_neighbors=k)\n",
    "    knn.fit(X_train_3, y_train_3)\n",
    "    y_pred_3 = knn.predict(X_test_3)\n",
    "    if accuracy_score(y_test_3, y_pred_3,normalize=True ) > best_acc:\n",
    "        best_k=k\n",
    "    best_acc=max(best_acc,accuracy_score(y_test_3, y_pred_3,normalize=True ))\n",
    "knn = KNeighborsClassifier(n_neighbors=best_k)\n",
    "knn.fit(X_train_3, y_train_3)\n",
    "y_pred= svm.predict(X_test_3)\n",
    "cm = confusion_matrix(y_test_3, y_pred_3, labels=knn.classes_)\n",
    "disp = ConfusionMatrixDisplay(confusion_matrix=cm,\n",
    "                              display_labels=knn.classes_)\n",
    "disp.plot()\n",
    "plt.show()\n",
    "print('Accuracy of Knn model in predicting the REFLECTION PATTERN for k=',best_k,'is: ''%.5f'%(best_acc))\n"
   ]
  },
  {
   "cell_type": "markdown",
   "id": "964d11e3",
   "metadata": {},
   "source": [
    "# RandomForestClassification"
   ]
  },
  {
   "cell_type": "code",
   "execution_count": 148,
   "id": "9593a1aa",
   "metadata": {},
   "outputs": [],
   "source": [
    "from sklearn.ensemble import RandomForestClassifier"
   ]
  },
  {
   "cell_type": "code",
   "execution_count": 149,
   "id": "c63db53c",
   "metadata": {
    "scrolled": true
   },
   "outputs": [
    {
     "data": {
      "image/png": "[encoded data removed]",
      "text/plain": [
       "<Figure size 640x480 with 2 Axes>"
      ]
     },
     "metadata": {},
     "output_type": "display_data"
    },
    {
     "name": "stdout",
     "output_type": "stream",
     "text": [
      "Accuracy of Randomforest model in predicting the REFLECTION PATTERN is: 0.96250\n"
     ]
    }
   ],
   "source": [
    "best_k=0\n",
    "best_acc=0\n",
    "for k in range(2,6):\n",
    "    clf = RandomForestClassifier(n_estimators = 100)\n",
    "    clf.fit(X_train_3, y_train_3)\n",
    "    y_pred_3 = clf.predict(X_test_3)\n",
    "    if accuracy_score(y_test_3, y_pred_3,normalize=True ) > best_acc:\n",
    "        best_k=k\n",
    "    best_acc=max(best_acc,accuracy_score(y_test_3, y_pred_3,normalize=True ))\n",
    "random= RandomForestClassifier(n_estimators = 100)\n",
    "random.fit(X_train_3, y_train_3)\n",
    "cm = confusion_matrix(y_test_3, y_pred_3, labels=random.classes_)\n",
    "disp = ConfusionMatrixDisplay(confusion_matrix=cm,\n",
    "                              display_labels=random.classes_)\n",
    "disp.plot()\n",
    "plt.show()\n",
    "print('Accuracy of Randomforest model in predicting the REFLECTION PATTERN is: ''%.5f'%(best_acc))\n"
   ]
  },
  {
   "cell_type": "code",
   "execution_count": 150,
   "id": "093d96f0",
   "metadata": {},
   "outputs": [
    {
     "name": "stdout",
     "output_type": "stream",
     "text": [
      "Requirement already satisfied: xgboost in c:\\users\\hp\\anaconda3\\lib\\site-packages (1.7.6)\n",
      "Requirement already satisfied: scipy in c:\\users\\hp\\anaconda3\\lib\\site-packages (from xgboost) (1.10.0)\n",
      "Requirement already satisfied: numpy in c:\\users\\hp\\anaconda3\\lib\\site-packages (from xgboost) (1.23.5)\n"
     ]
    }
   ],
   "source": [
    "!pip install xgboost"
   ]
  },
  {
   "cell_type": "code",
   "execution_count": 151,
   "id": "3266124a",
   "metadata": {},
   "outputs": [],
   "source": [
    "import xgboost as xgb"
   ]
  },
  {
   "cell_type": "code",
   "execution_count": 152,
   "id": "2172457d",
   "metadata": {},
   "outputs": [],
   "source": [
    "from sklearn.tree import DecisionTreeClassifier"
   ]
  },
  {
   "cell_type": "code",
   "execution_count": 153,
   "id": "fa2efdc5",
   "metadata": {},
   "outputs": [
    {
     "data": {
      "text/html": [
       "<style>#sk-container-id-1 {color: black;background-color: white;}#sk-container-id-1 pre{padding: 0;}#sk-container-id-1 div.sk-toggleable {background-color: white;}#sk-container-id-1 label.sk-toggleable__label {cursor: pointer;display: block;width: 100%;margin-bottom: 0;padding: 0.3em;box-sizing: border-box;text-align: center;}#sk-container-id-1 label.sk-toggleable__label-arrow:before {content: \"▸\";float: left;margin-right: 0.25em;color: #696969;}#sk-container-id-1 label.sk-toggleable__label-arrow:hover:before {color: black;}#sk-container-id-1 div.sk-estimator:hover label.sk-toggleable__label-arrow:before {color: black;}#sk-container-id-1 div.sk-toggleable__content {max-height: 0;max-width: 0;overflow: hidden;text-align: left;background-color: #f0f8ff;}#sk-container-id-1 div.sk-toggleable__content pre {margin: 0.2em;color: black;border-radius: 0.25em;background-color: #f0f8ff;}#sk-container-id-1 input.sk-toggleable__control:checked~div.sk-toggleable__content {max-height: 200px;max-width: 100%;overflow: auto;}#sk-container-id-1 input.sk-toggleable__control:checked~label.sk-toggleable__label-arrow:before {content: \"▾\";}#sk-container-id-1 div.sk-estimator input.sk-toggleable__control:checked~label.sk-toggleable__label {background-color: #d4ebff;}#sk-container-id-1 div.sk-label input.sk-toggleable__control:checked~label.sk-toggleable__label {background-color: #d4ebff;}#sk-container-id-1 input.sk-hidden--visually {border: 0;clip: rect(1px 1px 1px 1px);clip: rect(1px, 1px, 1px, 1px);height: 1px;margin: -1px;overflow: hidden;padding: 0;position: absolute;width: 1px;}#sk-container-id-1 div.sk-estimator {font-family: monospace;background-color: #f0f8ff;border: 1px dotted black;border-radius: 0.25em;box-sizing: border-box;margin-bottom: 0.5em;}#sk-container-id-1 div.sk-estimator:hover {background-color: #d4ebff;}#sk-container-id-1 div.sk-parallel-item::after {content: \"\";width: 100%;border-bottom: 1px solid gray;flex-grow: 1;}#sk-container-id-1 div.sk-label:hover label.sk-toggleable__label {background-color: #d4ebff;}#sk-container-id-1 div.sk-serial::before {content: \"\";position: absolute;border-left: 1px solid gray;box-sizing: border-box;top: 0;bottom: 0;left: 50%;z-index: 0;}#sk-container-id-1 div.sk-serial {display: flex;flex-direction: column;align-items: center;background-color: white;padding-right: 0.2em;padding-left: 0.2em;position: relative;}#sk-container-id-1 div.sk-item {position: relative;z-index: 1;}#sk-container-id-1 div.sk-parallel {display: flex;align-items: stretch;justify-content: center;background-color: white;position: relative;}#sk-container-id-1 div.sk-item::before, #sk-container-id-1 div.sk-parallel-item::before {content: \"\";position: absolute;border-left: 1px solid gray;box-sizing: border-box;top: 0;bottom: 0;left: 50%;z-index: -1;}#sk-container-id-1 div.sk-parallel-item {display: flex;flex-direction: column;z-index: 1;position: relative;background-color: white;}#sk-container-id-1 div.sk-parallel-item:first-child::after {align-self: flex-end;width: 50%;}#sk-container-id-1 div.sk-parallel-item:last-child::after {align-self: flex-start;width: 50%;}#sk-container-id-1 div.sk-parallel-item:only-child::after {width: 0;}#sk-container-id-1 div.sk-dashed-wrapped {border: 1px dashed gray;margin: 0 0.4em 0.5em 0.4em;box-sizing: border-box;padding-bottom: 0.4em;background-color: white;}#sk-container-id-1 div.sk-label label {font-family: monospace;font-weight: bold;display: inline-block;line-height: 1.2em;}#sk-container-id-1 div.sk-label-container {text-align: center;}#sk-container-id-1 div.sk-container {/* jupyter's `normalize.less` sets `[hidden] { display: none; }` but bootstrap.min.css set `[hidden] { display: none !important; }` so we also need the `!important` here to be able to override the default hidden behavior on the sphinx rendered scikit-learn.org. See: https://github.com/scikit-learn/scikit-learn/issues/21755 */display: inline-block !important;position: relative;}#sk-container-id-1 div.sk-text-repr-fallback {display: none;}</style><div id=\"sk-container-id-1\" class=\"sk-top-container\"><div class=\"sk-text-repr-fallback\"><pre>DecisionTreeClassifier()</pre><b>In a Jupyter environment, please rerun this cell to show the HTML representation or trust the notebook. <br />On GitHub, the HTML representation is unable to render, please try loading this page with nbviewer.org.</b></div><div class=\"sk-container\" hidden><div class=\"sk-item\"><div class=\"sk-estimator sk-toggleable\"><input class=\"sk-toggleable__control sk-hidden--visually\" id=\"sk-estimator-id-1\" type=\"checkbox\" checked><label for=\"sk-estimator-id-1\" class=\"sk-toggleable__label sk-toggleable__label-arrow\">DecisionTreeClassifier</label><div class=\"sk-toggleable__content\"><pre>DecisionTreeClassifier()</pre></div></div></div></div></div>"
      ],
      "text/plain": [
       "DecisionTreeClassifier()"
      ]
     },
     "execution_count": 153,
     "metadata": {},
     "output_type": "execute_result"
    }
   ],
   "source": [
    "dt = DecisionTreeClassifier()\n",
    "dt.fit(X_train_3, y_train_3)"
   ]
  },
  {
   "cell_type": "code",
   "execution_count": 154,
   "id": "7218a42f",
   "metadata": {},
   "outputs": [],
   "source": [
    "y_pred= dt.predict(X_test_3)"
   ]
  },
  {
   "cell_type": "code",
   "execution_count": 155,
   "id": "6aeee775",
   "metadata": {},
   "outputs": [
    {
     "data": {
      "image/png": "[encoded data removed]",
      "text/plain": [
       "<Figure size 640x480 with 2 Axes>"
      ]
     },
     "metadata": {},
     "output_type": "display_data"
    },
    {
     "data": {
      "text/plain": [
       "0.9875"
      ]
     },
     "execution_count": 155,
     "metadata": {},
     "output_type": "execute_result"
    }
   ],
   "source": [
    "cm = confusion_matrix(y_test_3, y_pred, labels=dt.classes_)\n",
    "disp = ConfusionMatrixDisplay(confusion_matrix=cm,\n",
    "                              display_labels=dt.classes_)\n",
    "disp.plot()\n",
    "plt.show()\n",
    "from sklearn.metrics import accuracy_score\n",
    "accuracy_score(y_test_3, y_pred,normalize=True)\n"
   ]
  },
  {
   "cell_type": "code",
   "execution_count": null,
   "id": "8c807088",
   "metadata": {},
   "outputs": [],
   "source": []
  }
 ],
 "metadata": {
  "kernelspec": {
   "display_name": "Python 3 (ipykernel)",
   "language": "python",
   "name": "python3"
  },
  "language_info": {
   "codemirror_mode": {
    "name": "ipython",
    "version": 3
   },
   "file_extension": ".py",
   "mimetype": "text/x-python",
   "name": "python",
   "nbconvert_exporter": "python",
   "pygments_lexer": "ipython3",
   "version": "3.10.9"
  }
 },
 "nbformat": 4,
 "nbformat_minor": 5
}
