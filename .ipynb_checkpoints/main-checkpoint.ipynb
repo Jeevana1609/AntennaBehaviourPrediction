{
 "cells": [
  {
   "cell_type": "code",
   "execution_count": 21,
   "id": "64952352",
   "metadata": {},
   "outputs": [],
   "source": [
    "import pandas as pd\n",
    "import numpy as np\n",
    "import matplotlib.pyplot as plt"
   ]
  },
  {
   "cell_type": "code",
   "execution_count": 22,
   "id": "b7888a33",
   "metadata": {},
   "outputs": [
    {
     "data": {
      "text/html": [
       "<div>\n",
       "<style scoped>\n",
       "    .dataframe tbody tr th:only-of-type {\n",
       "        vertical-align: middle;\n",
       "    }\n",
       "\n",
       "    .dataframe tbody tr th {\n",
       "        vertical-align: top;\n",
       "    }\n",
       "\n",
       "    .dataframe thead th {\n",
       "        text-align: right;\n",
       "    }\n",
       "</style>\n",
       "<table border=\"1\" class=\"dataframe\">\n",
       "  <thead>\n",
       "    <tr style=\"text-align: right;\">\n",
       "      <th></th>\n",
       "      <th>Frequency(GHz) (f)</th>\n",
       "      <th>Dipole_length (L)</th>\n",
       "      <th>Impedance (z)</th>\n",
       "      <th>Wire Radius(mm) (rho)</th>\n",
       "      <th>Radius of curvature (m) (a)</th>\n",
       "      <th>Curved surface height(m) (h)</th>\n",
       "      <th>Angle(theta)</th>\n",
       "      <th>Distance(m) (d)</th>\n",
       "      <th>Relative_Permittivity</th>\n",
       "      <th>Max_gain</th>\n",
       "      <th>Direction_max_gain</th>\n",
       "      <th>Reflection_Pattern</th>\n",
       "    </tr>\n",
       "  </thead>\n",
       "  <tbody>\n",
       "    <tr>\n",
       "      <th>0</th>\n",
       "      <td>1</td>\n",
       "      <td>0.0749</td>\n",
       "      <td>50</td>\n",
       "      <td>1</td>\n",
       "      <td>0.2997</td>\n",
       "      <td>0.1498</td>\n",
       "      <td>15</td>\n",
       "      <td>0.2997</td>\n",
       "      <td>infinite</td>\n",
       "      <td>2.763</td>\n",
       "      <td>310.0</td>\n",
       "      <td>Multi-Directional</td>\n",
       "    </tr>\n",
       "    <tr>\n",
       "      <th>1</th>\n",
       "      <td>1</td>\n",
       "      <td>0.0749</td>\n",
       "      <td>50</td>\n",
       "      <td>1</td>\n",
       "      <td>0.2997</td>\n",
       "      <td>0.1498</td>\n",
       "      <td>15</td>\n",
       "      <td>0.5995</td>\n",
       "      <td>infinite</td>\n",
       "      <td>2.119</td>\n",
       "      <td>332.0</td>\n",
       "      <td>Multi-Directional</td>\n",
       "    </tr>\n",
       "    <tr>\n",
       "      <th>2</th>\n",
       "      <td>1</td>\n",
       "      <td>0.0749</td>\n",
       "      <td>50</td>\n",
       "      <td>1</td>\n",
       "      <td>0.2997</td>\n",
       "      <td>0.1498</td>\n",
       "      <td>15</td>\n",
       "      <td>0.8993</td>\n",
       "      <td>infinite</td>\n",
       "      <td>1.943</td>\n",
       "      <td>338.1</td>\n",
       "      <td>Multi-Directional</td>\n",
       "    </tr>\n",
       "    <tr>\n",
       "      <th>3</th>\n",
       "      <td>1</td>\n",
       "      <td>0.0749</td>\n",
       "      <td>50</td>\n",
       "      <td>1</td>\n",
       "      <td>0.2997</td>\n",
       "      <td>0.1498</td>\n",
       "      <td>15</td>\n",
       "      <td>1.1991</td>\n",
       "      <td>infinite</td>\n",
       "      <td>1.865</td>\n",
       "      <td>342.0</td>\n",
       "      <td>Multi-Directional</td>\n",
       "    </tr>\n",
       "    <tr>\n",
       "      <th>4</th>\n",
       "      <td>1</td>\n",
       "      <td>0.0749</td>\n",
       "      <td>50</td>\n",
       "      <td>1</td>\n",
       "      <td>0.2997</td>\n",
       "      <td>0.1498</td>\n",
       "      <td>15</td>\n",
       "      <td>1.4989</td>\n",
       "      <td>infinite</td>\n",
       "      <td>1.819</td>\n",
       "      <td>344.0</td>\n",
       "      <td>Multi-Directional</td>\n",
       "    </tr>\n",
       "  </tbody>\n",
       "</table>\n",
       "</div>"
      ],
      "text/plain": [
       "   Frequency(GHz) (f)  Dipole_length (L)  Impedance (z)   \n",
       "0                   1             0.0749             50  \\\n",
       "1                   1             0.0749             50   \n",
       "2                   1             0.0749             50   \n",
       "3                   1             0.0749             50   \n",
       "4                   1             0.0749             50   \n",
       "\n",
       "   Wire Radius(mm) (rho)  Radius of curvature (m) (a)   \n",
       "0                      1                       0.2997  \\\n",
       "1                      1                       0.2997   \n",
       "2                      1                       0.2997   \n",
       "3                      1                       0.2997   \n",
       "4                      1                       0.2997   \n",
       "\n",
       "   Curved surface height(m) (h)  Angle(theta)  Distance(m) (d)   \n",
       "0                        0.1498            15           0.2997  \\\n",
       "1                        0.1498            15           0.5995   \n",
       "2                        0.1498            15           0.8993   \n",
       "3                        0.1498            15           1.1991   \n",
       "4                        0.1498            15           1.4989   \n",
       "\n",
       "  Relative_Permittivity  Max_gain  Direction_max_gain Reflection_Pattern  \n",
       "0              infinite     2.763               310.0  Multi-Directional  \n",
       "1              infinite     2.119               332.0  Multi-Directional  \n",
       "2              infinite     1.943               338.1  Multi-Directional  \n",
       "3              infinite     1.865               342.0  Multi-Directional  \n",
       "4              infinite     1.819               344.0  Multi-Directional  "
      ]
     },
     "execution_count": 22,
     "metadata": {},
     "output_type": "execute_result"
    }
   ],
   "source": [
    "df = pd.read_excel('dataset.xlsx')\n",
    "df.head()"
   ]
  },
  {
   "cell_type": "code",
   "execution_count": 23,
   "id": "7332f192",
   "metadata": {},
   "outputs": [
    {
     "data": {
      "text/plain": [
       "Frequency(GHz) (f)                int64\n",
       "Dipole_length (L)               float64\n",
       "Impedance (z)                     int64\n",
       "Wire Radius(mm) (rho)             int64\n",
       "Radius of curvature (m) (a)     float64\n",
       "Curved surface height(m) (h)    float64\n",
       "Angle(theta)                      int64\n",
       "Distance(m) (d)                 float64\n",
       "Relative_Permittivity            object\n",
       "Max_gain                        float64\n",
       "Direction_max_gain              float64\n",
       "Reflection_Pattern               object\n",
       "dtype: object"
      ]
     },
     "execution_count": 23,
     "metadata": {},
     "output_type": "execute_result"
    }
   ],
   "source": [
    "df.dtypes"
   ]
  },
  {
   "cell_type": "code",
   "execution_count": 24,
   "id": "ef56f64a",
   "metadata": {},
   "outputs": [
    {
     "data": {
      "text/html": [
       "<div>\n",
       "<style scoped>\n",
       "    .dataframe tbody tr th:only-of-type {\n",
       "        vertical-align: middle;\n",
       "    }\n",
       "\n",
       "    .dataframe tbody tr th {\n",
       "        vertical-align: top;\n",
       "    }\n",
       "\n",
       "    .dataframe thead th {\n",
       "        text-align: right;\n",
       "    }\n",
       "</style>\n",
       "<table border=\"1\" class=\"dataframe\">\n",
       "  <thead>\n",
       "    <tr style=\"text-align: right;\">\n",
       "      <th></th>\n",
       "      <th>Frequency(GHz) (f)</th>\n",
       "      <th>Dipole_length (L)</th>\n",
       "      <th>Impedance (z)</th>\n",
       "      <th>Wire Radius(mm) (rho)</th>\n",
       "      <th>Radius of curvature (m) (a)</th>\n",
       "      <th>Curved surface height(m) (h)</th>\n",
       "      <th>Angle(theta)</th>\n",
       "      <th>Distance(m) (d)</th>\n",
       "      <th>Relative_Permittivity</th>\n",
       "    </tr>\n",
       "  </thead>\n",
       "  <tbody>\n",
       "    <tr>\n",
       "      <th>0</th>\n",
       "      <td>1</td>\n",
       "      <td>0.0749</td>\n",
       "      <td>50</td>\n",
       "      <td>1</td>\n",
       "      <td>0.2997</td>\n",
       "      <td>0.1498</td>\n",
       "      <td>15</td>\n",
       "      <td>0.2997</td>\n",
       "      <td>infinite</td>\n",
       "    </tr>\n",
       "    <tr>\n",
       "      <th>1</th>\n",
       "      <td>1</td>\n",
       "      <td>0.0749</td>\n",
       "      <td>50</td>\n",
       "      <td>1</td>\n",
       "      <td>0.2997</td>\n",
       "      <td>0.1498</td>\n",
       "      <td>15</td>\n",
       "      <td>0.5995</td>\n",
       "      <td>infinite</td>\n",
       "    </tr>\n",
       "    <tr>\n",
       "      <th>2</th>\n",
       "      <td>1</td>\n",
       "      <td>0.0749</td>\n",
       "      <td>50</td>\n",
       "      <td>1</td>\n",
       "      <td>0.2997</td>\n",
       "      <td>0.1498</td>\n",
       "      <td>15</td>\n",
       "      <td>0.8993</td>\n",
       "      <td>infinite</td>\n",
       "    </tr>\n",
       "    <tr>\n",
       "      <th>3</th>\n",
       "      <td>1</td>\n",
       "      <td>0.0749</td>\n",
       "      <td>50</td>\n",
       "      <td>1</td>\n",
       "      <td>0.2997</td>\n",
       "      <td>0.1498</td>\n",
       "      <td>15</td>\n",
       "      <td>1.1991</td>\n",
       "      <td>infinite</td>\n",
       "    </tr>\n",
       "    <tr>\n",
       "      <th>4</th>\n",
       "      <td>1</td>\n",
       "      <td>0.0749</td>\n",
       "      <td>50</td>\n",
       "      <td>1</td>\n",
       "      <td>0.2997</td>\n",
       "      <td>0.1498</td>\n",
       "      <td>15</td>\n",
       "      <td>1.4989</td>\n",
       "      <td>infinite</td>\n",
       "    </tr>\n",
       "  </tbody>\n",
       "</table>\n",
       "</div>"
      ],
      "text/plain": [
       "   Frequency(GHz) (f)  Dipole_length (L)  Impedance (z)   \n",
       "0                   1             0.0749             50  \\\n",
       "1                   1             0.0749             50   \n",
       "2                   1             0.0749             50   \n",
       "3                   1             0.0749             50   \n",
       "4                   1             0.0749             50   \n",
       "\n",
       "   Wire Radius(mm) (rho)  Radius of curvature (m) (a)   \n",
       "0                      1                       0.2997  \\\n",
       "1                      1                       0.2997   \n",
       "2                      1                       0.2997   \n",
       "3                      1                       0.2997   \n",
       "4                      1                       0.2997   \n",
       "\n",
       "   Curved surface height(m) (h)  Angle(theta)  Distance(m) (d)   \n",
       "0                        0.1498            15           0.2997  \\\n",
       "1                        0.1498            15           0.5995   \n",
       "2                        0.1498            15           0.8993   \n",
       "3                        0.1498            15           1.1991   \n",
       "4                        0.1498            15           1.4989   \n",
       "\n",
       "  Relative_Permittivity  \n",
       "0              infinite  \n",
       "1              infinite  \n",
       "2              infinite  \n",
       "3              infinite  \n",
       "4              infinite  "
      ]
     },
     "execution_count": 24,
     "metadata": {},
     "output_type": "execute_result"
    }
   ],
   "source": [
    "X=df.drop(['Max_gain', 'Direction_max_gain','Reflection_Pattern'],axis=1).copy()\n",
    "X.head()"
   ]
  },
  {
   "cell_type": "code",
   "execution_count": 25,
   "id": "309520d4",
   "metadata": {},
   "outputs": [
    {
     "data": {
      "text/plain": [
       "0    2.763\n",
       "1    2.119\n",
       "2    1.943\n",
       "3    1.865\n",
       "4    1.819\n",
       "Name: Max_gain, dtype: float64"
      ]
     },
     "execution_count": 25,
     "metadata": {},
     "output_type": "execute_result"
    }
   ],
   "source": [
    "y_1=df['Max_gain'].copy()\n",
    "y_1.head()"
   ]
  },
  {
   "cell_type": "code",
   "execution_count": 26,
   "id": "b2c0044b",
   "metadata": {},
   "outputs": [
    {
     "data": {
      "text/plain": [
       "0    310.0\n",
       "1    332.0\n",
       "2    338.1\n",
       "3    342.0\n",
       "4    344.0\n",
       "Name: Direction_max_gain, dtype: float64"
      ]
     },
     "execution_count": 26,
     "metadata": {},
     "output_type": "execute_result"
    }
   ],
   "source": [
    "y_2=df['Direction_max_gain'].copy()\n",
    "y_2.head()"
   ]
  },
  {
   "cell_type": "code",
   "execution_count": 27,
   "id": "f2aeffcc",
   "metadata": {},
   "outputs": [
    {
     "data": {
      "text/plain": [
       "0    Multi-Directional\n",
       "1    Multi-Directional\n",
       "2    Multi-Directional\n",
       "3    Multi-Directional\n",
       "4    Multi-Directional\n",
       "Name: Reflection_Pattern, dtype: object"
      ]
     },
     "execution_count": 27,
     "metadata": {},
     "output_type": "execute_result"
    }
   ],
   "source": [
    "y_3=df['Reflection_Pattern'].copy()\n",
    "y_3.head()"
   ]
  },
  {
   "cell_type": "code",
   "execution_count": 28,
   "id": "c28805fa",
   "metadata": {},
   "outputs": [
    {
     "data": {
      "text/plain": [
       "0    infinite\n",
       "1    infinite\n",
       "2    infinite\n",
       "3    infinite\n",
       "4    infinite\n",
       "Name: Relative_Permittivity, dtype: object"
      ]
     },
     "execution_count": 28,
     "metadata": {},
     "output_type": "execute_result"
    }
   ],
   "source": [
    "X['Relative_Permittivity'].head()"
   ]
  },
  {
   "cell_type": "code",
   "execution_count": 29,
   "id": "00556bfe",
   "metadata": {},
   "outputs": [
    {
     "data": {
      "text/plain": [
       "0    0\n",
       "1    0\n",
       "2    0\n",
       "3    0\n",
       "4    0\n",
       "Name: Relative_Permittivity, dtype: int64"
      ]
     },
     "execution_count": 29,
     "metadata": {},
     "output_type": "execute_result"
    }
   ],
   "source": [
    "def reciprocal(x):\n",
    "    if x == 'infinite':\n",
    "        return 0\n",
    "    else:\n",
    "        return 1/x\n",
    "\n",
    "X['Relative_Permittivity'] = X['Relative_Permittivity'].apply(reciprocal)\n",
    "X['Relative_Permittivity'].head()"
   ]
  },
  {
   "cell_type": "code",
   "execution_count": 30,
   "id": "6b65a9dc",
   "metadata": {},
   "outputs": [
    {
     "data": {
      "text/html": [
       "<div>\n",
       "<style scoped>\n",
       "    .dataframe tbody tr th:only-of-type {\n",
       "        vertical-align: middle;\n",
       "    }\n",
       "\n",
       "    .dataframe tbody tr th {\n",
       "        vertical-align: top;\n",
       "    }\n",
       "\n",
       "    .dataframe thead th {\n",
       "        text-align: right;\n",
       "    }\n",
       "</style>\n",
       "<table border=\"1\" class=\"dataframe\">\n",
       "  <thead>\n",
       "    <tr style=\"text-align: right;\">\n",
       "      <th></th>\n",
       "      <th>Frequency(GHz) (f)</th>\n",
       "      <th>Dipole_length (L)</th>\n",
       "      <th>Impedance (z)</th>\n",
       "      <th>Wire Radius(mm) (rho)</th>\n",
       "      <th>Radius of curvature (m) (a)</th>\n",
       "      <th>Curved surface height(m) (h)</th>\n",
       "      <th>Angle(theta)</th>\n",
       "      <th>Distance(m) (d)</th>\n",
       "      <th>Relative_Permittivity</th>\n",
       "    </tr>\n",
       "  </thead>\n",
       "  <tbody>\n",
       "    <tr>\n",
       "      <th>0</th>\n",
       "      <td>1</td>\n",
       "      <td>0.0749</td>\n",
       "      <td>50</td>\n",
       "      <td>1</td>\n",
       "      <td>0.2997</td>\n",
       "      <td>0.1498</td>\n",
       "      <td>15</td>\n",
       "      <td>0.2997</td>\n",
       "      <td>0</td>\n",
       "    </tr>\n",
       "    <tr>\n",
       "      <th>1</th>\n",
       "      <td>1</td>\n",
       "      <td>0.0749</td>\n",
       "      <td>50</td>\n",
       "      <td>1</td>\n",
       "      <td>0.2997</td>\n",
       "      <td>0.1498</td>\n",
       "      <td>15</td>\n",
       "      <td>0.5995</td>\n",
       "      <td>0</td>\n",
       "    </tr>\n",
       "    <tr>\n",
       "      <th>2</th>\n",
       "      <td>1</td>\n",
       "      <td>0.0749</td>\n",
       "      <td>50</td>\n",
       "      <td>1</td>\n",
       "      <td>0.2997</td>\n",
       "      <td>0.1498</td>\n",
       "      <td>15</td>\n",
       "      <td>0.8993</td>\n",
       "      <td>0</td>\n",
       "    </tr>\n",
       "    <tr>\n",
       "      <th>3</th>\n",
       "      <td>1</td>\n",
       "      <td>0.0749</td>\n",
       "      <td>50</td>\n",
       "      <td>1</td>\n",
       "      <td>0.2997</td>\n",
       "      <td>0.1498</td>\n",
       "      <td>15</td>\n",
       "      <td>1.1991</td>\n",
       "      <td>0</td>\n",
       "    </tr>\n",
       "    <tr>\n",
       "      <th>4</th>\n",
       "      <td>1</td>\n",
       "      <td>0.0749</td>\n",
       "      <td>50</td>\n",
       "      <td>1</td>\n",
       "      <td>0.2997</td>\n",
       "      <td>0.1498</td>\n",
       "      <td>15</td>\n",
       "      <td>1.4989</td>\n",
       "      <td>0</td>\n",
       "    </tr>\n",
       "  </tbody>\n",
       "</table>\n",
       "</div>"
      ],
      "text/plain": [
       "   Frequency(GHz) (f)  Dipole_length (L)  Impedance (z)   \n",
       "0                   1             0.0749             50  \\\n",
       "1                   1             0.0749             50   \n",
       "2                   1             0.0749             50   \n",
       "3                   1             0.0749             50   \n",
       "4                   1             0.0749             50   \n",
       "\n",
       "   Wire Radius(mm) (rho)  Radius of curvature (m) (a)   \n",
       "0                      1                       0.2997  \\\n",
       "1                      1                       0.2997   \n",
       "2                      1                       0.2997   \n",
       "3                      1                       0.2997   \n",
       "4                      1                       0.2997   \n",
       "\n",
       "   Curved surface height(m) (h)  Angle(theta)  Distance(m) (d)   \n",
       "0                        0.1498            15           0.2997  \\\n",
       "1                        0.1498            15           0.5995   \n",
       "2                        0.1498            15           0.8993   \n",
       "3                        0.1498            15           1.1991   \n",
       "4                        0.1498            15           1.4989   \n",
       "\n",
       "   Relative_Permittivity  \n",
       "0                      0  \n",
       "1                      0  \n",
       "2                      0  \n",
       "3                      0  \n",
       "4                      0  "
      ]
     },
     "execution_count": 30,
     "metadata": {},
     "output_type": "execute_result"
    }
   ],
   "source": [
    "X.head()"
   ]
  },
  {
   "cell_type": "code",
   "execution_count": 33,
   "id": "5441f21a",
   "metadata": {},
   "outputs": [],
   "source": [
    "from sklearn.preprocessing import scale"
   ]
  },
  {
   "cell_type": "code",
   "execution_count": 34,
   "id": "90ddc21b",
   "metadata": {},
   "outputs": [
    {
     "data": {
      "text/html": [
       "<div>\n",
       "<style scoped>\n",
       "    .dataframe tbody tr th:only-of-type {\n",
       "        vertical-align: middle;\n",
       "    }\n",
       "\n",
       "    .dataframe tbody tr th {\n",
       "        vertical-align: top;\n",
       "    }\n",
       "\n",
       "    .dataframe thead th {\n",
       "        text-align: right;\n",
       "    }\n",
       "</style>\n",
       "<table border=\"1\" class=\"dataframe\">\n",
       "  <thead>\n",
       "    <tr style=\"text-align: right;\">\n",
       "      <th></th>\n",
       "      <th>0</th>\n",
       "      <th>1</th>\n",
       "      <th>2</th>\n",
       "      <th>3</th>\n",
       "      <th>4</th>\n",
       "      <th>5</th>\n",
       "      <th>6</th>\n",
       "      <th>7</th>\n",
       "      <th>8</th>\n",
       "    </tr>\n",
       "  </thead>\n",
       "  <tbody>\n",
       "    <tr>\n",
       "      <th>0</th>\n",
       "      <td>0.0</td>\n",
       "      <td>1.387779e-17</td>\n",
       "      <td>0.0</td>\n",
       "      <td>0.0</td>\n",
       "      <td>-1.620092</td>\n",
       "      <td>2.775558e-17</td>\n",
       "      <td>-1.332107</td>\n",
       "      <td>-1.149470</td>\n",
       "      <td>0.0</td>\n",
       "    </tr>\n",
       "    <tr>\n",
       "      <th>1</th>\n",
       "      <td>0.0</td>\n",
       "      <td>1.387779e-17</td>\n",
       "      <td>0.0</td>\n",
       "      <td>0.0</td>\n",
       "      <td>-1.620092</td>\n",
       "      <td>2.775558e-17</td>\n",
       "      <td>-1.332107</td>\n",
       "      <td>-0.809234</td>\n",
       "      <td>0.0</td>\n",
       "    </tr>\n",
       "    <tr>\n",
       "      <th>2</th>\n",
       "      <td>0.0</td>\n",
       "      <td>1.387779e-17</td>\n",
       "      <td>0.0</td>\n",
       "      <td>0.0</td>\n",
       "      <td>-1.620092</td>\n",
       "      <td>2.775558e-17</td>\n",
       "      <td>-1.332107</td>\n",
       "      <td>-0.468999</td>\n",
       "      <td>0.0</td>\n",
       "    </tr>\n",
       "    <tr>\n",
       "      <th>3</th>\n",
       "      <td>0.0</td>\n",
       "      <td>1.387779e-17</td>\n",
       "      <td>0.0</td>\n",
       "      <td>0.0</td>\n",
       "      <td>-1.620092</td>\n",
       "      <td>2.775558e-17</td>\n",
       "      <td>-1.332107</td>\n",
       "      <td>-0.128763</td>\n",
       "      <td>0.0</td>\n",
       "    </tr>\n",
       "    <tr>\n",
       "      <th>4</th>\n",
       "      <td>0.0</td>\n",
       "      <td>1.387779e-17</td>\n",
       "      <td>0.0</td>\n",
       "      <td>0.0</td>\n",
       "      <td>-1.620092</td>\n",
       "      <td>2.775558e-17</td>\n",
       "      <td>-1.332107</td>\n",
       "      <td>0.211472</td>\n",
       "      <td>0.0</td>\n",
       "    </tr>\n",
       "  </tbody>\n",
       "</table>\n",
       "</div>"
      ],
      "text/plain": [
       "     0             1    2    3         4             5         6         7   \n",
       "0  0.0  1.387779e-17  0.0  0.0 -1.620092  2.775558e-17 -1.332107 -1.149470  \\\n",
       "1  0.0  1.387779e-17  0.0  0.0 -1.620092  2.775558e-17 -1.332107 -0.809234   \n",
       "2  0.0  1.387779e-17  0.0  0.0 -1.620092  2.775558e-17 -1.332107 -0.468999   \n",
       "3  0.0  1.387779e-17  0.0  0.0 -1.620092  2.775558e-17 -1.332107 -0.128763   \n",
       "4  0.0  1.387779e-17  0.0  0.0 -1.620092  2.775558e-17 -1.332107  0.211472   \n",
       "\n",
       "     8  \n",
       "0  0.0  \n",
       "1  0.0  \n",
       "2  0.0  \n",
       "3  0.0  \n",
       "4  0.0  "
      ]
     },
     "execution_count": 34,
     "metadata": {},
     "output_type": "execute_result"
    }
   ],
   "source": [
    "X_scaled = scale(X)\n",
    "X_encoded_df=pd.DataFrame(X_scaled)\n",
    "X_encoded_df.head()"
   ]
  },
  {
   "cell_type": "code",
   "execution_count": 35,
   "id": "5ba98bea",
   "metadata": {},
   "outputs": [
    {
     "data": {
      "text/html": [
       "<div>\n",
       "<style scoped>\n",
       "    .dataframe tbody tr th:only-of-type {\n",
       "        vertical-align: middle;\n",
       "    }\n",
       "\n",
       "    .dataframe tbody tr th {\n",
       "        vertical-align: top;\n",
       "    }\n",
       "\n",
       "    .dataframe thead th {\n",
       "        text-align: right;\n",
       "    }\n",
       "</style>\n",
       "<table border=\"1\" class=\"dataframe\">\n",
       "  <thead>\n",
       "    <tr style=\"text-align: right;\">\n",
       "      <th></th>\n",
       "      <th>0</th>\n",
       "    </tr>\n",
       "  </thead>\n",
       "  <tbody>\n",
       "    <tr>\n",
       "      <th>0</th>\n",
       "      <td>-0.469298</td>\n",
       "    </tr>\n",
       "    <tr>\n",
       "      <th>1</th>\n",
       "      <td>-0.777658</td>\n",
       "    </tr>\n",
       "    <tr>\n",
       "      <th>2</th>\n",
       "      <td>-0.861930</td>\n",
       "    </tr>\n",
       "    <tr>\n",
       "      <th>3</th>\n",
       "      <td>-0.899278</td>\n",
       "    </tr>\n",
       "    <tr>\n",
       "      <th>4</th>\n",
       "      <td>-0.921304</td>\n",
       "    </tr>\n",
       "  </tbody>\n",
       "</table>\n",
       "</div>"
      ],
      "text/plain": [
       "          0\n",
       "0 -0.469298\n",
       "1 -0.777658\n",
       "2 -0.861930\n",
       "3 -0.899278\n",
       "4 -0.921304"
      ]
     },
     "execution_count": 35,
     "metadata": {},
     "output_type": "execute_result"
    }
   ],
   "source": [
    "y_1_scaled = scale(y_1)\n",
    "y_1_df=pd.DataFrame(y_1_scaled)\n",
    "y_1_df.head()"
   ]
  },
  {
   "cell_type": "code",
   "execution_count": 36,
   "id": "478f5806",
   "metadata": {},
   "outputs": [
    {
     "data": {
      "text/html": [
       "<div>\n",
       "<style scoped>\n",
       "    .dataframe tbody tr th:only-of-type {\n",
       "        vertical-align: middle;\n",
       "    }\n",
       "\n",
       "    .dataframe tbody tr th {\n",
       "        vertical-align: top;\n",
       "    }\n",
       "\n",
       "    .dataframe thead th {\n",
       "        text-align: right;\n",
       "    }\n",
       "</style>\n",
       "<table border=\"1\" class=\"dataframe\">\n",
       "  <thead>\n",
       "    <tr style=\"text-align: right;\">\n",
       "      <th></th>\n",
       "      <th>0</th>\n",
       "    </tr>\n",
       "  </thead>\n",
       "  <tbody>\n",
       "    <tr>\n",
       "      <th>0</th>\n",
       "      <td>-0.147434</td>\n",
       "    </tr>\n",
       "    <tr>\n",
       "      <th>1</th>\n",
       "      <td>0.279674</td>\n",
       "    </tr>\n",
       "    <tr>\n",
       "      <th>2</th>\n",
       "      <td>0.398099</td>\n",
       "    </tr>\n",
       "    <tr>\n",
       "      <th>3</th>\n",
       "      <td>0.473814</td>\n",
       "    </tr>\n",
       "    <tr>\n",
       "      <th>4</th>\n",
       "      <td>0.512642</td>\n",
       "    </tr>\n",
       "  </tbody>\n",
       "</table>\n",
       "</div>"
      ],
      "text/plain": [
       "          0\n",
       "0 -0.147434\n",
       "1  0.279674\n",
       "2  0.398099\n",
       "3  0.473814\n",
       "4  0.512642"
      ]
     },
     "execution_count": 36,
     "metadata": {},
     "output_type": "execute_result"
    }
   ],
   "source": [
    "y_2_scaled = scale(y_2)\n",
    "y_2_df=pd.DataFrame(y_2_scaled)\n",
    "y_2_df.head()"
   ]
  },
  {
   "cell_type": "code",
   "execution_count": 37,
   "id": "48f07c59",
   "metadata": {},
   "outputs": [
    {
     "data": {
      "text/html": [
       "<div>\n",
       "<style scoped>\n",
       "    .dataframe tbody tr th:only-of-type {\n",
       "        vertical-align: middle;\n",
       "    }\n",
       "\n",
       "    .dataframe tbody tr th {\n",
       "        vertical-align: top;\n",
       "    }\n",
       "\n",
       "    .dataframe thead th {\n",
       "        text-align: right;\n",
       "    }\n",
       "</style>\n",
       "<table border=\"1\" class=\"dataframe\">\n",
       "  <thead>\n",
       "    <tr style=\"text-align: right;\">\n",
       "      <th></th>\n",
       "      <th>Frequency(GHz) (f)</th>\n",
       "      <th>Dipole_length (L)</th>\n",
       "      <th>Impedance (z)</th>\n",
       "      <th>Wire Radius(mm) (rho)</th>\n",
       "      <th>Radius of curvature (m) (a)</th>\n",
       "      <th>Curved surface height(m) (h)</th>\n",
       "      <th>Angle(theta)</th>\n",
       "      <th>Distance(m) (d)</th>\n",
       "      <th>Max_gain</th>\n",
       "      <th>Direction_max_gain</th>\n",
       "    </tr>\n",
       "  </thead>\n",
       "  <tbody>\n",
       "    <tr>\n",
       "      <th>count</th>\n",
       "      <td>362.0</td>\n",
       "      <td>3.620000e+02</td>\n",
       "      <td>362.0</td>\n",
       "      <td>362.0</td>\n",
       "      <td>362.000000</td>\n",
       "      <td>3.620000e+02</td>\n",
       "      <td>362.00000</td>\n",
       "      <td>362.000000</td>\n",
       "      <td>362.000000</td>\n",
       "      <td>362.000000</td>\n",
       "    </tr>\n",
       "    <tr>\n",
       "      <th>mean</th>\n",
       "      <td>1.0</td>\n",
       "      <td>7.490000e-02</td>\n",
       "      <td>50.0</td>\n",
       "      <td>1.0</td>\n",
       "      <td>0.956444</td>\n",
       "      <td>1.498000e-01</td>\n",
       "      <td>30.00000</td>\n",
       "      <td>1.312560</td>\n",
       "      <td>3.743115</td>\n",
       "      <td>317.594199</td>\n",
       "    </tr>\n",
       "    <tr>\n",
       "      <th>std</th>\n",
       "      <td>0.0</td>\n",
       "      <td>2.779399e-16</td>\n",
       "      <td>0.0</td>\n",
       "      <td>0.0</td>\n",
       "      <td>0.405936</td>\n",
       "      <td>5.558798e-16</td>\n",
       "      <td>11.27594</td>\n",
       "      <td>0.882374</td>\n",
       "      <td>2.091360</td>\n",
       "      <td>51.580584</td>\n",
       "    </tr>\n",
       "    <tr>\n",
       "      <th>min</th>\n",
       "      <td>1.0</td>\n",
       "      <td>7.490000e-02</td>\n",
       "      <td>50.0</td>\n",
       "      <td>1.0</td>\n",
       "      <td>0.299700</td>\n",
       "      <td>1.498000e-01</td>\n",
       "      <td>15.00000</td>\n",
       "      <td>0.299700</td>\n",
       "      <td>1.727000</td>\n",
       "      <td>180.000000</td>\n",
       "    </tr>\n",
       "    <tr>\n",
       "      <th>25%</th>\n",
       "      <td>1.0</td>\n",
       "      <td>7.490000e-02</td>\n",
       "      <td>50.0</td>\n",
       "      <td>1.0</td>\n",
       "      <td>0.599500</td>\n",
       "      <td>1.498000e-01</td>\n",
       "      <td>20.00000</td>\n",
       "      <td>0.599500</td>\n",
       "      <td>2.014000</td>\n",
       "      <td>320.000000</td>\n",
       "    </tr>\n",
       "    <tr>\n",
       "      <th>50%</th>\n",
       "      <td>1.0</td>\n",
       "      <td>7.490000e-02</td>\n",
       "      <td>50.0</td>\n",
       "      <td>1.0</td>\n",
       "      <td>0.899300</td>\n",
       "      <td>1.498000e-01</td>\n",
       "      <td>30.00000</td>\n",
       "      <td>0.899300</td>\n",
       "      <td>2.615000</td>\n",
       "      <td>338.000000</td>\n",
       "    </tr>\n",
       "    <tr>\n",
       "      <th>75%</th>\n",
       "      <td>1.0</td>\n",
       "      <td>7.490000e-02</td>\n",
       "      <td>50.0</td>\n",
       "      <td>1.0</td>\n",
       "      <td>1.199100</td>\n",
       "      <td>1.498000e-01</td>\n",
       "      <td>45.00000</td>\n",
       "      <td>2.098500</td>\n",
       "      <td>5.300000</td>\n",
       "      <td>346.000000</td>\n",
       "    </tr>\n",
       "    <tr>\n",
       "      <th>max</th>\n",
       "      <td>1.0</td>\n",
       "      <td>7.490000e-02</td>\n",
       "      <td>50.0</td>\n",
       "      <td>1.0</td>\n",
       "      <td>1.498900</td>\n",
       "      <td>1.498000e-01</td>\n",
       "      <td>45.00000</td>\n",
       "      <td>2.997900</td>\n",
       "      <td>8.020000</td>\n",
       "      <td>359.900000</td>\n",
       "    </tr>\n",
       "  </tbody>\n",
       "</table>\n",
       "</div>"
      ],
      "text/plain": [
       "       Frequency(GHz) (f)  Dipole_length (L)  Impedance (z)   \n",
       "count               362.0       3.620000e+02          362.0  \\\n",
       "mean                  1.0       7.490000e-02           50.0   \n",
       "std                   0.0       2.779399e-16            0.0   \n",
       "min                   1.0       7.490000e-02           50.0   \n",
       "25%                   1.0       7.490000e-02           50.0   \n",
       "50%                   1.0       7.490000e-02           50.0   \n",
       "75%                   1.0       7.490000e-02           50.0   \n",
       "max                   1.0       7.490000e-02           50.0   \n",
       "\n",
       "       Wire Radius(mm) (rho)  Radius of curvature (m) (a)   \n",
       "count                  362.0                   362.000000  \\\n",
       "mean                     1.0                     0.956444   \n",
       "std                      0.0                     0.405936   \n",
       "min                      1.0                     0.299700   \n",
       "25%                      1.0                     0.599500   \n",
       "50%                      1.0                     0.899300   \n",
       "75%                      1.0                     1.199100   \n",
       "max                      1.0                     1.498900   \n",
       "\n",
       "       Curved surface height(m) (h)  Angle(theta)  Distance(m) (d)   \n",
       "count                  3.620000e+02     362.00000       362.000000  \\\n",
       "mean                   1.498000e-01      30.00000         1.312560   \n",
       "std                    5.558798e-16      11.27594         0.882374   \n",
       "min                    1.498000e-01      15.00000         0.299700   \n",
       "25%                    1.498000e-01      20.00000         0.599500   \n",
       "50%                    1.498000e-01      30.00000         0.899300   \n",
       "75%                    1.498000e-01      45.00000         2.098500   \n",
       "max                    1.498000e-01      45.00000         2.997900   \n",
       "\n",
       "         Max_gain  Direction_max_gain  \n",
       "count  362.000000          362.000000  \n",
       "mean     3.743115          317.594199  \n",
       "std      2.091360           51.580584  \n",
       "min      1.727000          180.000000  \n",
       "25%      2.014000          320.000000  \n",
       "50%      2.615000          338.000000  \n",
       "75%      5.300000          346.000000  \n",
       "max      8.020000          359.900000  "
      ]
     },
     "execution_count": 37,
     "metadata": {},
     "output_type": "execute_result"
    }
   ],
   "source": [
    "df.describe()"
   ]
  },
  {
   "cell_type": "code",
   "execution_count": 39,
   "id": "c60ea2ea",
   "metadata": {},
   "outputs": [
    {
     "data": {
      "text/plain": [
       "count    362.000000\n",
       "mean       3.743115\n",
       "std        2.091360\n",
       "min        1.727000\n",
       "25%        2.014000\n",
       "50%        2.615000\n",
       "75%        5.300000\n",
       "max        8.020000\n",
       "Name: Max_gain, dtype: float64"
      ]
     },
     "execution_count": 39,
     "metadata": {},
     "output_type": "execute_result"
    }
   ],
   "source": [
    "y_1.describe()"
   ]
  },
  {
   "cell_type": "code",
   "execution_count": 40,
   "id": "480970b7",
   "metadata": {},
   "outputs": [
    {
     "data": {
      "text/plain": [
       "count    362.000000\n",
       "mean     317.594199\n",
       "std       51.580584\n",
       "min      180.000000\n",
       "25%      320.000000\n",
       "50%      338.000000\n",
       "75%      346.000000\n",
       "max      359.900000\n",
       "Name: Direction_max_gain, dtype: float64"
      ]
     },
     "execution_count": 40,
     "metadata": {},
     "output_type": "execute_result"
    }
   ],
   "source": [
    "y_2.describe()"
   ]
  },
  {
   "cell_type": "code",
   "execution_count": 49,
   "id": "dc2212e9",
   "metadata": {},
   "outputs": [],
   "source": [
    "from sklearn.model_selection import train_test_split"
   ]
  },
  {
   "cell_type": "code",
   "execution_count": 80,
   "id": "2b685868",
   "metadata": {},
   "outputs": [],
   "source": [
    "X_train_1, X_test_1, y_train_1 , y_test_1 =train_test_split(X_scaled, y_1_scaled, test_size=0.33,random_state=42)"
   ]
  },
  {
   "cell_type": "code",
   "execution_count": 58,
   "id": "c9acf599",
   "metadata": {},
   "outputs": [],
   "source": [
    "X_train_2, X_test_2, y_train_2 , y_test_2 =train_test_split(X_scaled, y_2_scaled, test_size=0.33,random_state=42)"
   ]
  },
  {
   "cell_type": "code",
   "execution_count": 59,
   "id": "5b029fd3",
   "metadata": {},
   "outputs": [],
   "source": [
    "X_train_3, X_test_3, y_train_3 , y_test_3 =train_test_split(X_scaled, y_3, test_size=0.33,random_state=42)"
   ]
  },
  {
   "cell_type": "markdown",
   "id": "2cf6b504",
   "metadata": {},
   "source": [
    "# SVM"
   ]
  },
  {
   "cell_type": "code",
   "execution_count": 60,
   "id": "e6606ebc",
   "metadata": {},
   "outputs": [],
   "source": [
    "from sklearn.svm import SVR"
   ]
  },
  {
   "cell_type": "code",
   "execution_count": 61,
   "id": "07301bba",
   "metadata": {},
   "outputs": [],
   "source": [
    "from sklearn.metrics import mean_squared_error\n",
    "from sklearn.metrics import mean_absolute_error"
   ]
  },
  {
   "cell_type": "code",
   "execution_count": 1,
   "id": "dcab7a09",
   "metadata": {},
   "outputs": [
    {
     "ename": "NameError",
     "evalue": "name 'SVR' is not defined",
     "output_type": "error",
     "traceback": [
      "\u001b[1;31m---------------------------------------------------------------------------\u001b[0m",
      "\u001b[1;31mNameError\u001b[0m                                 Traceback (most recent call last)",
      "Cell \u001b[1;32mIn[1], line 1\u001b[0m\n\u001b[1;32m----> 1\u001b[0m svr_linear\u001b[38;5;241m=\u001b[39m \u001b[43mSVR\u001b[49m(kernel\u001b[38;5;241m=\u001b[39m\u001b[38;5;124m'\u001b[39m\u001b[38;5;124mlinear\u001b[39m\u001b[38;5;124m'\u001b[39m)\n\u001b[0;32m      2\u001b[0m svr_linear\u001b[38;5;241m.\u001b[39mfit(X_train_1, y_train_1)\n\u001b[0;32m      4\u001b[0m y1_pred \u001b[38;5;241m=\u001b[39m svr_linear\u001b[38;5;241m.\u001b[39mpredict(X_test_1)\n",
      "\u001b[1;31mNameError\u001b[0m: name 'SVR' is not defined"
     ]
    }
   ],
   "source": [
    "svr_linear= SVR(kernel='linear')\n",
    "svr_linear.fit(X_train_1, y_train_1)\n",
    "\n",
    "y1_pred = svr_linear.predict(X_test_1)\n",
    "mse_1=mean_squared_error(y_test_1, y1_pred)\n",
    "print('MSE for predicting the MAXIMUM GAIN using linear SVR is ' ,mse_1)\n",
    "\n",
    "mae_1= mean_absolute_error(y_test_1, y1_pred)\n",
    "print('MAE for predicting the MAXIMUM GAIN using linear SVR is ',mae_1)"
   ]
  },
  {
   "cell_type": "code",
   "execution_count": 69,
   "id": "8aed8106",
   "metadata": {},
   "outputs": [
    {
     "name": "stdout",
     "output_type": "stream",
     "text": [
      "MSE for predicting the DIRECTION OF MAXIMUM GAIN using linear SVR is  0.8594394408363935\n",
      "MAE for predicting the DIRECTION OF MAXIMUM GAIN using linear SVR is  0.5416407107857768\n"
     ]
    }
   ],
   "source": [
    "svr_linear= SVR(kernel='linear')\n",
    "svr_linear.fit(X_train_2, y_train_2)\n",
    "\n",
    "y2_pred = svr_linear.predict(X_test_2)\n",
    "mse_2=mean_squared_error(y_test_2, y2_pred)\n",
    "print('MSE for predicting the DIRECTION OF MAXIMUM GAIN using linear SVR is ' ,mse_2)\n",
    "\n",
    "mae_2= mean_absolute_error(y_test_1, y1_pred)\n",
    "print('MAE for predicting the DIRECTION OF MAXIMUM GAIN using linear SVR is ',mae_2)"
   ]
  },
  {
   "cell_type": "code",
   "execution_count": 70,
   "id": "36cb469b",
   "metadata": {},
   "outputs": [
    {
     "name": "stdout",
     "output_type": "stream",
     "text": [
      "MSE for predicting the MAXIMUM GAIN using SVR with rbf kernel and default parameters is  0.17407612606570635\n",
      "MAE for predicting the MAXIMUM GAIN using SVR with rbf kernel and default parameters is   0.20738300213003769\n"
     ]
    }
   ],
   "source": [
    "svr_rbf = SVR(kernel='rbf')\n",
    "svr_rbf.fit(X_train_1, y_train_1)\n",
    "\n",
    "\n",
    "y1_pred = svr_rbf.predict(X_test_1)\n",
    "mse_1=mean_squared_error(y_test_1, y1_pred)\n",
    "print('MSE for predicting the MAXIMUM GAIN using SVR with rbf kernel and default parameters is ',mse_1)\n",
    "\n",
    "mae_1= mean_absolute_error(y_test_1, y1_pred)\n",
    "print('MAE for predicting the MAXIMUM GAIN using SVR with rbf kernel and default parameters is  ',mae_1)"
   ]
  },
  {
   "cell_type": "code",
   "execution_count": 71,
   "id": "5f25e0df",
   "metadata": {},
   "outputs": [
    {
     "name": "stdout",
     "output_type": "stream",
     "text": [
      "MSE for predicting the MAXIMUM GAIN using SVR with rbf kernel and default parameters is  0.3948419644640193\n",
      "MAE for predicting the MAXIMUM GAIN using SVR with rbf kernel and default parameters is   0.28516481263964194\n"
     ]
    }
   ],
   "source": [
    "svr_rbf = SVR(kernel='rbf')\n",
    "svr_rbf.fit(X_train_2, y_train_2)\n",
    "\n",
    "\n",
    "y2_pred = svr_rbf.predict(X_test_2)\n",
    "mse_2=mean_squared_error(y_test_2, y2_pred)\n",
    "print('MSE for predicting the DIRECTION OF MAXIMUM GAIN using SVR with rbf kernel and default parameters is ',mse_2)\n",
    "\n",
    "mae_2= mean_absolute_error(y_test_2, y2_pred)\n",
    "print('MAE for predicting the DIRECTION OF MAXIMUM GAIN using SVR with rbf kernel and default parameters is  ',mae_2)"
   ]
  },
  {
   "cell_type": "markdown",
   "id": "b39c2762",
   "metadata": {},
   "source": [
    "# K-Nearest Neighbour Model"
   ]
  },
  {
   "cell_type": "code",
   "execution_count": 75,
   "id": "e83a35f5",
   "metadata": {},
   "outputs": [],
   "source": [
    "from sklearn.neighbors import KNeighborsRegressor"
   ]
  },
  {
   "cell_type": "code",
   "execution_count": 78,
   "id": "91dadb29",
   "metadata": {},
   "outputs": [
    {
     "name": "stdout",
     "output_type": "stream",
     "text": [
      "MSE for predicting the MAXIMUM GAIN using knn when k= 3 is 0.11008\n",
      "MSE for predicting the MAXIMUM GAIN using knn when k= 3 is 0.11471\n"
     ]
    }
   ],
   "source": [
    "best_k=0\n",
    "mse_1_knn=10\n",
    "mae_1_knn=10\n",
    "for k in range(1,7):\n",
    "    knn = KNeighborsRegressor(n_neighbors=k)\n",
    "    knn.fit(X_train_1, y_train_1)\n",
    "    y_pred1_knn = knn.predict(X_test_1)\n",
    "    if (mse_1_knn>mean_squared_error(y_test_1, y_pred1_knn, multioutput='uniform_average', squared=True)):\n",
    "        best_k =k\n",
    "        mae_1_knn= mean_absolute_error(y_test_1, y_pred1_knn)\n",
    "    mse_1_knn=min(mse_1_knn,mean_squared_error(y_test_1, y_pred1_knn, multioutput='uniform_average', squared=True))\n",
    "    \n",
    "print('MSE for predicting the MAXIMUM GAIN using knn when k=' ,best_k, 'is ',end='')\n",
    "print('%.5f'%(mse_1_knn))\n",
    "\n",
    "print('MSE for predicting the MAXIMUM GAIN using knn when k=',best_k, 'is ',end='')\n",
    "print('%.5f'%(mae_1_knn))"
   ]
  },
  {
   "cell_type": "code",
   "execution_count": 79,
   "id": "60f57132",
   "metadata": {},
   "outputs": [
    {
     "name": "stdout",
     "output_type": "stream",
     "text": [
      "MSE for predicting the DIRECTION OF MAXIMUM GAIN using knn when k= 5 is 0.28285\n",
      "MSE for predicting the DIRECTION OF MAXIMUM GAIN using knn when k= 5 is 0.24095\n"
     ]
    }
   ],
   "source": [
    "best_k=0\n",
    "mse_2_knn=10\n",
    "mae_2_knn=10\n",
    "for k in range(1,6):\n",
    "    knn = KNeighborsRegressor(n_neighbors=k)\n",
    "    knn.fit(X_train_2, y_train_2)\n",
    "    y_pred2_knn = knn.predict(X_test_2)\n",
    "    if(mse_2_knn >mse_2_knn,mean_squared_error(y_test_2, y_pred2_knn, multioutput='uniform_average', squared=True)):\n",
    "        best_k=k\n",
    "        mae_2_knn= mean_absolute_error(y_test_2, y_pred2_knn)\n",
    "        \n",
    "\n",
    "    mse_2_knn=min(mse_2_knn,mean_squared_error(y_test_2, y_pred2_knn, multioutput='uniform_average', squared=True))\n",
    "print('MSE for predicting the DIRECTION OF MAXIMUM GAIN using knn when k=' ,best_k, 'is ',end='')\n",
    "print('%.5f'%(mse_2_knn))\n",
    "\n",
    "\n",
    "print('MSE for predicting the DIRECTION OF MAXIMUM GAIN using knn when k=' ,best_k, 'is ',end='')\n",
    "print('%.5f'%(mae_2_knn))"
   ]
  },
  {
   "cell_type": "markdown",
   "id": "d01d3d4d",
   "metadata": {},
   "source": [
    "# Random Forest"
   ]
  },
  {
   "cell_type": "code",
   "execution_count": 83,
   "id": "f6a780ae",
   "metadata": {},
   "outputs": [],
   "source": [
    "from sklearn.ensemble import RandomForestRegressor"
   ]
  },
  {
   "cell_type": "code",
   "execution_count": 84,
   "id": "fc8cd60b",
   "metadata": {},
   "outputs": [
    {
     "name": "stdout",
     "output_type": "stream",
     "text": [
      "MSE for predicting the MAXIMUM GAIN using Random Forest is 0.05931\n",
      "MAE for predicting the MAXIMUM GAIN using Random Forest is 0.06906\n"
     ]
    }
   ],
   "source": [
    "mse_1_regressor=10\n",
    "mae_1_regressor=10\n",
    "regressor = RandomForestRegressor(n_estimators = 100, random_state = 0)\n",
    "regressor.fit(X_train_1, y_train_1)\n",
    "y_pred1_regressor = regressor.predict(X_test_1)\n",
    "if (mse_1_regressor>mean_squared_error(y_test_1, y_pred1_regressor, multioutput='uniform_average', squared=True)):\n",
    "    best_k =k\n",
    "    mae_1_regressor= mean_absolute_error(y_test_1, y_pred1_regressor)\n",
    "mse_1_regressor=min(mse_1_regressor,mean_squared_error(y_test_1, y_pred1_regressor, multioutput='uniform_average', squared=True))\n",
    "\n",
    "print('MSE for predicting the MAXIMUM GAIN using Random Forest' , 'is ',end='')\n",
    "print('%.5f'%(mse_1_regressor))\n",
    "\n",
    "print('MAE for predicting the MAXIMUM GAIN using Random Forest' , 'is ',end='')\n",
    "print('%.5f'%(mae_1_regressor))"
   ]
  },
  {
   "cell_type": "code",
   "execution_count": 85,
   "id": "9397ba4f",
   "metadata": {},
   "outputs": [
    {
     "name": "stdout",
     "output_type": "stream",
     "text": [
      "MSE for predicting the DIRECTION OF MAXIMUM GAIN using Random Forest is 0.22321\n",
      "MAE for predicting the DIRECTION OF MAXIMUM GAIN using Random Forest is 0.14538\n"
     ]
    }
   ],
   "source": [
    "mse_2_regressor=10\n",
    "mae_2_regressor=10\n",
    "regressor = RandomForestRegressor(n_estimators = 100, random_state = 0)\n",
    "regressor.fit(X_train_2, y_train_2)\n",
    "y_pred2_regressor = regressor.predict(X_test_2)\n",
    "if (mse_2_regressor>mean_squared_error(y_test_2, y_pred2_regressor, multioutput='uniform_average', squared=True)):\n",
    "    best_k =k\n",
    "    mae_2_regressor= mean_absolute_error(y_test_2, y_pred2_regressor)\n",
    "mse_2_regressor=min(mse_2_regressor,mean_squared_error(y_test_2, y_pred2_regressor, multioutput='uniform_average', squared=True))\n",
    "\n",
    "print('MSE for predicting the DIRECTION OF MAXIMUM GAIN using Random Forest' , 'is ',end='')\n",
    "print('%.5f'%(mse_2_regressor))\n",
    "\n",
    "print('MAE for predicting the DIRECTION OF MAXIMUM GAIN using Random Forest' , 'is ',end='')\n",
    "print('%.5f'%(mae_2_regressor))"
   ]
  },
  {
   "cell_type": "markdown",
   "id": "59d6c010",
   "metadata": {},
   "source": [
    "# classification Logistic Regression"
   ]
  },
  {
   "cell_type": "code",
   "execution_count": 86,
   "id": "3903d9de",
   "metadata": {},
   "outputs": [],
   "source": [
    "from sklearn.linear_model import LogisticRegression"
   ]
  },
  {
   "cell_type": "code",
   "execution_count": 95,
   "id": "308f1005",
   "metadata": {},
   "outputs": [],
   "source": [
    "from sklearn.metrics import confusion_matrix, ConfusionMatrixDisplay"
   ]
  },
  {
   "cell_type": "code",
   "execution_count": 98,
   "id": "bf6201a2",
   "metadata": {},
   "outputs": [],
   "source": [
    "from sklearn.metrics import accuracy_score"
   ]
  },
  {
   "cell_type": "code",
   "execution_count": 99,
   "id": "685e85fb",
   "metadata": {},
   "outputs": [
    {
     "data": {
      "image/png": "[encoded data removed]",
      "text/plain": [
       "<Figure size 640x480 with 2 Axes>"
      ]
     },
     "metadata": {},
     "output_type": "display_data"
    },
    {
     "name": "stdout",
     "output_type": "stream",
     "text": [
      "Accuracy of Logistic Regression model in predicting the REFLECTION PATTERN: 0.86667\n"
     ]
    }
   ],
   "source": [
    "logisticRegr = LogisticRegression()\n",
    "logisticRegr.fit(X_train_3, y_train_3)\n",
    "y_pred_logistic = logisticRegr.predict(X_test_3)\n",
    "cm = confusion_matrix(y_test_3, y_pred_logistic, labels=logisticRegr.classes_)\n",
    "disp = ConfusionMatrixDisplay(confusion_matrix=cm,\n",
    "                              display_labels=logisticRegr.classes_)\n",
    "disp.plot()\n",
    "plt.show()\n",
    "\n",
    "a_logistic=accuracy_score(y_test_3, y_pred_logistic,normalize=True)\n",
    "print('Accuracy of Logistic Regression model in predicting the REFLECTION PATTERN:','%.5f'%(a_logistic))"
   ]
  },
  {
   "cell_type": "markdown",
   "id": "291c4afb",
   "metadata": {},
   "source": [
    "# support vector classification"
   ]
  },
  {
   "cell_type": "code",
   "execution_count": 101,
   "id": "42d29446",
   "metadata": {},
   "outputs": [],
   "source": [
    "from sklearn.svm import SVC"
   ]
  },
  {
   "cell_type": "code",
   "execution_count": 103,
   "id": "8dd225be",
   "metadata": {},
   "outputs": [
    {
     "data": {
      "image/png": "[encoded data removed]",
      "text/plain": [
       "<Figure size 640x480 with 2 Axes>"
      ]
     },
     "metadata": {},
     "output_type": "display_data"
    },
    {
     "name": "stdout",
     "output_type": "stream",
     "text": [
      "Accuracy of SVC model with rbf kernel and default parameters in predicting the REFLECTION PATTERN: 0.91667\n"
     ]
    }
   ],
   "source": [
    "svm = SVC(kernel='linear')\n",
    "svm.fit(X_train_3, y_train_3)\n",
    "y_pred = svm.predict(X_test_3)\n",
    "cm = confusion_matrix(y_test_3, y_pred, labels=svm.classes_)\n",
    "disp = ConfusionMatrixDisplay(confusion_matrix=cm,\n",
    "                              display_labels=svm.classes_)\n",
    "disp.plot()\n",
    "plt.show()\n",
    "a_SVM_linear=accuracy_score(y_test_3, y_pred,normalize=True)\n",
    "print('Accuracy of SVC model with rbf kernel and default parameters in predicting the REFLECTION PATTERN:','%.5f'%(a_SVM_linear))\n"
   ]
  },
  {
   "cell_type": "code",
   "execution_count": 105,
   "id": "93e07a61",
   "metadata": {},
   "outputs": [
    {
     "data": {
      "image/png": "[encoded data removed]",
      "text/plain": [
       "<Figure size 640x480 with 2 Axes>"
      ]
     },
     "metadata": {},
     "output_type": "display_data"
    },
    {
     "name": "stdout",
     "output_type": "stream",
     "text": [
      "Accuracy of SVC model with rbf kernel and default parameters in predicting the REFLECTION PATTERN: 0.89167\n"
     ]
    }
   ],
   "source": [
    "svm = SVC()\n",
    "svm.fit(X_train_3, y_train_3)\n",
    "y_pred= svm.predict(X_test_3)\n",
    "cm = confusion_matrix(y_test_3, y_pred, labels=svm.classes_)\n",
    "disp = ConfusionMatrixDisplay(confusion_matrix=cm,\n",
    "                              display_labels=svm.classes_)\n",
    "disp.plot()\n",
    "plt.show()\n",
    "a_SVM=accuracy_score(y_test_3, y_pred,normalize=True)\n",
    "print('Accuracy of SVC model with rbf kernel and default parameters in predicting the REFLECTION PATTERN:','%.5f'%(a_SVM))"
   ]
  },
  {
   "cell_type": "markdown",
   "id": "fd957c8a",
   "metadata": {},
   "source": [
    "# KNeighborsClassification"
   ]
  },
  {
   "cell_type": "code",
   "execution_count": 106,
   "id": "9805af16",
   "metadata": {},
   "outputs": [],
   "source": [
    "from sklearn.neighbors import KNeighborsClassifier\n",
    "from sklearn.metrics import accuracy_score"
   ]
  },
  {
   "cell_type": "code",
   "execution_count": 107,
   "id": "b89de275",
   "metadata": {},
   "outputs": [
    {
     "data": {
      "image/png": "[encoded data removed]",
      "text/plain": [
       "<Figure size 640x480 with 2 Axes>"
      ]
     },
     "metadata": {},
     "output_type": "display_data"
    },
    {
     "name": "stdout",
     "output_type": "stream",
     "text": [
      "Accuracy of Knn model in predicting the REFLECTION PATTERN for k= 2 is: 0.95000\n"
     ]
    }
   ],
   "source": [
    "best_k=0\n",
    "best_acc=0\n",
    "for k in range(2,6):\n",
    "    knn = KNeighborsClassifier(n_neighbors=k)\n",
    "    knn.fit(X_train_3, y_train_3)\n",
    "    y_pred_3 = knn.predict(X_test_3)\n",
    "    if accuracy_score(y_test_3, y_pred_3,normalize=True ) > best_acc:\n",
    "        best_k=k\n",
    "    best_acc=max(best_acc,accuracy_score(y_test_3, y_pred_3,normalize=True ))\n",
    "knn = KNeighborsClassifier(n_neighbors=best_k)\n",
    "knn.fit(X_train_3, y_train_3)\n",
    "y_pred= svm.predict(X_test_3)\n",
    "cm = confusion_matrix(y_test_3, y_pred_3, labels=knn.classes_)\n",
    "disp = ConfusionMatrixDisplay(confusion_matrix=cm,\n",
    "                              display_labels=knn.classes_)\n",
    "disp.plot()\n",
    "plt.show()\n",
    "print('Accuracy of Knn model in predicting the REFLECTION PATTERN for k=',best_k,'is: ''%.5f'%(best_acc))\n"
   ]
  },
  {
   "cell_type": "markdown",
   "id": "964d11e3",
   "metadata": {},
   "source": [
    "# RandomForestClassification"
   ]
  },
  {
   "cell_type": "code",
   "execution_count": 108,
   "id": "9593a1aa",
   "metadata": {},
   "outputs": [],
   "source": [
    "from sklearn.ensemble import RandomForestClassifier"
   ]
  },
  {
   "cell_type": "code",
   "execution_count": 111,
   "id": "c63db53c",
   "metadata": {
    "scrolled": true
   },
   "outputs": [
    {
     "data": {
      "image/png": "[encoded data removed]",
      "text/plain": [
       "<Figure size 640x480 with 2 Axes>"
      ]
     },
     "metadata": {},
     "output_type": "display_data"
    },
    {
     "name": "stdout",
     "output_type": "stream",
     "text": [
      "Accuracy of Randomforest model in predicting the REFLECTION PATTERN is: 0.95000\n"
     ]
    }
   ],
   "source": [
    "best_k=0\n",
    "best_acc=0\n",
    "for k in range(2,6):\n",
    "    clf = RandomForestClassifier(n_estimators = 100)\n",
    "    clf.fit(X_train_3, y_train_3)\n",
    "    y_pred_3 = clf.predict(X_test_3)\n",
    "    if accuracy_score(y_test_3, y_pred_3,normalize=True ) > best_acc:\n",
    "        best_k=k\n",
    "    best_acc=max(best_acc,accuracy_score(y_test_3, y_pred_3,normalize=True ))\n",
    "random= RandomForestClassifier(n_estimators = 100)\n",
    "random.fit(X_train_3, y_train_3)\n",
    "cm = confusion_matrix(y_test_3, y_pred_3, labels=knn.classes_)\n",
    "disp = ConfusionMatrixDisplay(confusion_matrix=cm,\n",
    "                              display_labels=knn.classes_)\n",
    "disp.plot()\n",
    "plt.show()\n",
    "print('Accuracy of Randomforest model in predicting the REFLECTION PATTERN is: ''%.5f'%(best_acc))\n"
   ]
  },
  {
   "cell_type": "code",
   "execution_count": 114,
   "id": "093d96f0",
   "metadata": {},
   "outputs": [
    {
     "name": "stdout",
     "output_type": "stream",
     "text": [
      "Collecting xgboost\n",
      "  Downloading xgboost-1.7.6-py3-none-win_amd64.whl (70.9 MB)\n",
      "     ---------------------------------------- 70.9/70.9 MB 1.2 MB/s eta 0:00:00\n",
      "Requirement already satisfied: scipy in c:\\users\\hp\\anaconda3\\lib\\site-packages (from xgboost) (1.10.0)\n",
      "Requirement already satisfied: numpy in c:\\users\\hp\\anaconda3\\lib\\site-packages (from xgboost) (1.23.5)\n",
      "Installing collected packages: xgboost\n",
      "Successfully installed xgboost-1.7.6\n"
     ]
    }
   ],
   "source": [
    "!pip install xgboost"
   ]
  },
  {
   "cell_type": "code",
   "execution_count": 123,
   "id": "3266124a",
   "metadata": {},
   "outputs": [],
   "source": [
    "import xgboost as xgb"
   ]
  },
  {
   "cell_type": "code",
   "execution_count": null,
   "id": "2172457d",
   "metadata": {},
   "outputs": [],
   "source": []
  }
 ],
 "metadata": {
  "kernelspec": {
   "display_name": "Python 3 (ipykernel)",
   "language": "python",
   "name": "python3"
  },
  "language_info": {
   "codemirror_mode": {
    "name": "ipython",
    "version": 3
   },
   "file_extension": ".py",
   "mimetype": "text/x-python",
   "name": "python",
   "nbconvert_exporter": "python",
   "pygments_lexer": "ipython3",
   "version": "3.10.9"
  }
 },
 "nbformat": 4,
 "nbformat_minor": 5
}
